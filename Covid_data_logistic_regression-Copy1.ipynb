{
 "cells": [
  {
   "cell_type": "markdown",
   "metadata": {},
   "source": [
    "# Covid Data Project Solution"
   ]
  },
  {
   "cell_type": "markdown",
   "metadata": {},
   "source": [
    "<b>Import Libraries</b><br>\n",
    "\n",
    "Import pandas,seaborn, and the useful libraries."
   ]
  },
  {
   "cell_type": "code",
   "execution_count": 1,
   "metadata": {},
   "outputs": [],
   "source": [
    "#Importing the libraries\n",
    "import pandas as pd\n",
    "import numpy as np\n",
    "import seaborn as sns\n",
    "import matplotlib.pyplot as plt\n",
    "from sklearn.model_selection import train_test_split\n",
    "from sklearn import model_selection\n",
    "from sklearn.decomposition import PCA\n",
    "from sklearn.preprocessing import StandardScaler\n",
    "from sklearn.metrics import f1_score,classification_report,plot_confusion_matrix\n",
    "from sklearn.linear_model import LogisticRegression"
   ]
  },
  {
   "cell_type": "markdown",
   "metadata": {},
   "source": [
    "<b>The Data</b>"
   ]
  },
  {
   "cell_type": "code",
   "execution_count": 2,
   "metadata": {},
   "outputs": [
    {
     "data": {
      "text/html": [
       "<div>\n",
       "<style scoped>\n",
       "    .dataframe tbody tr th:only-of-type {\n",
       "        vertical-align: middle;\n",
       "    }\n",
       "\n",
       "    .dataframe tbody tr th {\n",
       "        vertical-align: top;\n",
       "    }\n",
       "\n",
       "    .dataframe thead th {\n",
       "        text-align: right;\n",
       "    }\n",
       "</style>\n",
       "<table border=\"1\" class=\"dataframe\">\n",
       "  <thead>\n",
       "    <tr style=\"text-align: right;\">\n",
       "      <th></th>\n",
       "      <th>Sample</th>\n",
       "      <th>Age</th>\n",
       "      <th>Sex</th>\n",
       "      <th>Severity</th>\n",
       "      <th>A1BG</th>\n",
       "      <th>A1CF</th>\n",
       "      <th>A2M</th>\n",
       "      <th>A2ML1</th>\n",
       "      <th>A3GALT2</th>\n",
       "      <th>A4GALT</th>\n",
       "      <th>...</th>\n",
       "      <th>ZWILCH</th>\n",
       "      <th>ZWINT</th>\n",
       "      <th>ZXDA</th>\n",
       "      <th>ZXDB</th>\n",
       "      <th>ZXDC</th>\n",
       "      <th>ZYG11A</th>\n",
       "      <th>ZYG11B</th>\n",
       "      <th>ZYX</th>\n",
       "      <th>ZZEF1</th>\n",
       "      <th>ZZZ3</th>\n",
       "    </tr>\n",
       "  </thead>\n",
       "  <tbody>\n",
       "    <tr>\n",
       "      <th>0</th>\n",
       "      <td>C1</td>\n",
       "      <td>39</td>\n",
       "      <td>male</td>\n",
       "      <td>NonICU</td>\n",
       "      <td>0.49</td>\n",
       "      <td>0.00</td>\n",
       "      <td>0.21</td>\n",
       "      <td>0.04</td>\n",
       "      <td>0.07</td>\n",
       "      <td>0.0</td>\n",
       "      <td>...</td>\n",
       "      <td>2.84</td>\n",
       "      <td>4.22</td>\n",
       "      <td>0.95</td>\n",
       "      <td>1.63</td>\n",
       "      <td>15.51</td>\n",
       "      <td>0.06</td>\n",
       "      <td>8.17</td>\n",
       "      <td>363.01</td>\n",
       "      <td>19.17</td>\n",
       "      <td>6.05</td>\n",
       "    </tr>\n",
       "    <tr>\n",
       "      <th>1</th>\n",
       "      <td>C2</td>\n",
       "      <td>63</td>\n",
       "      <td>male</td>\n",
       "      <td>NonICU</td>\n",
       "      <td>0.29</td>\n",
       "      <td>0.00</td>\n",
       "      <td>0.14</td>\n",
       "      <td>0.00</td>\n",
       "      <td>0.00</td>\n",
       "      <td>0.0</td>\n",
       "      <td>...</td>\n",
       "      <td>3.55</td>\n",
       "      <td>12.15</td>\n",
       "      <td>0.60</td>\n",
       "      <td>1.15</td>\n",
       "      <td>15.62</td>\n",
       "      <td>0.14</td>\n",
       "      <td>8.20</td>\n",
       "      <td>399.80</td>\n",
       "      <td>15.72</td>\n",
       "      <td>4.12</td>\n",
       "    </tr>\n",
       "    <tr>\n",
       "      <th>2</th>\n",
       "      <td>C3</td>\n",
       "      <td>33</td>\n",
       "      <td>male</td>\n",
       "      <td>NonICU</td>\n",
       "      <td>0.26</td>\n",
       "      <td>0.00</td>\n",
       "      <td>0.03</td>\n",
       "      <td>0.02</td>\n",
       "      <td>0.00</td>\n",
       "      <td>0.0</td>\n",
       "      <td>...</td>\n",
       "      <td>1.34</td>\n",
       "      <td>2.79</td>\n",
       "      <td>0.18</td>\n",
       "      <td>0.32</td>\n",
       "      <td>17.67</td>\n",
       "      <td>0.28</td>\n",
       "      <td>3.62</td>\n",
       "      <td>430.35</td>\n",
       "      <td>13.95</td>\n",
       "      <td>1.81</td>\n",
       "    </tr>\n",
       "    <tr>\n",
       "      <th>3</th>\n",
       "      <td>C4</td>\n",
       "      <td>49</td>\n",
       "      <td>male</td>\n",
       "      <td>NonICU</td>\n",
       "      <td>0.45</td>\n",
       "      <td>0.01</td>\n",
       "      <td>0.09</td>\n",
       "      <td>0.07</td>\n",
       "      <td>0.00</td>\n",
       "      <td>0.0</td>\n",
       "      <td>...</td>\n",
       "      <td>3.71</td>\n",
       "      <td>5.87</td>\n",
       "      <td>1.40</td>\n",
       "      <td>2.21</td>\n",
       "      <td>15.61</td>\n",
       "      <td>0.27</td>\n",
       "      <td>7.88</td>\n",
       "      <td>209.25</td>\n",
       "      <td>14.78</td>\n",
       "      <td>7.15</td>\n",
       "    </tr>\n",
       "    <tr>\n",
       "      <th>4</th>\n",
       "      <td>C5</td>\n",
       "      <td>49</td>\n",
       "      <td>male</td>\n",
       "      <td>NonICU</td>\n",
       "      <td>0.17</td>\n",
       "      <td>0.00</td>\n",
       "      <td>0.00</td>\n",
       "      <td>0.05</td>\n",
       "      <td>0.07</td>\n",
       "      <td>0.0</td>\n",
       "      <td>...</td>\n",
       "      <td>1.44</td>\n",
       "      <td>4.46</td>\n",
       "      <td>0.28</td>\n",
       "      <td>0.55</td>\n",
       "      <td>9.34</td>\n",
       "      <td>0.07</td>\n",
       "      <td>5.96</td>\n",
       "      <td>272.91</td>\n",
       "      <td>8.69</td>\n",
       "      <td>2.70</td>\n",
       "    </tr>\n",
       "  </tbody>\n",
       "</table>\n",
       "<p>5 rows × 19476 columns</p>\n",
       "</div>"
      ],
      "text/plain": [
       "  Sample  Age   Sex Severity  A1BG  A1CF   A2M  A2ML1  A3GALT2  A4GALT  ...  \\\n",
       "0     C1   39  male   NonICU  0.49  0.00  0.21   0.04     0.07     0.0  ...   \n",
       "1     C2   63  male   NonICU  0.29  0.00  0.14   0.00     0.00     0.0  ...   \n",
       "2     C3   33  male   NonICU  0.26  0.00  0.03   0.02     0.00     0.0  ...   \n",
       "3     C4   49  male   NonICU  0.45  0.01  0.09   0.07     0.00     0.0  ...   \n",
       "4     C5   49  male   NonICU  0.17  0.00  0.00   0.05     0.07     0.0  ...   \n",
       "\n",
       "   ZWILCH  ZWINT  ZXDA  ZXDB   ZXDC  ZYG11A  ZYG11B     ZYX  ZZEF1  ZZZ3  \n",
       "0    2.84   4.22  0.95  1.63  15.51    0.06    8.17  363.01  19.17  6.05  \n",
       "1    3.55  12.15  0.60  1.15  15.62    0.14    8.20  399.80  15.72  4.12  \n",
       "2    1.34   2.79  0.18  0.32  17.67    0.28    3.62  430.35  13.95  1.81  \n",
       "3    3.71   5.87  1.40  2.21  15.61    0.27    7.88  209.25  14.78  7.15  \n",
       "4    1.44   4.46  0.28  0.55   9.34    0.07    5.96  272.91   8.69  2.70  \n",
       "\n",
       "[5 rows x 19476 columns]"
      ]
     },
     "execution_count": 2,
     "metadata": {},
     "output_type": "execute_result"
    }
   ],
   "source": [
    "#Reading the dataset as dataframe df\n",
    "df=pd.read_csv('C:\\\\Users\\\\user\\\\Desktop\\\\4050 new\\\\covid_data.csv')\n",
    "#Displaying the top 5 rows of the csv file\n",
    "df.head()"
   ]
  },
  {
   "cell_type": "code",
   "execution_count": 3,
   "metadata": {},
   "outputs": [
    {
     "data": {
      "text/plain": [
       "(126, 19476)"
      ]
     },
     "execution_count": 3,
     "metadata": {},
     "output_type": "execute_result"
    }
   ],
   "source": [
    "df.shape"
   ]
  },
  {
   "cell_type": "markdown",
   "metadata": {},
   "source": [
    "<b>Exploratory Data Analysis</b>"
   ]
  },
  {
   "cell_type": "code",
   "execution_count": 468,
   "metadata": {},
   "outputs": [
    {
     "data": {
      "text/plain": [
       "Text(0.5, 0, 'Age')"
      ]
     },
     "execution_count": 468,
     "metadata": {},
     "output_type": "execute_result"
    },
    {
     "data": {
      "image/png": "[encoded data removed]",
      "text/plain": [
       "<Figure size 432x288 with 1 Axes>"
      ]
     },
     "metadata": {},
     "output_type": "display_data"
    }
   ],
   "source": [
    "sns.set_style('whitegrid')\n",
    "df['Age'].hist(bins=30)\n",
    "plt.xlabel('Age')"
   ]
  },
  {
   "cell_type": "markdown",
   "metadata": {},
   "source": [
    "From the above plot we can see the number of patients in each age group."
   ]
  },
  {
   "cell_type": "code",
   "execution_count": 469,
   "metadata": {},
   "outputs": [
    {
     "data": {
      "text/plain": [
       "<matplotlib.axes._subplots.AxesSubplot at 0x7a52847760>"
      ]
     },
     "execution_count": 469,
     "metadata": {},
     "output_type": "execute_result"
    },
    {
     "data": {
      "image/png": "[encoded data removed]",
      "text/plain": [
       "<Figure size 720x504 with 1 Axes>"
      ]
     },
     "metadata": {},
     "output_type": "display_data"
    }
   ],
   "source": [
    "plt.figure(figsize=(10,7))\n",
    "sns.countplot(x='Sex',hue='Severity',data=df,palette='Set1')"
   ]
  },
  {
   "cell_type": "markdown",
   "metadata": {},
   "source": [
    "We can see that in males, there are more ICU patients than NonICU and in females, there are more NonICU patients than ICU patients.\n"
   ]
  },
  {
   "cell_type": "code",
   "execution_count": 388,
   "metadata": {},
   "outputs": [
    {
     "data": {
      "text/plain": [
       "<matplotlib.axes._subplots.AxesSubplot at 0x7a4c2e6be0>"
      ]
     },
     "execution_count": 388,
     "metadata": {},
     "output_type": "execute_result"
    },
    {
     "data": {
      "image/png": "[encoded data removed]",
      "text/plain": [
       "<Figure size 1440x720 with 1 Axes>"
      ]
     },
     "metadata": {},
     "output_type": "display_data"
    }
   ],
   "source": [
    "plt.figure(figsize=(20,10))\n",
    "sns.countplot(x='Age',hue='Severity',data=df,palette='Set1')"
   ]
  },
  {
   "cell_type": "markdown",
   "metadata": {},
   "source": [
    "From the above graph, patients admitted in ICU is more for the age group 62."
   ]
  },
  {
   "cell_type": "code",
   "execution_count": 4,
   "metadata": {},
   "outputs": [
    {
     "name": "stdout",
     "output_type": "stream",
     "text": [
      "<class 'pandas.core.frame.DataFrame'>\n",
      "RangeIndex: 126 entries, 0 to 125\n",
      "Columns: 19476 entries, Sample to ZZZ3\n",
      "dtypes: float64(19472), int64(1), object(3)\n",
      "memory usage: 18.7+ MB\n"
     ]
    }
   ],
   "source": [
    "#Checking for missing alues and datatypes of the dataset.\n",
    "df.info()"
   ]
  },
  {
   "cell_type": "code",
   "execution_count": 5,
   "metadata": {},
   "outputs": [],
   "source": [
    "df=pd.get_dummies(df, columns=['Sex'])"
   ]
  },
  {
   "cell_type": "code",
   "execution_count": 6,
   "metadata": {},
   "outputs": [
    {
     "data": {
      "text/html": [
       "<div>\n",
       "<style scoped>\n",
       "    .dataframe tbody tr th:only-of-type {\n",
       "        vertical-align: middle;\n",
       "    }\n",
       "\n",
       "    .dataframe tbody tr th {\n",
       "        vertical-align: top;\n",
       "    }\n",
       "\n",
       "    .dataframe thead th {\n",
       "        text-align: right;\n",
       "    }\n",
       "</style>\n",
       "<table border=\"1\" class=\"dataframe\">\n",
       "  <thead>\n",
       "    <tr style=\"text-align: right;\">\n",
       "      <th></th>\n",
       "      <th>A1BG</th>\n",
       "      <th>A1CF</th>\n",
       "      <th>A2M</th>\n",
       "      <th>A2ML1</th>\n",
       "      <th>A3GALT2</th>\n",
       "      <th>A4GALT</th>\n",
       "      <th>A4GNT</th>\n",
       "      <th>AAAS</th>\n",
       "      <th>AACS</th>\n",
       "      <th>AADAC</th>\n",
       "      <th>...</th>\n",
       "      <th>ZXDB</th>\n",
       "      <th>ZXDC</th>\n",
       "      <th>ZYG11A</th>\n",
       "      <th>ZYG11B</th>\n",
       "      <th>ZYX</th>\n",
       "      <th>ZZEF1</th>\n",
       "      <th>ZZZ3</th>\n",
       "      <th>Sex_female</th>\n",
       "      <th>Sex_male</th>\n",
       "      <th>Sex_unknown</th>\n",
       "    </tr>\n",
       "  </thead>\n",
       "  <tbody>\n",
       "    <tr>\n",
       "      <th>0</th>\n",
       "      <td>0.49</td>\n",
       "      <td>0.00</td>\n",
       "      <td>0.21</td>\n",
       "      <td>0.04</td>\n",
       "      <td>0.07</td>\n",
       "      <td>0.0</td>\n",
       "      <td>0.03</td>\n",
       "      <td>18.92</td>\n",
       "      <td>4.07</td>\n",
       "      <td>0.0</td>\n",
       "      <td>...</td>\n",
       "      <td>1.63</td>\n",
       "      <td>15.51</td>\n",
       "      <td>0.06</td>\n",
       "      <td>8.17</td>\n",
       "      <td>363.01</td>\n",
       "      <td>19.17</td>\n",
       "      <td>6.05</td>\n",
       "      <td>0</td>\n",
       "      <td>1</td>\n",
       "      <td>0</td>\n",
       "    </tr>\n",
       "    <tr>\n",
       "      <th>1</th>\n",
       "      <td>0.29</td>\n",
       "      <td>0.00</td>\n",
       "      <td>0.14</td>\n",
       "      <td>0.00</td>\n",
       "      <td>0.00</td>\n",
       "      <td>0.0</td>\n",
       "      <td>0.05</td>\n",
       "      <td>18.68</td>\n",
       "      <td>3.00</td>\n",
       "      <td>0.0</td>\n",
       "      <td>...</td>\n",
       "      <td>1.15</td>\n",
       "      <td>15.62</td>\n",
       "      <td>0.14</td>\n",
       "      <td>8.20</td>\n",
       "      <td>399.80</td>\n",
       "      <td>15.72</td>\n",
       "      <td>4.12</td>\n",
       "      <td>0</td>\n",
       "      <td>1</td>\n",
       "      <td>0</td>\n",
       "    </tr>\n",
       "    <tr>\n",
       "      <th>2</th>\n",
       "      <td>0.26</td>\n",
       "      <td>0.00</td>\n",
       "      <td>0.03</td>\n",
       "      <td>0.02</td>\n",
       "      <td>0.00</td>\n",
       "      <td>0.0</td>\n",
       "      <td>0.07</td>\n",
       "      <td>13.85</td>\n",
       "      <td>1.83</td>\n",
       "      <td>0.0</td>\n",
       "      <td>...</td>\n",
       "      <td>0.32</td>\n",
       "      <td>17.67</td>\n",
       "      <td>0.28</td>\n",
       "      <td>3.62</td>\n",
       "      <td>430.35</td>\n",
       "      <td>13.95</td>\n",
       "      <td>1.81</td>\n",
       "      <td>0</td>\n",
       "      <td>1</td>\n",
       "      <td>0</td>\n",
       "    </tr>\n",
       "    <tr>\n",
       "      <th>3</th>\n",
       "      <td>0.45</td>\n",
       "      <td>0.01</td>\n",
       "      <td>0.09</td>\n",
       "      <td>0.07</td>\n",
       "      <td>0.00</td>\n",
       "      <td>0.0</td>\n",
       "      <td>0.00</td>\n",
       "      <td>22.11</td>\n",
       "      <td>4.22</td>\n",
       "      <td>0.0</td>\n",
       "      <td>...</td>\n",
       "      <td>2.21</td>\n",
       "      <td>15.61</td>\n",
       "      <td>0.27</td>\n",
       "      <td>7.88</td>\n",
       "      <td>209.25</td>\n",
       "      <td>14.78</td>\n",
       "      <td>7.15</td>\n",
       "      <td>0</td>\n",
       "      <td>1</td>\n",
       "      <td>0</td>\n",
       "    </tr>\n",
       "    <tr>\n",
       "      <th>4</th>\n",
       "      <td>0.17</td>\n",
       "      <td>0.00</td>\n",
       "      <td>0.00</td>\n",
       "      <td>0.05</td>\n",
       "      <td>0.07</td>\n",
       "      <td>0.0</td>\n",
       "      <td>0.00</td>\n",
       "      <td>8.45</td>\n",
       "      <td>1.17</td>\n",
       "      <td>0.0</td>\n",
       "      <td>...</td>\n",
       "      <td>0.55</td>\n",
       "      <td>9.34</td>\n",
       "      <td>0.07</td>\n",
       "      <td>5.96</td>\n",
       "      <td>272.91</td>\n",
       "      <td>8.69</td>\n",
       "      <td>2.70</td>\n",
       "      <td>0</td>\n",
       "      <td>1</td>\n",
       "      <td>0</td>\n",
       "    </tr>\n",
       "    <tr>\n",
       "      <th>...</th>\n",
       "      <td>...</td>\n",
       "      <td>...</td>\n",
       "      <td>...</td>\n",
       "      <td>...</td>\n",
       "      <td>...</td>\n",
       "      <td>...</td>\n",
       "      <td>...</td>\n",
       "      <td>...</td>\n",
       "      <td>...</td>\n",
       "      <td>...</td>\n",
       "      <td>...</td>\n",
       "      <td>...</td>\n",
       "      <td>...</td>\n",
       "      <td>...</td>\n",
       "      <td>...</td>\n",
       "      <td>...</td>\n",
       "      <td>...</td>\n",
       "      <td>...</td>\n",
       "      <td>...</td>\n",
       "      <td>...</td>\n",
       "      <td>...</td>\n",
       "    </tr>\n",
       "    <tr>\n",
       "      <th>121</th>\n",
       "      <td>0.30</td>\n",
       "      <td>0.00</td>\n",
       "      <td>0.02</td>\n",
       "      <td>0.02</td>\n",
       "      <td>0.00</td>\n",
       "      <td>0.0</td>\n",
       "      <td>0.00</td>\n",
       "      <td>17.06</td>\n",
       "      <td>1.96</td>\n",
       "      <td>0.0</td>\n",
       "      <td>...</td>\n",
       "      <td>0.46</td>\n",
       "      <td>5.93</td>\n",
       "      <td>0.24</td>\n",
       "      <td>1.58</td>\n",
       "      <td>447.14</td>\n",
       "      <td>3.04</td>\n",
       "      <td>1.00</td>\n",
       "      <td>0</td>\n",
       "      <td>1</td>\n",
       "      <td>0</td>\n",
       "    </tr>\n",
       "    <tr>\n",
       "      <th>122</th>\n",
       "      <td>0.70</td>\n",
       "      <td>0.00</td>\n",
       "      <td>0.02</td>\n",
       "      <td>0.01</td>\n",
       "      <td>0.00</td>\n",
       "      <td>0.0</td>\n",
       "      <td>0.00</td>\n",
       "      <td>20.31</td>\n",
       "      <td>1.54</td>\n",
       "      <td>0.0</td>\n",
       "      <td>...</td>\n",
       "      <td>0.73</td>\n",
       "      <td>8.75</td>\n",
       "      <td>0.12</td>\n",
       "      <td>1.57</td>\n",
       "      <td>748.55</td>\n",
       "      <td>4.55</td>\n",
       "      <td>1.56</td>\n",
       "      <td>1</td>\n",
       "      <td>0</td>\n",
       "      <td>0</td>\n",
       "    </tr>\n",
       "    <tr>\n",
       "      <th>123</th>\n",
       "      <td>0.75</td>\n",
       "      <td>0.00</td>\n",
       "      <td>0.27</td>\n",
       "      <td>0.00</td>\n",
       "      <td>0.06</td>\n",
       "      <td>0.0</td>\n",
       "      <td>0.00</td>\n",
       "      <td>27.25</td>\n",
       "      <td>3.42</td>\n",
       "      <td>0.0</td>\n",
       "      <td>...</td>\n",
       "      <td>1.29</td>\n",
       "      <td>14.93</td>\n",
       "      <td>0.14</td>\n",
       "      <td>5.05</td>\n",
       "      <td>437.62</td>\n",
       "      <td>10.34</td>\n",
       "      <td>3.99</td>\n",
       "      <td>1</td>\n",
       "      <td>0</td>\n",
       "      <td>0</td>\n",
       "    </tr>\n",
       "    <tr>\n",
       "      <th>124</th>\n",
       "      <td>2.80</td>\n",
       "      <td>0.00</td>\n",
       "      <td>0.04</td>\n",
       "      <td>0.00</td>\n",
       "      <td>0.00</td>\n",
       "      <td>0.0</td>\n",
       "      <td>0.00</td>\n",
       "      <td>21.64</td>\n",
       "      <td>1.43</td>\n",
       "      <td>0.0</td>\n",
       "      <td>...</td>\n",
       "      <td>0.45</td>\n",
       "      <td>4.77</td>\n",
       "      <td>0.33</td>\n",
       "      <td>1.07</td>\n",
       "      <td>369.66</td>\n",
       "      <td>1.83</td>\n",
       "      <td>0.96</td>\n",
       "      <td>0</td>\n",
       "      <td>1</td>\n",
       "      <td>0</td>\n",
       "    </tr>\n",
       "    <tr>\n",
       "      <th>125</th>\n",
       "      <td>0.22</td>\n",
       "      <td>0.00</td>\n",
       "      <td>0.28</td>\n",
       "      <td>0.00</td>\n",
       "      <td>0.00</td>\n",
       "      <td>0.0</td>\n",
       "      <td>0.00</td>\n",
       "      <td>5.54</td>\n",
       "      <td>0.35</td>\n",
       "      <td>0.0</td>\n",
       "      <td>...</td>\n",
       "      <td>0.10</td>\n",
       "      <td>3.46</td>\n",
       "      <td>0.10</td>\n",
       "      <td>1.25</td>\n",
       "      <td>577.13</td>\n",
       "      <td>2.08</td>\n",
       "      <td>0.27</td>\n",
       "      <td>0</td>\n",
       "      <td>1</td>\n",
       "      <td>0</td>\n",
       "    </tr>\n",
       "  </tbody>\n",
       "</table>\n",
       "<p>126 rows × 19475 columns</p>\n",
       "</div>"
      ],
      "text/plain": [
       "     A1BG  A1CF   A2M  A2ML1  A3GALT2  A4GALT  A4GNT   AAAS  AACS  AADAC  ...  \\\n",
       "0    0.49  0.00  0.21   0.04     0.07     0.0   0.03  18.92  4.07    0.0  ...   \n",
       "1    0.29  0.00  0.14   0.00     0.00     0.0   0.05  18.68  3.00    0.0  ...   \n",
       "2    0.26  0.00  0.03   0.02     0.00     0.0   0.07  13.85  1.83    0.0  ...   \n",
       "3    0.45  0.01  0.09   0.07     0.00     0.0   0.00  22.11  4.22    0.0  ...   \n",
       "4    0.17  0.00  0.00   0.05     0.07     0.0   0.00   8.45  1.17    0.0  ...   \n",
       "..    ...   ...   ...    ...      ...     ...    ...    ...   ...    ...  ...   \n",
       "121  0.30  0.00  0.02   0.02     0.00     0.0   0.00  17.06  1.96    0.0  ...   \n",
       "122  0.70  0.00  0.02   0.01     0.00     0.0   0.00  20.31  1.54    0.0  ...   \n",
       "123  0.75  0.00  0.27   0.00     0.06     0.0   0.00  27.25  3.42    0.0  ...   \n",
       "124  2.80  0.00  0.04   0.00     0.00     0.0   0.00  21.64  1.43    0.0  ...   \n",
       "125  0.22  0.00  0.28   0.00     0.00     0.0   0.00   5.54  0.35    0.0  ...   \n",
       "\n",
       "     ZXDB   ZXDC  ZYG11A  ZYG11B     ZYX  ZZEF1  ZZZ3  Sex_female  Sex_male  \\\n",
       "0    1.63  15.51    0.06    8.17  363.01  19.17  6.05           0         1   \n",
       "1    1.15  15.62    0.14    8.20  399.80  15.72  4.12           0         1   \n",
       "2    0.32  17.67    0.28    3.62  430.35  13.95  1.81           0         1   \n",
       "3    2.21  15.61    0.27    7.88  209.25  14.78  7.15           0         1   \n",
       "4    0.55   9.34    0.07    5.96  272.91   8.69  2.70           0         1   \n",
       "..    ...    ...     ...     ...     ...    ...   ...         ...       ...   \n",
       "121  0.46   5.93    0.24    1.58  447.14   3.04  1.00           0         1   \n",
       "122  0.73   8.75    0.12    1.57  748.55   4.55  1.56           1         0   \n",
       "123  1.29  14.93    0.14    5.05  437.62  10.34  3.99           1         0   \n",
       "124  0.45   4.77    0.33    1.07  369.66   1.83  0.96           0         1   \n",
       "125  0.10   3.46    0.10    1.25  577.13   2.08  0.27           0         1   \n",
       "\n",
       "     Sex_unknown  \n",
       "0              0  \n",
       "1              0  \n",
       "2              0  \n",
       "3              0  \n",
       "4              0  \n",
       "..           ...  \n",
       "121            0  \n",
       "122            0  \n",
       "123            0  \n",
       "124            0  \n",
       "125            0  \n",
       "\n",
       "[126 rows x 19475 columns]"
      ]
     },
     "execution_count": 6,
     "metadata": {},
     "output_type": "execute_result"
    }
   ],
   "source": [
    "#selecting only the continous features\n",
    "X= df.drop(columns=['Sample','Severity','Age'])\n",
    "X"
   ]
  },
  {
   "cell_type": "code",
   "execution_count": null,
   "metadata": {},
   "outputs": [],
   "source": [
    "# Create correlation matrix\n",
    "corr_matrix = X.corr().abs()\n",
    "# Select upper triangle of correlation matrix\n",
    "upper = corr_matrix.where(np.triu(np.ones(corr_matrix.shape), k=1).astype(np.bool))\n",
    "# Find index of feature columns with correlation greater than 0.95\n",
    "to_drop = [column for column in upper.columns if any(upper[column] > 0.95)]"
   ]
  },
  {
   "cell_type": "code",
   "execution_count": 7,
   "metadata": {},
   "outputs": [],
   "source": [
    "#Defining the target\n",
    "y=df['Severity']"
   ]
  },
  {
   "cell_type": "code",
   "execution_count": null,
   "metadata": {},
   "outputs": [],
   "source": []
  },
  {
   "cell_type": "code",
   "execution_count": 392,
   "metadata": {},
   "outputs": [
    {
     "data": {
      "text/plain": [
       "<matplotlib.axes._subplots.AxesSubplot at 0x7a411386d0>"
      ]
     },
     "execution_count": 392,
     "metadata": {},
     "output_type": "execute_result"
    },
    {
     "data": {
      "image/png": "[encoded data removed]",
      "text/plain": [
       "<Figure size 432x288 with 1 Axes>"
      ]
     },
     "metadata": {},
     "output_type": "display_data"
    }
   ],
   "source": [
    "#Displaying the Value counts of the Target classes\n",
    "y.value_counts().plot(kind='bar')\n"
   ]
  },
  {
   "cell_type": "markdown",
   "metadata": {},
   "source": [
    "<b>Standardize the Variables</b><br>\n",
    "\n",
    "Time to standardize the variables.\n",
    "\n",
    "** Import StandardScaler from Scikit learn.**\n"
   ]
  },
  {
   "cell_type": "code",
   "execution_count": 8,
   "metadata": {},
   "outputs": [
    {
     "data": {
      "text/plain": [
       "StandardScaler()"
      ]
     },
     "execution_count": 8,
     "metadata": {},
     "output_type": "execute_result"
    }
   ],
   "source": [
    "#Stadardization of data\n",
    "from sklearn.preprocessing import StandardScaler\n",
    "scaler = StandardScaler()\n",
    "scaler.fit(X)"
   ]
  },
  {
   "cell_type": "code",
   "execution_count": 9,
   "metadata": {},
   "outputs": [
    {
     "data": {
      "text/plain": [
       "array([[ 0.42542898, -0.47328638,  0.63694296, ..., -0.82462113,\n",
       "         0.83827364, -0.08944272],\n",
       "       [-0.24128808, -0.47328638,  0.12059766, ..., -0.82462113,\n",
       "         0.83827364, -0.08944272],\n",
       "       [-0.34129564, -0.47328638, -0.6908021 , ..., -0.82462113,\n",
       "         0.83827364, -0.08944272],\n",
       "       ...,\n",
       "       [ 1.29216116, -0.47328638,  1.07952464, ...,  1.21267813,\n",
       "        -1.19292788, -0.08944272],\n",
       "       [ 8.12601106, -0.47328638, -0.61703849, ..., -0.82462113,\n",
       "         0.83827364, -0.08944272],\n",
       "       [-0.47463905, -0.47328638,  1.15328826, ..., -0.82462113,\n",
       "         0.83827364, -0.08944272]])"
      ]
     },
     "execution_count": 9,
     "metadata": {},
     "output_type": "execute_result"
    }
   ],
   "source": [
    "scaled_data = scaler.transform(X)\n",
    "scaled_data"
   ]
  },
  {
   "cell_type": "code",
   "execution_count": 12,
   "metadata": {},
   "outputs": [
    {
     "data": {
      "text/plain": [
       "PCA(n_components=76)"
      ]
     },
     "execution_count": 12,
     "metadata": {},
     "output_type": "execute_result"
    }
   ],
   "source": [
    "#performing PCA over the scaled data\n",
    "from sklearn.decomposition import PCA\n",
    "pca = PCA(n_components=76\n",
    "         )\n",
    "pca.fit(scaled_data)\n"
   ]
  },
  {
   "cell_type": "code",
   "execution_count": 13,
   "metadata": {},
   "outputs": [
    {
     "data": {
      "text/plain": [
       "(126, 19475)"
      ]
     },
     "execution_count": 13,
     "metadata": {},
     "output_type": "execute_result"
    }
   ],
   "source": [
    "x_pca=pca.transform(scaled_data)\n",
    "scaled_data.shape"
   ]
  },
  {
   "cell_type": "code",
   "execution_count": 14,
   "metadata": {},
   "outputs": [
    {
     "data": {
      "text/plain": [
       "(126, 76)"
      ]
     },
     "execution_count": 14,
     "metadata": {},
     "output_type": "execute_result"
    }
   ],
   "source": [
    "x_pca.shape"
   ]
  },
  {
   "cell_type": "code",
   "execution_count": 15,
   "metadata": {},
   "outputs": [
    {
     "data": {
      "image/png": "[encoded data removed]",
      "text/plain": [
       "<Figure size 432x288 with 1 Axes>"
      ]
     },
     "metadata": {
      "needs_background": "light"
     },
     "output_type": "display_data"
    }
   ],
   "source": [
    "\n",
    "plt.plot(np.cumsum(pca.explained_variance_ratio_))\n",
    "plt.xlabel('number of components')\n",
    "plt.ylabel('cumulative explained variance');"
   ]
  },
  {
   "cell_type": "code",
   "execution_count": 450,
   "metadata": {},
   "outputs": [
    {
     "data": {
      "image/png": "[encoded data removed]",
      "text/plain": [
       "<Figure size 576x432 with 1 Axes>"
      ]
     },
     "metadata": {},
     "output_type": "display_data"
    }
   ],
   "source": [
    "\n",
    "\n",
    "plt.figure(figsize=(8, 6))\n",
    "plt.bar(range(10), pca.explained_variance_, alpha=0.5, align='center', label='individual variance')\n",
    "plt.legend()\n",
    "plt.ylabel('Variance ratio')\n",
    "plt.xlabel('Principal components')\n",
    "plt.show()"
   ]
  },
  {
   "cell_type": "code",
   "execution_count": 17,
   "metadata": {},
   "outputs": [],
   "source": [
    "df_pca = pd.concat([pd.DataFrame(data = x_pca),\n",
    "df[['Severity']]],axis = 1)\n",
    "df_pca.columns = [\"c0\",\"c1\",\"c2\",\"c3\",\"c4\",\"c5\",\"c6\",\"c7\",\"c8\",\"c9\",\"c10\",\"c11\",\"c12\",\"c13\",\"c14\",\"c15\",\"c16\",\"c17\",\"c18\",\"c19\",\"c20\",\"c21\",\"c22\",\"c23\",\"c24\",\"c25\",\"c26\",\"c27\",\"c28\",\"c29\",\"c30\",\"c31\",\"c32\",\"c33\",\"c34\",\"c35\",\"c36\",\"c37\",\"c38\",\"c39\",\"c40\",\"c41\",\"c42\",\"c43\",\"c44\",\"c45\",\"c46\",\"c47\",\"c48\",\"c49\",\"c50\",\"c51\",\"c52\",\"c53\",\"c54\",\"c55\",\"c56\",\"c57\",\"c58\",\"c59\",\"c60\",\"c61\",\"c62\",\"c63\",\"c64\",\"c65\",\"c66\",\"c67\",\"c68\",\"c69\",\"c70\",\"c71\",\"c72\",\"c73\",\"c74\",\"c75\",\"Severity\"]"
   ]
  },
  {
   "cell_type": "code",
   "execution_count": 18,
   "metadata": {},
   "outputs": [
    {
     "data": {
      "text/html": [
       "<div>\n",
       "<style scoped>\n",
       "    .dataframe tbody tr th:only-of-type {\n",
       "        vertical-align: middle;\n",
       "    }\n",
       "\n",
       "    .dataframe tbody tr th {\n",
       "        vertical-align: top;\n",
       "    }\n",
       "\n",
       "    .dataframe thead th {\n",
       "        text-align: right;\n",
       "    }\n",
       "</style>\n",
       "<table border=\"1\" class=\"dataframe\">\n",
       "  <thead>\n",
       "    <tr style=\"text-align: right;\">\n",
       "      <th></th>\n",
       "      <th>c0</th>\n",
       "      <th>c1</th>\n",
       "      <th>c2</th>\n",
       "      <th>c3</th>\n",
       "      <th>c4</th>\n",
       "      <th>c5</th>\n",
       "      <th>c6</th>\n",
       "      <th>c7</th>\n",
       "      <th>c8</th>\n",
       "      <th>c9</th>\n",
       "      <th>...</th>\n",
       "      <th>c67</th>\n",
       "      <th>c68</th>\n",
       "      <th>c69</th>\n",
       "      <th>c70</th>\n",
       "      <th>c71</th>\n",
       "      <th>c72</th>\n",
       "      <th>c73</th>\n",
       "      <th>c74</th>\n",
       "      <th>c75</th>\n",
       "      <th>Severity</th>\n",
       "    </tr>\n",
       "  </thead>\n",
       "  <tbody>\n",
       "    <tr>\n",
       "      <th>0</th>\n",
       "      <td>98.976419</td>\n",
       "      <td>3.170290</td>\n",
       "      <td>-50.475787</td>\n",
       "      <td>-68.015409</td>\n",
       "      <td>41.962021</td>\n",
       "      <td>-29.445659</td>\n",
       "      <td>45.381571</td>\n",
       "      <td>22.028503</td>\n",
       "      <td>3.609306</td>\n",
       "      <td>-14.093078</td>\n",
       "      <td>...</td>\n",
       "      <td>2.384719</td>\n",
       "      <td>-8.848246</td>\n",
       "      <td>-2.607448</td>\n",
       "      <td>-3.512801</td>\n",
       "      <td>-0.946007</td>\n",
       "      <td>-0.476182</td>\n",
       "      <td>-1.544501</td>\n",
       "      <td>-1.098127</td>\n",
       "      <td>1.849665</td>\n",
       "      <td>0</td>\n",
       "    </tr>\n",
       "    <tr>\n",
       "      <th>1</th>\n",
       "      <td>60.460121</td>\n",
       "      <td>8.911312</td>\n",
       "      <td>-12.494845</td>\n",
       "      <td>18.013303</td>\n",
       "      <td>14.398465</td>\n",
       "      <td>-30.686827</td>\n",
       "      <td>21.647187</td>\n",
       "      <td>-3.579449</td>\n",
       "      <td>-4.699955</td>\n",
       "      <td>15.681537</td>\n",
       "      <td>...</td>\n",
       "      <td>-2.204310</td>\n",
       "      <td>0.662063</td>\n",
       "      <td>-8.081936</td>\n",
       "      <td>-2.807528</td>\n",
       "      <td>-0.952560</td>\n",
       "      <td>4.484677</td>\n",
       "      <td>-1.676788</td>\n",
       "      <td>0.620272</td>\n",
       "      <td>0.902169</td>\n",
       "      <td>0</td>\n",
       "    </tr>\n",
       "    <tr>\n",
       "      <th>2</th>\n",
       "      <td>-29.816775</td>\n",
       "      <td>-29.983836</td>\n",
       "      <td>-49.326717</td>\n",
       "      <td>-34.827059</td>\n",
       "      <td>10.993908</td>\n",
       "      <td>28.424537</td>\n",
       "      <td>-4.765364</td>\n",
       "      <td>33.334974</td>\n",
       "      <td>-2.093645</td>\n",
       "      <td>25.161598</td>\n",
       "      <td>...</td>\n",
       "      <td>-1.119026</td>\n",
       "      <td>7.282633</td>\n",
       "      <td>4.642232</td>\n",
       "      <td>13.277656</td>\n",
       "      <td>-3.628669</td>\n",
       "      <td>-5.238097</td>\n",
       "      <td>8.134161</td>\n",
       "      <td>8.921038</td>\n",
       "      <td>16.606780</td>\n",
       "      <td>0</td>\n",
       "    </tr>\n",
       "    <tr>\n",
       "      <th>3</th>\n",
       "      <td>139.499747</td>\n",
       "      <td>23.511303</td>\n",
       "      <td>2.655570</td>\n",
       "      <td>0.304556</td>\n",
       "      <td>-30.982957</td>\n",
       "      <td>-19.272323</td>\n",
       "      <td>18.761095</td>\n",
       "      <td>-19.454109</td>\n",
       "      <td>-5.793471</td>\n",
       "      <td>1.442751</td>\n",
       "      <td>...</td>\n",
       "      <td>-1.663322</td>\n",
       "      <td>-3.466124</td>\n",
       "      <td>2.003508</td>\n",
       "      <td>1.525979</td>\n",
       "      <td>-0.182071</td>\n",
       "      <td>3.702112</td>\n",
       "      <td>-2.471417</td>\n",
       "      <td>1.786227</td>\n",
       "      <td>0.370612</td>\n",
       "      <td>0</td>\n",
       "    </tr>\n",
       "    <tr>\n",
       "      <th>4</th>\n",
       "      <td>-16.780319</td>\n",
       "      <td>-68.062698</td>\n",
       "      <td>13.767843</td>\n",
       "      <td>-36.180475</td>\n",
       "      <td>3.523231</td>\n",
       "      <td>25.709500</td>\n",
       "      <td>-14.603941</td>\n",
       "      <td>7.287466</td>\n",
       "      <td>-6.080796</td>\n",
       "      <td>-15.220175</td>\n",
       "      <td>...</td>\n",
       "      <td>7.712565</td>\n",
       "      <td>-7.569370</td>\n",
       "      <td>-4.178752</td>\n",
       "      <td>-1.712006</td>\n",
       "      <td>-2.984259</td>\n",
       "      <td>-5.000574</td>\n",
       "      <td>-8.874931</td>\n",
       "      <td>-0.079574</td>\n",
       "      <td>2.892093</td>\n",
       "      <td>0</td>\n",
       "    </tr>\n",
       "    <tr>\n",
       "      <th>...</th>\n",
       "      <td>...</td>\n",
       "      <td>...</td>\n",
       "      <td>...</td>\n",
       "      <td>...</td>\n",
       "      <td>...</td>\n",
       "      <td>...</td>\n",
       "      <td>...</td>\n",
       "      <td>...</td>\n",
       "      <td>...</td>\n",
       "      <td>...</td>\n",
       "      <td>...</td>\n",
       "      <td>...</td>\n",
       "      <td>...</td>\n",
       "      <td>...</td>\n",
       "      <td>...</td>\n",
       "      <td>...</td>\n",
       "      <td>...</td>\n",
       "      <td>...</td>\n",
       "      <td>...</td>\n",
       "      <td>...</td>\n",
       "      <td>...</td>\n",
       "    </tr>\n",
       "    <tr>\n",
       "      <th>121</th>\n",
       "      <td>-92.801086</td>\n",
       "      <td>78.736526</td>\n",
       "      <td>14.012338</td>\n",
       "      <td>-1.781221</td>\n",
       "      <td>-13.748227</td>\n",
       "      <td>4.692069</td>\n",
       "      <td>1.179598</td>\n",
       "      <td>1.351836</td>\n",
       "      <td>-10.947766</td>\n",
       "      <td>-15.310591</td>\n",
       "      <td>...</td>\n",
       "      <td>1.854743</td>\n",
       "      <td>4.910974</td>\n",
       "      <td>5.908743</td>\n",
       "      <td>-0.551952</td>\n",
       "      <td>-0.546212</td>\n",
       "      <td>3.035080</td>\n",
       "      <td>-7.290327</td>\n",
       "      <td>1.734305</td>\n",
       "      <td>4.851973</td>\n",
       "      <td>0</td>\n",
       "    </tr>\n",
       "    <tr>\n",
       "      <th>122</th>\n",
       "      <td>-60.278942</td>\n",
       "      <td>92.222263</td>\n",
       "      <td>-51.629956</td>\n",
       "      <td>-11.280404</td>\n",
       "      <td>-6.864205</td>\n",
       "      <td>-2.045802</td>\n",
       "      <td>2.763399</td>\n",
       "      <td>10.516705</td>\n",
       "      <td>12.598659</td>\n",
       "      <td>-14.707325</td>\n",
       "      <td>...</td>\n",
       "      <td>-12.688138</td>\n",
       "      <td>26.170278</td>\n",
       "      <td>1.908756</td>\n",
       "      <td>-16.738934</td>\n",
       "      <td>-16.561589</td>\n",
       "      <td>-1.479516</td>\n",
       "      <td>5.306127</td>\n",
       "      <td>2.154060</td>\n",
       "      <td>-13.716659</td>\n",
       "      <td>0</td>\n",
       "    </tr>\n",
       "    <tr>\n",
       "      <th>123</th>\n",
       "      <td>42.224984</td>\n",
       "      <td>63.439931</td>\n",
       "      <td>-23.404595</td>\n",
       "      <td>5.038315</td>\n",
       "      <td>-48.322772</td>\n",
       "      <td>-3.206478</td>\n",
       "      <td>0.835378</td>\n",
       "      <td>0.107723</td>\n",
       "      <td>4.685580</td>\n",
       "      <td>3.477444</td>\n",
       "      <td>...</td>\n",
       "      <td>-3.916971</td>\n",
       "      <td>3.535646</td>\n",
       "      <td>6.518522</td>\n",
       "      <td>-3.048183</td>\n",
       "      <td>8.242755</td>\n",
       "      <td>-5.696027</td>\n",
       "      <td>-7.638564</td>\n",
       "      <td>1.804265</td>\n",
       "      <td>-4.645130</td>\n",
       "      <td>0</td>\n",
       "    </tr>\n",
       "    <tr>\n",
       "      <th>124</th>\n",
       "      <td>-75.950314</td>\n",
       "      <td>136.461880</td>\n",
       "      <td>-16.988631</td>\n",
       "      <td>4.214330</td>\n",
       "      <td>-22.386628</td>\n",
       "      <td>19.976004</td>\n",
       "      <td>-13.774079</td>\n",
       "      <td>-13.598924</td>\n",
       "      <td>-9.404924</td>\n",
       "      <td>-29.445364</td>\n",
       "      <td>...</td>\n",
       "      <td>-1.281619</td>\n",
       "      <td>1.141494</td>\n",
       "      <td>-2.374707</td>\n",
       "      <td>8.407978</td>\n",
       "      <td>9.636299</td>\n",
       "      <td>2.186061</td>\n",
       "      <td>5.430008</td>\n",
       "      <td>-8.352478</td>\n",
       "      <td>-6.321655</td>\n",
       "      <td>0</td>\n",
       "    </tr>\n",
       "    <tr>\n",
       "      <th>125</th>\n",
       "      <td>-140.187890</td>\n",
       "      <td>15.107460</td>\n",
       "      <td>50.324594</td>\n",
       "      <td>-8.256653</td>\n",
       "      <td>15.893520</td>\n",
       "      <td>0.286921</td>\n",
       "      <td>17.568646</td>\n",
       "      <td>14.228614</td>\n",
       "      <td>6.766198</td>\n",
       "      <td>-23.521158</td>\n",
       "      <td>...</td>\n",
       "      <td>-6.685692</td>\n",
       "      <td>-4.246623</td>\n",
       "      <td>0.049029</td>\n",
       "      <td>-1.786389</td>\n",
       "      <td>0.311160</td>\n",
       "      <td>0.538170</td>\n",
       "      <td>0.374145</td>\n",
       "      <td>0.977553</td>\n",
       "      <td>-6.441822</td>\n",
       "      <td>1</td>\n",
       "    </tr>\n",
       "  </tbody>\n",
       "</table>\n",
       "<p>126 rows × 77 columns</p>\n",
       "</div>"
      ],
      "text/plain": [
       "             c0          c1         c2         c3         c4         c5  \\\n",
       "0     98.976419    3.170290 -50.475787 -68.015409  41.962021 -29.445659   \n",
       "1     60.460121    8.911312 -12.494845  18.013303  14.398465 -30.686827   \n",
       "2    -29.816775  -29.983836 -49.326717 -34.827059  10.993908  28.424537   \n",
       "3    139.499747   23.511303   2.655570   0.304556 -30.982957 -19.272323   \n",
       "4    -16.780319  -68.062698  13.767843 -36.180475   3.523231  25.709500   \n",
       "..          ...         ...        ...        ...        ...        ...   \n",
       "121  -92.801086   78.736526  14.012338  -1.781221 -13.748227   4.692069   \n",
       "122  -60.278942   92.222263 -51.629956 -11.280404  -6.864205  -2.045802   \n",
       "123   42.224984   63.439931 -23.404595   5.038315 -48.322772  -3.206478   \n",
       "124  -75.950314  136.461880 -16.988631   4.214330 -22.386628  19.976004   \n",
       "125 -140.187890   15.107460  50.324594  -8.256653  15.893520   0.286921   \n",
       "\n",
       "            c6         c7         c8         c9  ...        c67        c68  \\\n",
       "0    45.381571  22.028503   3.609306 -14.093078  ...   2.384719  -8.848246   \n",
       "1    21.647187  -3.579449  -4.699955  15.681537  ...  -2.204310   0.662063   \n",
       "2    -4.765364  33.334974  -2.093645  25.161598  ...  -1.119026   7.282633   \n",
       "3    18.761095 -19.454109  -5.793471   1.442751  ...  -1.663322  -3.466124   \n",
       "4   -14.603941   7.287466  -6.080796 -15.220175  ...   7.712565  -7.569370   \n",
       "..         ...        ...        ...        ...  ...        ...        ...   \n",
       "121   1.179598   1.351836 -10.947766 -15.310591  ...   1.854743   4.910974   \n",
       "122   2.763399  10.516705  12.598659 -14.707325  ... -12.688138  26.170278   \n",
       "123   0.835378   0.107723   4.685580   3.477444  ...  -3.916971   3.535646   \n",
       "124 -13.774079 -13.598924  -9.404924 -29.445364  ...  -1.281619   1.141494   \n",
       "125  17.568646  14.228614   6.766198 -23.521158  ...  -6.685692  -4.246623   \n",
       "\n",
       "          c69        c70        c71       c72       c73       c74        c75  \\\n",
       "0   -2.607448  -3.512801  -0.946007 -0.476182 -1.544501 -1.098127   1.849665   \n",
       "1   -8.081936  -2.807528  -0.952560  4.484677 -1.676788  0.620272   0.902169   \n",
       "2    4.642232  13.277656  -3.628669 -5.238097  8.134161  8.921038  16.606780   \n",
       "3    2.003508   1.525979  -0.182071  3.702112 -2.471417  1.786227   0.370612   \n",
       "4   -4.178752  -1.712006  -2.984259 -5.000574 -8.874931 -0.079574   2.892093   \n",
       "..        ...        ...        ...       ...       ...       ...        ...   \n",
       "121  5.908743  -0.551952  -0.546212  3.035080 -7.290327  1.734305   4.851973   \n",
       "122  1.908756 -16.738934 -16.561589 -1.479516  5.306127  2.154060 -13.716659   \n",
       "123  6.518522  -3.048183   8.242755 -5.696027 -7.638564  1.804265  -4.645130   \n",
       "124 -2.374707   8.407978   9.636299  2.186061  5.430008 -8.352478  -6.321655   \n",
       "125  0.049029  -1.786389   0.311160  0.538170  0.374145  0.977553  -6.441822   \n",
       "\n",
       "     Severity  \n",
       "0           0  \n",
       "1           0  \n",
       "2           0  \n",
       "3           0  \n",
       "4           0  \n",
       "..        ...  \n",
       "121         0  \n",
       "122         0  \n",
       "123         0  \n",
       "124         0  \n",
       "125         1  \n",
       "\n",
       "[126 rows x 77 columns]"
      ]
     },
     "execution_count": 18,
     "metadata": {},
     "output_type": "execute_result"
    }
   ],
   "source": [
    "df_pca['Severity'].replace(to_replace=['NonICU', 'ICU'], value=[0, 1], inplace=True)\n",
    "df_pca"
   ]
  },
  {
   "cell_type": "code",
   "execution_count": 19,
   "metadata": {},
   "outputs": [],
   "source": [
    "X_df_pca=df_pca.drop(columns=['Severity'])\n",
    "y_df_pca=df_pca['Severity']"
   ]
  },
  {
   "cell_type": "code",
   "execution_count": 21,
   "metadata": {},
   "outputs": [
    {
     "name": "stdout",
     "output_type": "stream",
     "text": [
      "   attribute  VIF\n",
      "0         c0  1.0\n",
      "1         c1  1.0\n",
      "2         c2  1.0\n",
      "3         c3  1.0\n",
      "4         c4  1.0\n",
      "..       ...  ...\n",
      "71       c71  1.0\n",
      "72       c72  1.0\n",
      "73       c73  1.0\n",
      "74       c74  1.0\n",
      "75       c75  1.0\n",
      "\n",
      "[76 rows x 2 columns]\n"
     ]
    }
   ],
   "source": [
    "#Finding the Variance Inflation Factor for the features.\n",
    "from statsmodels.stats.outliers_influence import variance_inflation_factor\n",
    "#calculate VIF for each attribute\n",
    "vif = pd.DataFrame(data = np.array(X_df_pca.columns), columns=[\"attribute\"])\n",
    "vif['VIF'] = -1\n",
    "for i in range(0, X_df_pca.shape[1]):\n",
    "    vif.loc[i,'VIF'] = variance_inflation_factor(X_df_pca.values, i) \n",
    "print(vif)\n",
    "#view VIF for each attribute"
   ]
  },
  {
   "cell_type": "code",
   "execution_count": 25,
   "metadata": {},
   "outputs": [
    {
     "name": "stdout",
     "output_type": "stream",
     "text": [
      "   attribute  VIF\n",
      "3         c3  1.0\n",
      "4         c4  1.0\n",
      "6         c6  1.0\n",
      "16       c16  1.0\n",
      "17       c17  1.0\n",
      "25       c25  1.0\n",
      "27       c27  1.0\n",
      "35       c35  1.0\n",
      "44       c44  1.0\n",
      "51       c51  1.0\n",
      "53       c53  1.0\n",
      "62       c62  1.0\n"
     ]
    }
   ],
   "source": [
    "#Independent variables with VIF greater than 1 are discarded.\n",
    "vif_noMulticol = vif[vif.VIF<1]\n",
    "print(vif_noMulticol)"
   ]
  },
  {
   "cell_type": "code",
   "execution_count": 27,
   "metadata": {},
   "outputs": [
    {
     "data": {
      "text/html": [
       "<div>\n",
       "<style scoped>\n",
       "    .dataframe tbody tr th:only-of-type {\n",
       "        vertical-align: middle;\n",
       "    }\n",
       "\n",
       "    .dataframe tbody tr th {\n",
       "        vertical-align: top;\n",
       "    }\n",
       "\n",
       "    .dataframe thead th {\n",
       "        text-align: right;\n",
       "    }\n",
       "</style>\n",
       "<table border=\"1\" class=\"dataframe\">\n",
       "  <thead>\n",
       "    <tr style=\"text-align: right;\">\n",
       "      <th></th>\n",
       "      <th>c3</th>\n",
       "      <th>c4</th>\n",
       "      <th>c6</th>\n",
       "      <th>c16</th>\n",
       "      <th>c17</th>\n",
       "      <th>c25</th>\n",
       "      <th>c27</th>\n",
       "      <th>c35</th>\n",
       "      <th>c44</th>\n",
       "      <th>c51</th>\n",
       "      <th>c53</th>\n",
       "      <th>c62</th>\n",
       "    </tr>\n",
       "  </thead>\n",
       "  <tbody>\n",
       "    <tr>\n",
       "      <th>0</th>\n",
       "      <td>-68.015409</td>\n",
       "      <td>41.962021</td>\n",
       "      <td>45.381571</td>\n",
       "      <td>-15.464633</td>\n",
       "      <td>6.790755</td>\n",
       "      <td>-25.019505</td>\n",
       "      <td>-17.567427</td>\n",
       "      <td>11.949448</td>\n",
       "      <td>16.781883</td>\n",
       "      <td>4.282183</td>\n",
       "      <td>-20.753693</td>\n",
       "      <td>-3.507296</td>\n",
       "    </tr>\n",
       "    <tr>\n",
       "      <th>1</th>\n",
       "      <td>18.013303</td>\n",
       "      <td>14.398465</td>\n",
       "      <td>21.647187</td>\n",
       "      <td>-17.596608</td>\n",
       "      <td>-0.886555</td>\n",
       "      <td>7.223884</td>\n",
       "      <td>-15.333502</td>\n",
       "      <td>-10.283019</td>\n",
       "      <td>-28.254106</td>\n",
       "      <td>-0.122217</td>\n",
       "      <td>-14.651358</td>\n",
       "      <td>-4.852069</td>\n",
       "    </tr>\n",
       "    <tr>\n",
       "      <th>2</th>\n",
       "      <td>-34.827059</td>\n",
       "      <td>10.993908</td>\n",
       "      <td>-4.765364</td>\n",
       "      <td>2.830473</td>\n",
       "      <td>16.800147</td>\n",
       "      <td>-10.852239</td>\n",
       "      <td>-8.801840</td>\n",
       "      <td>1.325649</td>\n",
       "      <td>5.904746</td>\n",
       "      <td>6.119661</td>\n",
       "      <td>-1.299550</td>\n",
       "      <td>15.267218</td>\n",
       "    </tr>\n",
       "    <tr>\n",
       "      <th>3</th>\n",
       "      <td>0.304556</td>\n",
       "      <td>-30.982957</td>\n",
       "      <td>18.761095</td>\n",
       "      <td>-19.063079</td>\n",
       "      <td>47.764063</td>\n",
       "      <td>13.692671</td>\n",
       "      <td>-8.318472</td>\n",
       "      <td>7.663867</td>\n",
       "      <td>5.247843</td>\n",
       "      <td>-3.375876</td>\n",
       "      <td>-3.818936</td>\n",
       "      <td>1.758753</td>\n",
       "    </tr>\n",
       "    <tr>\n",
       "      <th>4</th>\n",
       "      <td>-36.180475</td>\n",
       "      <td>3.523231</td>\n",
       "      <td>-14.603941</td>\n",
       "      <td>-12.702434</td>\n",
       "      <td>22.437375</td>\n",
       "      <td>12.377343</td>\n",
       "      <td>15.076359</td>\n",
       "      <td>-11.237979</td>\n",
       "      <td>-12.921695</td>\n",
       "      <td>3.884713</td>\n",
       "      <td>-2.502403</td>\n",
       "      <td>-2.165182</td>\n",
       "    </tr>\n",
       "  </tbody>\n",
       "</table>\n",
       "</div>"
      ],
      "text/plain": [
       "          c3         c4         c6        c16        c17        c25  \\\n",
       "0 -68.015409  41.962021  45.381571 -15.464633   6.790755 -25.019505   \n",
       "1  18.013303  14.398465  21.647187 -17.596608  -0.886555   7.223884   \n",
       "2 -34.827059  10.993908  -4.765364   2.830473  16.800147 -10.852239   \n",
       "3   0.304556 -30.982957  18.761095 -19.063079  47.764063  13.692671   \n",
       "4 -36.180475   3.523231 -14.603941 -12.702434  22.437375  12.377343   \n",
       "\n",
       "         c27        c35        c44       c51        c53        c62  \n",
       "0 -17.567427  11.949448  16.781883  4.282183 -20.753693  -3.507296  \n",
       "1 -15.333502 -10.283019 -28.254106 -0.122217 -14.651358  -4.852069  \n",
       "2  -8.801840   1.325649   5.904746  6.119661  -1.299550  15.267218  \n",
       "3  -8.318472   7.663867   5.247843 -3.375876  -3.818936   1.758753  \n",
       "4  15.076359 -11.237979 -12.921695  3.884713  -2.502403  -2.165182  "
      ]
     },
     "execution_count": 27,
     "metadata": {},
     "output_type": "execute_result"
    }
   ],
   "source": [
    "#Accessing a group of rows and columns by labels. \n",
    "X= X_df_pca.loc[:, vif_noMulticol.attribute]\n",
    "X.head()"
   ]
  },
  {
   "cell_type": "code",
   "execution_count": 28,
   "metadata": {},
   "outputs": [
    {
     "data": {
      "text/plain": [
       "(126, 12)"
      ]
     },
     "execution_count": 28,
     "metadata": {},
     "output_type": "execute_result"
    }
   ],
   "source": [
    "X.shape"
   ]
  },
  {
   "cell_type": "markdown",
   "metadata": {},
   "source": [
    "<b>Train Test Split</b><br>\n",
    "Now it's time to do a train test split, and train our model!<br>\n",
    "** Split your data into a training set and a testing set.**\n"
   ]
  },
  {
   "cell_type": "code",
   "execution_count": 29,
   "metadata": {},
   "outputs": [],
   "source": [
    "from sklearn.model_selection import train_test_split"
   ]
  },
  {
   "cell_type": "code",
   "execution_count": 30,
   "metadata": {},
   "outputs": [],
   "source": [
    "X_train, X_test, y_train, y_test = train_test_split(X, y_df_pca, test_size=0.33, random_state=42)"
   ]
  },
  {
   "cell_type": "code",
   "execution_count": 31,
   "metadata": {},
   "outputs": [],
   "source": [
    "from sklearn.linear_model import LogisticRegression"
   ]
  },
  {
   "cell_type": "code",
   "execution_count": 32,
   "metadata": {},
   "outputs": [
    {
     "data": {
      "text/plain": [
       "LogisticRegression()"
      ]
     },
     "execution_count": 32,
     "metadata": {},
     "output_type": "execute_result"
    }
   ],
   "source": [
    "logmodel = LogisticRegression()\n",
    "logmodel.fit(X_train,y_train)"
   ]
  },
  {
   "cell_type": "code",
   "execution_count": 33,
   "metadata": {},
   "outputs": [],
   "source": [
    "predictions = logmodel.predict(X_test)"
   ]
  },
  {
   "cell_type": "code",
   "execution_count": 34,
   "metadata": {},
   "outputs": [],
   "source": [
    "from sklearn.metrics import classification_report"
   ]
  },
  {
   "cell_type": "code",
   "execution_count": 35,
   "metadata": {},
   "outputs": [
    {
     "name": "stdout",
     "output_type": "stream",
     "text": [
      "              precision    recall  f1-score   support\n",
      "\n",
      "           0       0.61      0.67      0.64        21\n",
      "           1       0.63      0.57      0.60        21\n",
      "\n",
      "    accuracy                           0.62        42\n",
      "   macro avg       0.62      0.62      0.62        42\n",
      "weighted avg       0.62      0.62      0.62        42\n",
      "\n"
     ]
    }
   ],
   "source": [
    "print(classification_report(y_test,predictions))"
   ]
  },
  {
   "cell_type": "code",
   "execution_count": 39,
   "metadata": {},
   "outputs": [
    {
     "name": "stdout",
     "output_type": "stream",
     "text": [
      "[[ 9 12]\n",
      " [ 2 15]]\n"
     ]
    },
    {
     "data": {
      "text/plain": [
       "(88, 12)"
      ]
     },
     "execution_count": 39,
     "metadata": {},
     "output_type": "execute_result"
    }
   ],
   "source": [
    "from sklearn.neighbors import KNeighborsClassifier\n",
    "from sklearn.metrics import f1_score,classification_report,plot_confusion_matrix\n",
    "from sklearn.metrics import classification_report,confusion_matrix\n",
    "X_train, X_test, y_train, y_test = train_test_split(X,y_df_pca,\n",
    "                                                    test_size\n",
    "                                                    =0.30,random_state=42)\n",
    "\n",
    "X_train=scaler.fit_transform(X_train)\n",
    "X_test=scaler.transform(X_test)\n",
    "knn=KNeighborsClassifier()\n",
    "knn.fit(X_train,y_train)\n",
    "y_pred_test=knn.predict(X_test)\n",
    "\n",
    "print(confusion_matrix(y_test,y_pred_test))\n",
    "X_train.shape"
   ]
  },
  {
   "cell_type": "code",
   "execution_count": 40,
   "metadata": {},
   "outputs": [
    {
     "data": {
      "image/png": "[encoded data removed]",
      "text/plain": [
       "<Figure size 432x288 with 2 Axes>"
      ]
     },
     "metadata": {
      "needs_background": "light"
     },
     "output_type": "display_data"
    }
   ],
   "source": [
    "plot_confusion_matrix(knn,X_test,y_test,display_labels=['NonICU','ICU'],normalize='true',cmap='Blues');"
   ]
  },
  {
   "cell_type": "code",
   "execution_count": 41,
   "metadata": {},
   "outputs": [],
   "source": [
    "error_rate = []\n",
    "\n",
    "# Will take some time\n",
    "for i in range(1,40):\n",
    "    \n",
    "    knn = KNeighborsClassifier(n_neighbors=i)\n",
    "    knn.fit(X_train,y_train)\n",
    "    pred_i = knn.predict(X_test)\n",
    "    error_rate.append(np.mean(pred_i != y_test))"
   ]
  },
  {
   "cell_type": "code",
   "execution_count": 42,
   "metadata": {},
   "outputs": [
    {
     "data": {
      "text/plain": [
       "Text(0, 0.5, 'Error Rate')"
      ]
     },
     "execution_count": 42,
     "metadata": {},
     "output_type": "execute_result"
    },
    {
     "data": {
      "image/png": "[encoded data removed]",
      "text/plain": [
       "<Figure size 720x432 with 1 Axes>"
      ]
     },
     "metadata": {
      "needs_background": "light"
     },
     "output_type": "display_data"
    }
   ],
   "source": [
    "plt.figure(figsize=(10,6))\n",
    "plt.plot(range(1,40),error_rate,color='blue', linestyle='dashed', marker='o',\n",
    "         markerfacecolor='red', markersize=10)\n",
    "plt.title('Error Rate vs. K Value')\n",
    "plt.xlabel('K')\n",
    "plt.ylabel('Error Rate')"
   ]
  },
  {
   "cell_type": "code",
   "execution_count": 49,
   "metadata": {},
   "outputs": [
    {
     "name": "stdout",
     "output_type": "stream",
     "text": [
      "WITH K=25\n",
      "\n",
      "\n",
      "[[ 5 16]\n",
      " [ 2 15]]\n",
      "\n",
      "\n",
      "              precision    recall  f1-score   support\n",
      "\n",
      "           0       0.71      0.24      0.36        21\n",
      "           1       0.48      0.88      0.62        17\n",
      "\n",
      "    accuracy                           0.53        38\n",
      "   macro avg       0.60      0.56      0.49        38\n",
      "weighted avg       0.61      0.53      0.48        38\n",
      "\n"
     ]
    }
   ],
   "source": [
    "\n",
    "# NOW WITH K=30\n",
    "knn = KNeighborsClassifier(n_neighbors=7)\n",
    "\n",
    "knn.fit(X_train,y_train)\n",
    "pred = knn.predict(X_test)\n",
    "\n",
    "print('WITH K=25')\n",
    "print('\\n')\n",
    "print(confusion_matrix(y_test,pred))\n",
    "print('\\n')\n",
    "print(classification_report(y_test,pred))\n",
    "\n"
   ]
  },
  {
   "cell_type": "code",
   "execution_count": 50,
   "metadata": {},
   "outputs": [
    {
     "data": {
      "image/png": "[encoded data removed]",
      "text/plain": [
       "<Figure size 432x288 with 2 Axes>"
      ]
     },
     "metadata": {
      "needs_background": "light"
     },
     "output_type": "display_data"
    }
   ],
   "source": [
    "plot_confusion_matrix(knn,X_test,y_test,display_labels=['NonICU','ICU'],normalize='true',cmap='Blues');"
   ]
  },
  {
   "cell_type": "code",
   "execution_count": null,
   "metadata": {},
   "outputs": [],
   "source": []
  },
  {
   "cell_type": "code",
   "execution_count": 51,
   "metadata": {},
   "outputs": [
    {
     "name": "stdout",
     "output_type": "stream",
     "text": [
      "Test Accuracy: 0.5263157894736842\n",
      "Training Accuracy: 0.6931818181818182\n"
     ]
    }
   ],
   "source": [
    "print('Test Accuracy:', knn.score(X_test, y_test))\n",
    "print('Training Accuracy:', knn.score(X_train, y_train))"
   ]
  },
  {
   "cell_type": "code",
   "execution_count": null,
   "metadata": {},
   "outputs": [],
   "source": []
  }
 ],
 "metadata": {
  "kernelspec": {
   "display_name": "Python 3",
   "language": "python",
   "name": "python3"
  },
  "language_info": {
   "codemirror_mode": {
    "name": "ipython",
    "version": 3
   },
   "file_extension": ".py",
   "mimetype": "text/x-python",
   "name": "python",
   "nbconvert_exporter": "python",
   "pygments_lexer": "ipython3",
   "version": "3.8.3"
  }
 },
 "nbformat": 4,
 "nbformat_minor": 4
}
