{
 "cells": [
  {
   "cell_type": "markdown",
   "metadata": {},
   "source": [
    "# Covid Data Project Solution"
   ]
  },
  {
   "cell_type": "markdown",
   "metadata": {},
   "source": [
    "In this project we will be working with a covid 19 data set.Our aim is to build a supervised learning model to predict patients at high risk of seeking ICU treatment. We will try to create a model that will predict whether or not a patient need to be admitted in ICU or not."
   ]
  },
  {
   "cell_type": "markdown",
   "metadata": {},
   "source": [
    "<b>Import Libraries</b><br>\n",
    "\n",
    "Import pandas,seaborn, and the useful libraries."
   ]
  },
  {
   "cell_type": "code",
   "execution_count": 1,
   "metadata": {},
   "outputs": [],
   "source": [
    "#Importing the libraries\n",
    "import pandas as pd\n",
    "import numpy as np\n",
    "import seaborn as sns\n",
    "import matplotlib.pyplot as plt\n",
    "from sklearn.model_selection import train_test_split\n",
    "from sklearn import model_selection\n",
    "from sklearn.decomposition import PCA\n",
    "from sklearn.preprocessing import StandardScaler\n",
    "from sklearn.metrics import f1_score,classification_report,plot_confusion_matrix\n",
    "from sklearn.linear_model import LogisticRegression"
   ]
  },
  {
   "cell_type": "markdown",
   "metadata": {},
   "source": [
    "<b>The Data</b>"
   ]
  },
  {
   "cell_type": "code",
   "execution_count": 2,
   "metadata": {},
   "outputs": [
    {
     "data": {
      "text/html": [
       "<div>\n",
       "<style scoped>\n",
       "    .dataframe tbody tr th:only-of-type {\n",
       "        vertical-align: middle;\n",
       "    }\n",
       "\n",
       "    .dataframe tbody tr th {\n",
       "        vertical-align: top;\n",
       "    }\n",
       "\n",
       "    .dataframe thead th {\n",
       "        text-align: right;\n",
       "    }\n",
       "</style>\n",
       "<table border=\"1\" class=\"dataframe\">\n",
       "  <thead>\n",
       "    <tr style=\"text-align: right;\">\n",
       "      <th></th>\n",
       "      <th>Sample</th>\n",
       "      <th>Age</th>\n",
       "      <th>Sex</th>\n",
       "      <th>Severity</th>\n",
       "      <th>A1BG</th>\n",
       "      <th>A1CF</th>\n",
       "      <th>A2M</th>\n",
       "      <th>A2ML1</th>\n",
       "      <th>A3GALT2</th>\n",
       "      <th>A4GALT</th>\n",
       "      <th>...</th>\n",
       "      <th>ZWILCH</th>\n",
       "      <th>ZWINT</th>\n",
       "      <th>ZXDA</th>\n",
       "      <th>ZXDB</th>\n",
       "      <th>ZXDC</th>\n",
       "      <th>ZYG11A</th>\n",
       "      <th>ZYG11B</th>\n",
       "      <th>ZYX</th>\n",
       "      <th>ZZEF1</th>\n",
       "      <th>ZZZ3</th>\n",
       "    </tr>\n",
       "  </thead>\n",
       "  <tbody>\n",
       "    <tr>\n",
       "      <th>0</th>\n",
       "      <td>C1</td>\n",
       "      <td>39</td>\n",
       "      <td>male</td>\n",
       "      <td>NonICU</td>\n",
       "      <td>0.49</td>\n",
       "      <td>0.00</td>\n",
       "      <td>0.21</td>\n",
       "      <td>0.04</td>\n",
       "      <td>0.07</td>\n",
       "      <td>0.0</td>\n",
       "      <td>...</td>\n",
       "      <td>2.84</td>\n",
       "      <td>4.22</td>\n",
       "      <td>0.95</td>\n",
       "      <td>1.63</td>\n",
       "      <td>15.51</td>\n",
       "      <td>0.06</td>\n",
       "      <td>8.17</td>\n",
       "      <td>363.01</td>\n",
       "      <td>19.17</td>\n",
       "      <td>6.05</td>\n",
       "    </tr>\n",
       "    <tr>\n",
       "      <th>1</th>\n",
       "      <td>C2</td>\n",
       "      <td>63</td>\n",
       "      <td>male</td>\n",
       "      <td>NonICU</td>\n",
       "      <td>0.29</td>\n",
       "      <td>0.00</td>\n",
       "      <td>0.14</td>\n",
       "      <td>0.00</td>\n",
       "      <td>0.00</td>\n",
       "      <td>0.0</td>\n",
       "      <td>...</td>\n",
       "      <td>3.55</td>\n",
       "      <td>12.15</td>\n",
       "      <td>0.60</td>\n",
       "      <td>1.15</td>\n",
       "      <td>15.62</td>\n",
       "      <td>0.14</td>\n",
       "      <td>8.20</td>\n",
       "      <td>399.80</td>\n",
       "      <td>15.72</td>\n",
       "      <td>4.12</td>\n",
       "    </tr>\n",
       "    <tr>\n",
       "      <th>2</th>\n",
       "      <td>C3</td>\n",
       "      <td>33</td>\n",
       "      <td>male</td>\n",
       "      <td>NonICU</td>\n",
       "      <td>0.26</td>\n",
       "      <td>0.00</td>\n",
       "      <td>0.03</td>\n",
       "      <td>0.02</td>\n",
       "      <td>0.00</td>\n",
       "      <td>0.0</td>\n",
       "      <td>...</td>\n",
       "      <td>1.34</td>\n",
       "      <td>2.79</td>\n",
       "      <td>0.18</td>\n",
       "      <td>0.32</td>\n",
       "      <td>17.67</td>\n",
       "      <td>0.28</td>\n",
       "      <td>3.62</td>\n",
       "      <td>430.35</td>\n",
       "      <td>13.95</td>\n",
       "      <td>1.81</td>\n",
       "    </tr>\n",
       "    <tr>\n",
       "      <th>3</th>\n",
       "      <td>C4</td>\n",
       "      <td>49</td>\n",
       "      <td>male</td>\n",
       "      <td>NonICU</td>\n",
       "      <td>0.45</td>\n",
       "      <td>0.01</td>\n",
       "      <td>0.09</td>\n",
       "      <td>0.07</td>\n",
       "      <td>0.00</td>\n",
       "      <td>0.0</td>\n",
       "      <td>...</td>\n",
       "      <td>3.71</td>\n",
       "      <td>5.87</td>\n",
       "      <td>1.40</td>\n",
       "      <td>2.21</td>\n",
       "      <td>15.61</td>\n",
       "      <td>0.27</td>\n",
       "      <td>7.88</td>\n",
       "      <td>209.25</td>\n",
       "      <td>14.78</td>\n",
       "      <td>7.15</td>\n",
       "    </tr>\n",
       "    <tr>\n",
       "      <th>4</th>\n",
       "      <td>C5</td>\n",
       "      <td>49</td>\n",
       "      <td>male</td>\n",
       "      <td>NonICU</td>\n",
       "      <td>0.17</td>\n",
       "      <td>0.00</td>\n",
       "      <td>0.00</td>\n",
       "      <td>0.05</td>\n",
       "      <td>0.07</td>\n",
       "      <td>0.0</td>\n",
       "      <td>...</td>\n",
       "      <td>1.44</td>\n",
       "      <td>4.46</td>\n",
       "      <td>0.28</td>\n",
       "      <td>0.55</td>\n",
       "      <td>9.34</td>\n",
       "      <td>0.07</td>\n",
       "      <td>5.96</td>\n",
       "      <td>272.91</td>\n",
       "      <td>8.69</td>\n",
       "      <td>2.70</td>\n",
       "    </tr>\n",
       "  </tbody>\n",
       "</table>\n",
       "<p>5 rows × 19476 columns</p>\n",
       "</div>"
      ],
      "text/plain": [
       "  Sample  Age   Sex Severity  A1BG  A1CF   A2M  A2ML1  A3GALT2  A4GALT  ...  \\\n",
       "0     C1   39  male   NonICU  0.49  0.00  0.21   0.04     0.07     0.0  ...   \n",
       "1     C2   63  male   NonICU  0.29  0.00  0.14   0.00     0.00     0.0  ...   \n",
       "2     C3   33  male   NonICU  0.26  0.00  0.03   0.02     0.00     0.0  ...   \n",
       "3     C4   49  male   NonICU  0.45  0.01  0.09   0.07     0.00     0.0  ...   \n",
       "4     C5   49  male   NonICU  0.17  0.00  0.00   0.05     0.07     0.0  ...   \n",
       "\n",
       "   ZWILCH  ZWINT  ZXDA  ZXDB   ZXDC  ZYG11A  ZYG11B     ZYX  ZZEF1  ZZZ3  \n",
       "0    2.84   4.22  0.95  1.63  15.51    0.06    8.17  363.01  19.17  6.05  \n",
       "1    3.55  12.15  0.60  1.15  15.62    0.14    8.20  399.80  15.72  4.12  \n",
       "2    1.34   2.79  0.18  0.32  17.67    0.28    3.62  430.35  13.95  1.81  \n",
       "3    3.71   5.87  1.40  2.21  15.61    0.27    7.88  209.25  14.78  7.15  \n",
       "4    1.44   4.46  0.28  0.55   9.34    0.07    5.96  272.91   8.69  2.70  \n",
       "\n",
       "[5 rows x 19476 columns]"
      ]
     },
     "execution_count": 2,
     "metadata": {},
     "output_type": "execute_result"
    }
   ],
   "source": [
    "#Reading the dataset as dataframe df\n",
    "df=pd.read_csv('C:\\\\Users\\\\user\\\\Desktop\\\\4050 new\\\\covid_data.csv')\n",
    "#Displaying the top 5 rows of the csv file\n",
    "df.head()"
   ]
  },
  {
   "cell_type": "code",
   "execution_count": 3,
   "metadata": {},
   "outputs": [
    {
     "data": {
      "text/plain": [
       "(126, 19476)"
      ]
     },
     "execution_count": 3,
     "metadata": {},
     "output_type": "execute_result"
    }
   ],
   "source": [
    "#Dimensionality of the dataset\n",
    "df.shape"
   ]
  },
  {
   "cell_type": "markdown",
   "metadata": {},
   "source": [
    "<b>Exploratory Data Analysis</b>"
   ]
  },
  {
   "cell_type": "markdown",
   "metadata": {},
   "source": [
    "Let's use seaborn to explore the data!\n",
    "\n",
    "** Create a histogram of the Age**"
   ]
  },
  {
   "cell_type": "code",
   "execution_count": 4,
   "metadata": {},
   "outputs": [
    {
     "data": {
      "text/plain": [
       "Text(0.5, 0, 'Age')"
      ]
     },
     "execution_count": 4,
     "metadata": {},
     "output_type": "execute_result"
    },
    {
     "data": {
      "image/png": "[encoded data removed]",
      "text/plain": [
       "<Figure size 432x288 with 1 Axes>"
      ]
     },
     "metadata": {},
     "output_type": "display_data"
    }
   ],
   "source": [
    "sns.set_style('whitegrid')\n",
    "df['Age'].hist(bins=30)\n",
    "plt.xlabel('Age')"
   ]
  },
  {
   "cell_type": "markdown",
   "metadata": {},
   "source": [
    "From the above plot we can see the number of patients in each age group."
   ]
  },
  {
   "cell_type": "markdown",
   "metadata": {},
   "source": [
    "<b>*Countplot for sex column*</b>"
   ]
  },
  {
   "cell_type": "code",
   "execution_count": 5,
   "metadata": {},
   "outputs": [
    {
     "data": {
      "text/plain": [
       "<matplotlib.axes._subplots.AxesSubplot at 0x5a4a613d0>"
      ]
     },
     "execution_count": 5,
     "metadata": {},
     "output_type": "execute_result"
    },
    {
     "data": {
      "image/png": "[encoded data removed]",
      "text/plain": [
       "<Figure size 720x504 with 1 Axes>"
      ]
     },
     "metadata": {},
     "output_type": "display_data"
    }
   ],
   "source": [
    "plt.figure(figsize=(10,7))\n",
    "sns.countplot(x='Sex',hue='Severity',data=df,palette='Set1')"
   ]
  },
  {
   "cell_type": "markdown",
   "metadata": {},
   "source": [
    "We can see that in males, there are more ICU patients than NonICU and in females, there are more NonICU patients than ICU patients.\n"
   ]
  },
  {
   "cell_type": "markdown",
   "metadata": {},
   "source": [
    "<b>Countplot for Age column</b>"
   ]
  },
  {
   "cell_type": "code",
   "execution_count": 6,
   "metadata": {},
   "outputs": [
    {
     "data": {
      "text/plain": [
       "<matplotlib.axes._subplots.AxesSubplot at 0x59f66f220>"
      ]
     },
     "execution_count": 6,
     "metadata": {},
     "output_type": "execute_result"
    },
    {
     "data": {
      "image/png": "[encoded data removed]",
      "text/plain": [
       "<Figure size 1440x720 with 1 Axes>"
      ]
     },
     "metadata": {},
     "output_type": "display_data"
    }
   ],
   "source": [
    "plt.figure(figsize=(20,10))\n",
    "sns.countplot(x='Age',hue='Severity',data=df,palette='Set1')"
   ]
  },
  {
   "cell_type": "markdown",
   "metadata": {},
   "source": [
    "From the above graph, patients admitted in ICU is more for the age group 62."
   ]
  },
  {
   "cell_type": "code",
   "execution_count": 7,
   "metadata": {},
   "outputs": [
    {
     "name": "stdout",
     "output_type": "stream",
     "text": [
      "<class 'pandas.core.frame.DataFrame'>\n",
      "RangeIndex: 126 entries, 0 to 125\n",
      "Columns: 19476 entries, Sample to ZZZ3\n",
      "dtypes: float64(19472), int64(1), object(3)\n",
      "memory usage: 18.7+ MB\n"
     ]
    }
   ],
   "source": [
    "#Checking for missing alues and datatypes of the dataset.\n",
    "df.info()"
   ]
  },
  {
   "cell_type": "code",
   "execution_count": 8,
   "metadata": {},
   "outputs": [],
   "source": [
    "df=pd.get_dummies(df, columns=['Sex'])"
   ]
  },
  {
   "cell_type": "markdown",
   "metadata": {},
   "source": [
    "<b>Feature Variable X</b>"
   ]
  },
  {
   "cell_type": "code",
   "execution_count": 9,
   "metadata": {},
   "outputs": [
    {
     "data": {
      "text/html": [
       "<div>\n",
       "<style scoped>\n",
       "    .dataframe tbody tr th:only-of-type {\n",
       "        vertical-align: middle;\n",
       "    }\n",
       "\n",
       "    .dataframe tbody tr th {\n",
       "        vertical-align: top;\n",
       "    }\n",
       "\n",
       "    .dataframe thead th {\n",
       "        text-align: right;\n",
       "    }\n",
       "</style>\n",
       "<table border=\"1\" class=\"dataframe\">\n",
       "  <thead>\n",
       "    <tr style=\"text-align: right;\">\n",
       "      <th></th>\n",
       "      <th>A1BG</th>\n",
       "      <th>A1CF</th>\n",
       "      <th>A2M</th>\n",
       "      <th>A2ML1</th>\n",
       "      <th>A3GALT2</th>\n",
       "      <th>A4GALT</th>\n",
       "      <th>A4GNT</th>\n",
       "      <th>AAAS</th>\n",
       "      <th>AACS</th>\n",
       "      <th>AADAC</th>\n",
       "      <th>...</th>\n",
       "      <th>ZXDB</th>\n",
       "      <th>ZXDC</th>\n",
       "      <th>ZYG11A</th>\n",
       "      <th>ZYG11B</th>\n",
       "      <th>ZYX</th>\n",
       "      <th>ZZEF1</th>\n",
       "      <th>ZZZ3</th>\n",
       "      <th>Sex_female</th>\n",
       "      <th>Sex_male</th>\n",
       "      <th>Sex_unknown</th>\n",
       "    </tr>\n",
       "  </thead>\n",
       "  <tbody>\n",
       "    <tr>\n",
       "      <th>0</th>\n",
       "      <td>0.49</td>\n",
       "      <td>0.00</td>\n",
       "      <td>0.21</td>\n",
       "      <td>0.04</td>\n",
       "      <td>0.07</td>\n",
       "      <td>0.0</td>\n",
       "      <td>0.03</td>\n",
       "      <td>18.92</td>\n",
       "      <td>4.07</td>\n",
       "      <td>0.0</td>\n",
       "      <td>...</td>\n",
       "      <td>1.63</td>\n",
       "      <td>15.51</td>\n",
       "      <td>0.06</td>\n",
       "      <td>8.17</td>\n",
       "      <td>363.01</td>\n",
       "      <td>19.17</td>\n",
       "      <td>6.05</td>\n",
       "      <td>0</td>\n",
       "      <td>1</td>\n",
       "      <td>0</td>\n",
       "    </tr>\n",
       "    <tr>\n",
       "      <th>1</th>\n",
       "      <td>0.29</td>\n",
       "      <td>0.00</td>\n",
       "      <td>0.14</td>\n",
       "      <td>0.00</td>\n",
       "      <td>0.00</td>\n",
       "      <td>0.0</td>\n",
       "      <td>0.05</td>\n",
       "      <td>18.68</td>\n",
       "      <td>3.00</td>\n",
       "      <td>0.0</td>\n",
       "      <td>...</td>\n",
       "      <td>1.15</td>\n",
       "      <td>15.62</td>\n",
       "      <td>0.14</td>\n",
       "      <td>8.20</td>\n",
       "      <td>399.80</td>\n",
       "      <td>15.72</td>\n",
       "      <td>4.12</td>\n",
       "      <td>0</td>\n",
       "      <td>1</td>\n",
       "      <td>0</td>\n",
       "    </tr>\n",
       "    <tr>\n",
       "      <th>2</th>\n",
       "      <td>0.26</td>\n",
       "      <td>0.00</td>\n",
       "      <td>0.03</td>\n",
       "      <td>0.02</td>\n",
       "      <td>0.00</td>\n",
       "      <td>0.0</td>\n",
       "      <td>0.07</td>\n",
       "      <td>13.85</td>\n",
       "      <td>1.83</td>\n",
       "      <td>0.0</td>\n",
       "      <td>...</td>\n",
       "      <td>0.32</td>\n",
       "      <td>17.67</td>\n",
       "      <td>0.28</td>\n",
       "      <td>3.62</td>\n",
       "      <td>430.35</td>\n",
       "      <td>13.95</td>\n",
       "      <td>1.81</td>\n",
       "      <td>0</td>\n",
       "      <td>1</td>\n",
       "      <td>0</td>\n",
       "    </tr>\n",
       "    <tr>\n",
       "      <th>3</th>\n",
       "      <td>0.45</td>\n",
       "      <td>0.01</td>\n",
       "      <td>0.09</td>\n",
       "      <td>0.07</td>\n",
       "      <td>0.00</td>\n",
       "      <td>0.0</td>\n",
       "      <td>0.00</td>\n",
       "      <td>22.11</td>\n",
       "      <td>4.22</td>\n",
       "      <td>0.0</td>\n",
       "      <td>...</td>\n",
       "      <td>2.21</td>\n",
       "      <td>15.61</td>\n",
       "      <td>0.27</td>\n",
       "      <td>7.88</td>\n",
       "      <td>209.25</td>\n",
       "      <td>14.78</td>\n",
       "      <td>7.15</td>\n",
       "      <td>0</td>\n",
       "      <td>1</td>\n",
       "      <td>0</td>\n",
       "    </tr>\n",
       "    <tr>\n",
       "      <th>4</th>\n",
       "      <td>0.17</td>\n",
       "      <td>0.00</td>\n",
       "      <td>0.00</td>\n",
       "      <td>0.05</td>\n",
       "      <td>0.07</td>\n",
       "      <td>0.0</td>\n",
       "      <td>0.00</td>\n",
       "      <td>8.45</td>\n",
       "      <td>1.17</td>\n",
       "      <td>0.0</td>\n",
       "      <td>...</td>\n",
       "      <td>0.55</td>\n",
       "      <td>9.34</td>\n",
       "      <td>0.07</td>\n",
       "      <td>5.96</td>\n",
       "      <td>272.91</td>\n",
       "      <td>8.69</td>\n",
       "      <td>2.70</td>\n",
       "      <td>0</td>\n",
       "      <td>1</td>\n",
       "      <td>0</td>\n",
       "    </tr>\n",
       "    <tr>\n",
       "      <th>...</th>\n",
       "      <td>...</td>\n",
       "      <td>...</td>\n",
       "      <td>...</td>\n",
       "      <td>...</td>\n",
       "      <td>...</td>\n",
       "      <td>...</td>\n",
       "      <td>...</td>\n",
       "      <td>...</td>\n",
       "      <td>...</td>\n",
       "      <td>...</td>\n",
       "      <td>...</td>\n",
       "      <td>...</td>\n",
       "      <td>...</td>\n",
       "      <td>...</td>\n",
       "      <td>...</td>\n",
       "      <td>...</td>\n",
       "      <td>...</td>\n",
       "      <td>...</td>\n",
       "      <td>...</td>\n",
       "      <td>...</td>\n",
       "      <td>...</td>\n",
       "    </tr>\n",
       "    <tr>\n",
       "      <th>121</th>\n",
       "      <td>0.30</td>\n",
       "      <td>0.00</td>\n",
       "      <td>0.02</td>\n",
       "      <td>0.02</td>\n",
       "      <td>0.00</td>\n",
       "      <td>0.0</td>\n",
       "      <td>0.00</td>\n",
       "      <td>17.06</td>\n",
       "      <td>1.96</td>\n",
       "      <td>0.0</td>\n",
       "      <td>...</td>\n",
       "      <td>0.46</td>\n",
       "      <td>5.93</td>\n",
       "      <td>0.24</td>\n",
       "      <td>1.58</td>\n",
       "      <td>447.14</td>\n",
       "      <td>3.04</td>\n",
       "      <td>1.00</td>\n",
       "      <td>0</td>\n",
       "      <td>1</td>\n",
       "      <td>0</td>\n",
       "    </tr>\n",
       "    <tr>\n",
       "      <th>122</th>\n",
       "      <td>0.70</td>\n",
       "      <td>0.00</td>\n",
       "      <td>0.02</td>\n",
       "      <td>0.01</td>\n",
       "      <td>0.00</td>\n",
       "      <td>0.0</td>\n",
       "      <td>0.00</td>\n",
       "      <td>20.31</td>\n",
       "      <td>1.54</td>\n",
       "      <td>0.0</td>\n",
       "      <td>...</td>\n",
       "      <td>0.73</td>\n",
       "      <td>8.75</td>\n",
       "      <td>0.12</td>\n",
       "      <td>1.57</td>\n",
       "      <td>748.55</td>\n",
       "      <td>4.55</td>\n",
       "      <td>1.56</td>\n",
       "      <td>1</td>\n",
       "      <td>0</td>\n",
       "      <td>0</td>\n",
       "    </tr>\n",
       "    <tr>\n",
       "      <th>123</th>\n",
       "      <td>0.75</td>\n",
       "      <td>0.00</td>\n",
       "      <td>0.27</td>\n",
       "      <td>0.00</td>\n",
       "      <td>0.06</td>\n",
       "      <td>0.0</td>\n",
       "      <td>0.00</td>\n",
       "      <td>27.25</td>\n",
       "      <td>3.42</td>\n",
       "      <td>0.0</td>\n",
       "      <td>...</td>\n",
       "      <td>1.29</td>\n",
       "      <td>14.93</td>\n",
       "      <td>0.14</td>\n",
       "      <td>5.05</td>\n",
       "      <td>437.62</td>\n",
       "      <td>10.34</td>\n",
       "      <td>3.99</td>\n",
       "      <td>1</td>\n",
       "      <td>0</td>\n",
       "      <td>0</td>\n",
       "    </tr>\n",
       "    <tr>\n",
       "      <th>124</th>\n",
       "      <td>2.80</td>\n",
       "      <td>0.00</td>\n",
       "      <td>0.04</td>\n",
       "      <td>0.00</td>\n",
       "      <td>0.00</td>\n",
       "      <td>0.0</td>\n",
       "      <td>0.00</td>\n",
       "      <td>21.64</td>\n",
       "      <td>1.43</td>\n",
       "      <td>0.0</td>\n",
       "      <td>...</td>\n",
       "      <td>0.45</td>\n",
       "      <td>4.77</td>\n",
       "      <td>0.33</td>\n",
       "      <td>1.07</td>\n",
       "      <td>369.66</td>\n",
       "      <td>1.83</td>\n",
       "      <td>0.96</td>\n",
       "      <td>0</td>\n",
       "      <td>1</td>\n",
       "      <td>0</td>\n",
       "    </tr>\n",
       "    <tr>\n",
       "      <th>125</th>\n",
       "      <td>0.22</td>\n",
       "      <td>0.00</td>\n",
       "      <td>0.28</td>\n",
       "      <td>0.00</td>\n",
       "      <td>0.00</td>\n",
       "      <td>0.0</td>\n",
       "      <td>0.00</td>\n",
       "      <td>5.54</td>\n",
       "      <td>0.35</td>\n",
       "      <td>0.0</td>\n",
       "      <td>...</td>\n",
       "      <td>0.10</td>\n",
       "      <td>3.46</td>\n",
       "      <td>0.10</td>\n",
       "      <td>1.25</td>\n",
       "      <td>577.13</td>\n",
       "      <td>2.08</td>\n",
       "      <td>0.27</td>\n",
       "      <td>0</td>\n",
       "      <td>1</td>\n",
       "      <td>0</td>\n",
       "    </tr>\n",
       "  </tbody>\n",
       "</table>\n",
       "<p>126 rows × 19475 columns</p>\n",
       "</div>"
      ],
      "text/plain": [
       "     A1BG  A1CF   A2M  A2ML1  A3GALT2  A4GALT  A4GNT   AAAS  AACS  AADAC  ...  \\\n",
       "0    0.49  0.00  0.21   0.04     0.07     0.0   0.03  18.92  4.07    0.0  ...   \n",
       "1    0.29  0.00  0.14   0.00     0.00     0.0   0.05  18.68  3.00    0.0  ...   \n",
       "2    0.26  0.00  0.03   0.02     0.00     0.0   0.07  13.85  1.83    0.0  ...   \n",
       "3    0.45  0.01  0.09   0.07     0.00     0.0   0.00  22.11  4.22    0.0  ...   \n",
       "4    0.17  0.00  0.00   0.05     0.07     0.0   0.00   8.45  1.17    0.0  ...   \n",
       "..    ...   ...   ...    ...      ...     ...    ...    ...   ...    ...  ...   \n",
       "121  0.30  0.00  0.02   0.02     0.00     0.0   0.00  17.06  1.96    0.0  ...   \n",
       "122  0.70  0.00  0.02   0.01     0.00     0.0   0.00  20.31  1.54    0.0  ...   \n",
       "123  0.75  0.00  0.27   0.00     0.06     0.0   0.00  27.25  3.42    0.0  ...   \n",
       "124  2.80  0.00  0.04   0.00     0.00     0.0   0.00  21.64  1.43    0.0  ...   \n",
       "125  0.22  0.00  0.28   0.00     0.00     0.0   0.00   5.54  0.35    0.0  ...   \n",
       "\n",
       "     ZXDB   ZXDC  ZYG11A  ZYG11B     ZYX  ZZEF1  ZZZ3  Sex_female  Sex_male  \\\n",
       "0    1.63  15.51    0.06    8.17  363.01  19.17  6.05           0         1   \n",
       "1    1.15  15.62    0.14    8.20  399.80  15.72  4.12           0         1   \n",
       "2    0.32  17.67    0.28    3.62  430.35  13.95  1.81           0         1   \n",
       "3    2.21  15.61    0.27    7.88  209.25  14.78  7.15           0         1   \n",
       "4    0.55   9.34    0.07    5.96  272.91   8.69  2.70           0         1   \n",
       "..    ...    ...     ...     ...     ...    ...   ...         ...       ...   \n",
       "121  0.46   5.93    0.24    1.58  447.14   3.04  1.00           0         1   \n",
       "122  0.73   8.75    0.12    1.57  748.55   4.55  1.56           1         0   \n",
       "123  1.29  14.93    0.14    5.05  437.62  10.34  3.99           1         0   \n",
       "124  0.45   4.77    0.33    1.07  369.66   1.83  0.96           0         1   \n",
       "125  0.10   3.46    0.10    1.25  577.13   2.08  0.27           0         1   \n",
       "\n",
       "     Sex_unknown  \n",
       "0              0  \n",
       "1              0  \n",
       "2              0  \n",
       "3              0  \n",
       "4              0  \n",
       "..           ...  \n",
       "121            0  \n",
       "122            0  \n",
       "123            0  \n",
       "124            0  \n",
       "125            0  \n",
       "\n",
       "[126 rows x 19475 columns]"
      ]
     },
     "execution_count": 9,
     "metadata": {},
     "output_type": "execute_result"
    }
   ],
   "source": [
    "#selecting only the numerical features\n",
    "X= df.drop(columns=['Sample','Severity','Age'])\n",
    "X"
   ]
  },
  {
   "cell_type": "markdown",
   "metadata": {},
   "source": [
    "<b>Tareget Variable y</b>"
   ]
  },
  {
   "cell_type": "code",
   "execution_count": 10,
   "metadata": {},
   "outputs": [
    {
     "data": {
      "text/plain": [
       "0      NonICU\n",
       "1      NonICU\n",
       "2      NonICU\n",
       "3      NonICU\n",
       "4      NonICU\n",
       "        ...  \n",
       "121    NonICU\n",
       "122    NonICU\n",
       "123    NonICU\n",
       "124    NonICU\n",
       "125       ICU\n",
       "Name: Severity, Length: 126, dtype: object"
      ]
     },
     "execution_count": 10,
     "metadata": {},
     "output_type": "execute_result"
    }
   ],
   "source": [
    "#Defining the target\n",
    "y=df['Severity']\n",
    "y"
   ]
  },
  {
   "cell_type": "code",
   "execution_count": 11,
   "metadata": {},
   "outputs": [
    {
     "data": {
      "text/plain": [
       "<matplotlib.axes._subplots.AxesSubplot at 0x5a54d8190>"
      ]
     },
     "execution_count": 11,
     "metadata": {},
     "output_type": "execute_result"
    },
    {
     "data": {
      "image/png": "[encoded data removed]",
      "text/plain": [
       "<Figure size 432x288 with 1 Axes>"
      ]
     },
     "metadata": {},
     "output_type": "display_data"
    }
   ],
   "source": [
    "#Displaying the Value counts of the Target classes\n",
    "y.value_counts().plot(kind='bar')\n"
   ]
  },
  {
   "cell_type": "markdown",
   "metadata": {},
   "source": [
    "Both the classes are almost balanced with ICU class slighly greater than NonICU."
   ]
  },
  {
   "cell_type": "markdown",
   "metadata": {},
   "source": [
    "<b>Standardize the Variables</b><br>\n",
    "\n",
    "Time to standardize the variables.\n",
    "\n",
    "** Import StandardScaler from Scikit learn.**\n"
   ]
  },
  {
   "cell_type": "code",
   "execution_count": 12,
   "metadata": {},
   "outputs": [
    {
     "data": {
      "text/plain": [
       "StandardScaler()"
      ]
     },
     "execution_count": 12,
     "metadata": {},
     "output_type": "execute_result"
    }
   ],
   "source": [
    "#Stadardization of data\n",
    "from sklearn.preprocessing import StandardScaler\n",
    "scaler = StandardScaler()\n",
    "scaler.fit(X)"
   ]
  },
  {
   "cell_type": "markdown",
   "metadata": {},
   "source": [
    "Standardization needs to be performed before PCA as PCA is very sensitive to variance. Standard Scalar is used here for standardization."
   ]
  },
  {
   "cell_type": "code",
   "execution_count": 13,
   "metadata": {},
   "outputs": [
    {
     "data": {
      "text/plain": [
       "array([[ 0.42542898, -0.47328638,  0.63694296, ..., -0.82462113,\n",
       "         0.83827364, -0.08944272],\n",
       "       [-0.24128808, -0.47328638,  0.12059766, ..., -0.82462113,\n",
       "         0.83827364, -0.08944272],\n",
       "       [-0.34129564, -0.47328638, -0.6908021 , ..., -0.82462113,\n",
       "         0.83827364, -0.08944272],\n",
       "       ...,\n",
       "       [ 1.29216116, -0.47328638,  1.07952464, ...,  1.21267813,\n",
       "        -1.19292788, -0.08944272],\n",
       "       [ 8.12601106, -0.47328638, -0.61703849, ..., -0.82462113,\n",
       "         0.83827364, -0.08944272],\n",
       "       [-0.47463905, -0.47328638,  1.15328826, ..., -0.82462113,\n",
       "         0.83827364, -0.08944272]])"
      ]
     },
     "execution_count": 13,
     "metadata": {},
     "output_type": "execute_result"
    }
   ],
   "source": [
    "scaled_data = scaler.transform(X)\n",
    "scaled_data"
   ]
  },
  {
   "cell_type": "markdown",
   "metadata": {},
   "source": [
    "Now mean and standard deviations of variables are approximately, 0 an 1 respectively.\n"
   ]
  },
  {
   "cell_type": "markdown",
   "metadata": {},
   "source": [
    "<b> PCA transformation</b>"
   ]
  },
  {
   "cell_type": "code",
   "execution_count": 14,
   "metadata": {},
   "outputs": [
    {
     "data": {
      "text/plain": [
       "PCA(n_components=10)"
      ]
     },
     "execution_count": 14,
     "metadata": {},
     "output_type": "execute_result"
    }
   ],
   "source": [
    "#performing PCA over the scaled data\n",
    "from sklearn.decomposition import PCA\n",
    "pca = PCA(n_components=10\n",
    "         )\n",
    "pca.fit(scaled_data)\n"
   ]
  },
  {
   "cell_type": "code",
   "execution_count": 15,
   "metadata": {},
   "outputs": [
    {
     "data": {
      "image/png": "[encoded data removed]",
      "text/plain": [
       "<Figure size 432x288 with 1 Axes>"
      ]
     },
     "metadata": {},
     "output_type": "display_data"
    }
   ],
   "source": [
    "plt.plot(np.cumsum(pca.explained_variance_ratio_))\n",
    "plt.xlabel('number of components')\n",
    "plt.ylabel('cumulative explained variance');"
   ]
  },
  {
   "cell_type": "markdown",
   "metadata": {},
   "source": [
    "By selecting n_components=10, we can see that more than 60 percentage of the data is considered.\n",
    "\n",
    "The number of columns changed from 19472 to 10 after doing PCA and selecting no. of components=10.\n"
   ]
  },
  {
   "cell_type": "code",
   "execution_count": 16,
   "metadata": {},
   "outputs": [
    {
     "data": {
      "text/plain": [
       "(126, 19475)"
      ]
     },
     "execution_count": 16,
     "metadata": {},
     "output_type": "execute_result"
    }
   ],
   "source": [
    "x_pca=pca.transform(scaled_data)\n",
    "scaled_data.shape"
   ]
  },
  {
   "cell_type": "code",
   "execution_count": 17,
   "metadata": {},
   "outputs": [
    {
     "data": {
      "text/plain": [
       "(126, 10)"
      ]
     },
     "execution_count": 17,
     "metadata": {},
     "output_type": "execute_result"
    }
   ],
   "source": [
    "x_pca.shape"
   ]
  },
  {
   "cell_type": "markdown",
   "metadata": {},
   "source": [
    "The following line import the principal components into a Pandas data frame and merge them with\n",
    "the target.\n"
   ]
  },
  {
   "cell_type": "code",
   "execution_count": 18,
   "metadata": {},
   "outputs": [],
   "source": [
    "df_pca = pd.concat([pd.DataFrame(data = x_pca),\n",
    "df[['Severity']]],axis = 1)\n",
    "df_pca.columns = [\"c0\",\"c1\",\"c2\",\"c3\",\"c4\",\"c5\",\"c6\",\"c7\",\"c8\",\"c9\",\"Severity\"]"
   ]
  },
  {
   "cell_type": "code",
   "execution_count": 19,
   "metadata": {},
   "outputs": [
    {
     "data": {
      "text/html": [
       "<div>\n",
       "<style scoped>\n",
       "    .dataframe tbody tr th:only-of-type {\n",
       "        vertical-align: middle;\n",
       "    }\n",
       "\n",
       "    .dataframe tbody tr th {\n",
       "        vertical-align: top;\n",
       "    }\n",
       "\n",
       "    .dataframe thead th {\n",
       "        text-align: right;\n",
       "    }\n",
       "</style>\n",
       "<table border=\"1\" class=\"dataframe\">\n",
       "  <thead>\n",
       "    <tr style=\"text-align: right;\">\n",
       "      <th></th>\n",
       "      <th>c0</th>\n",
       "      <th>c1</th>\n",
       "      <th>c2</th>\n",
       "      <th>c3</th>\n",
       "      <th>c4</th>\n",
       "      <th>c5</th>\n",
       "      <th>c6</th>\n",
       "      <th>c7</th>\n",
       "      <th>c8</th>\n",
       "      <th>c9</th>\n",
       "      <th>Severity</th>\n",
       "    </tr>\n",
       "  </thead>\n",
       "  <tbody>\n",
       "    <tr>\n",
       "      <th>0</th>\n",
       "      <td>98.976419</td>\n",
       "      <td>3.170290</td>\n",
       "      <td>-50.475737</td>\n",
       "      <td>-68.015584</td>\n",
       "      <td>41.962137</td>\n",
       "      <td>-29.447963</td>\n",
       "      <td>45.382818</td>\n",
       "      <td>22.026441</td>\n",
       "      <td>3.582543</td>\n",
       "      <td>-14.098597</td>\n",
       "      <td>0</td>\n",
       "    </tr>\n",
       "    <tr>\n",
       "      <th>1</th>\n",
       "      <td>60.460121</td>\n",
       "      <td>8.911312</td>\n",
       "      <td>-12.494851</td>\n",
       "      <td>18.013165</td>\n",
       "      <td>14.398645</td>\n",
       "      <td>-30.688045</td>\n",
       "      <td>21.645297</td>\n",
       "      <td>-3.602070</td>\n",
       "      <td>-4.720479</td>\n",
       "      <td>15.608196</td>\n",
       "      <td>0</td>\n",
       "    </tr>\n",
       "    <tr>\n",
       "      <th>2</th>\n",
       "      <td>-29.816775</td>\n",
       "      <td>-29.983836</td>\n",
       "      <td>-49.326735</td>\n",
       "      <td>-34.827108</td>\n",
       "      <td>10.993873</td>\n",
       "      <td>28.425559</td>\n",
       "      <td>-4.763794</td>\n",
       "      <td>33.338003</td>\n",
       "      <td>-2.033980</td>\n",
       "      <td>25.241119</td>\n",
       "      <td>0</td>\n",
       "    </tr>\n",
       "    <tr>\n",
       "      <th>3</th>\n",
       "      <td>139.499747</td>\n",
       "      <td>23.511303</td>\n",
       "      <td>2.655565</td>\n",
       "      <td>0.304646</td>\n",
       "      <td>-30.983050</td>\n",
       "      <td>-19.269299</td>\n",
       "      <td>18.765458</td>\n",
       "      <td>-19.413724</td>\n",
       "      <td>-5.742300</td>\n",
       "      <td>1.651617</td>\n",
       "      <td>0</td>\n",
       "    </tr>\n",
       "    <tr>\n",
       "      <th>4</th>\n",
       "      <td>-16.780319</td>\n",
       "      <td>-68.062698</td>\n",
       "      <td>13.767829</td>\n",
       "      <td>-36.180258</td>\n",
       "      <td>3.523237</td>\n",
       "      <td>25.710117</td>\n",
       "      <td>-14.606502</td>\n",
       "      <td>7.297713</td>\n",
       "      <td>-6.120628</td>\n",
       "      <td>-15.231082</td>\n",
       "      <td>0</td>\n",
       "    </tr>\n",
       "    <tr>\n",
       "      <th>...</th>\n",
       "      <td>...</td>\n",
       "      <td>...</td>\n",
       "      <td>...</td>\n",
       "      <td>...</td>\n",
       "      <td>...</td>\n",
       "      <td>...</td>\n",
       "      <td>...</td>\n",
       "      <td>...</td>\n",
       "      <td>...</td>\n",
       "      <td>...</td>\n",
       "      <td>...</td>\n",
       "    </tr>\n",
       "    <tr>\n",
       "      <th>121</th>\n",
       "      <td>-92.801086</td>\n",
       "      <td>78.736526</td>\n",
       "      <td>14.012305</td>\n",
       "      <td>-1.781297</td>\n",
       "      <td>-13.748193</td>\n",
       "      <td>4.692353</td>\n",
       "      <td>1.179850</td>\n",
       "      <td>1.343702</td>\n",
       "      <td>-10.929491</td>\n",
       "      <td>-15.313856</td>\n",
       "      <td>0</td>\n",
       "    </tr>\n",
       "    <tr>\n",
       "      <th>122</th>\n",
       "      <td>-60.278942</td>\n",
       "      <td>92.222263</td>\n",
       "      <td>-51.629907</td>\n",
       "      <td>-11.280393</td>\n",
       "      <td>-6.864331</td>\n",
       "      <td>-2.047322</td>\n",
       "      <td>2.761585</td>\n",
       "      <td>10.518627</td>\n",
       "      <td>12.595395</td>\n",
       "      <td>-14.713658</td>\n",
       "      <td>0</td>\n",
       "    </tr>\n",
       "    <tr>\n",
       "      <th>123</th>\n",
       "      <td>42.224984</td>\n",
       "      <td>63.439931</td>\n",
       "      <td>-23.404617</td>\n",
       "      <td>5.038192</td>\n",
       "      <td>-48.322881</td>\n",
       "      <td>-3.205198</td>\n",
       "      <td>0.834812</td>\n",
       "      <td>0.088957</td>\n",
       "      <td>4.713089</td>\n",
       "      <td>3.430108</td>\n",
       "      <td>0</td>\n",
       "    </tr>\n",
       "    <tr>\n",
       "      <th>124</th>\n",
       "      <td>-75.950314</td>\n",
       "      <td>136.461880</td>\n",
       "      <td>-16.988605</td>\n",
       "      <td>4.214414</td>\n",
       "      <td>-22.386672</td>\n",
       "      <td>19.975894</td>\n",
       "      <td>-13.774357</td>\n",
       "      <td>-13.594924</td>\n",
       "      <td>-9.429747</td>\n",
       "      <td>-29.434229</td>\n",
       "      <td>0</td>\n",
       "    </tr>\n",
       "    <tr>\n",
       "      <th>125</th>\n",
       "      <td>-140.187890</td>\n",
       "      <td>15.107460</td>\n",
       "      <td>50.324574</td>\n",
       "      <td>-8.256710</td>\n",
       "      <td>15.893611</td>\n",
       "      <td>0.288681</td>\n",
       "      <td>17.569769</td>\n",
       "      <td>14.223595</td>\n",
       "      <td>6.811136</td>\n",
       "      <td>-23.527974</td>\n",
       "      <td>1</td>\n",
       "    </tr>\n",
       "  </tbody>\n",
       "</table>\n",
       "<p>126 rows × 11 columns</p>\n",
       "</div>"
      ],
      "text/plain": [
       "             c0          c1         c2         c3         c4         c5  \\\n",
       "0     98.976419    3.170290 -50.475737 -68.015584  41.962137 -29.447963   \n",
       "1     60.460121    8.911312 -12.494851  18.013165  14.398645 -30.688045   \n",
       "2    -29.816775  -29.983836 -49.326735 -34.827108  10.993873  28.425559   \n",
       "3    139.499747   23.511303   2.655565   0.304646 -30.983050 -19.269299   \n",
       "4    -16.780319  -68.062698  13.767829 -36.180258   3.523237  25.710117   \n",
       "..          ...         ...        ...        ...        ...        ...   \n",
       "121  -92.801086   78.736526  14.012305  -1.781297 -13.748193   4.692353   \n",
       "122  -60.278942   92.222263 -51.629907 -11.280393  -6.864331  -2.047322   \n",
       "123   42.224984   63.439931 -23.404617   5.038192 -48.322881  -3.205198   \n",
       "124  -75.950314  136.461880 -16.988605   4.214414 -22.386672  19.975894   \n",
       "125 -140.187890   15.107460  50.324574  -8.256710  15.893611   0.288681   \n",
       "\n",
       "            c6         c7         c8         c9  Severity  \n",
       "0    45.382818  22.026441   3.582543 -14.098597         0  \n",
       "1    21.645297  -3.602070  -4.720479  15.608196         0  \n",
       "2    -4.763794  33.338003  -2.033980  25.241119         0  \n",
       "3    18.765458 -19.413724  -5.742300   1.651617         0  \n",
       "4   -14.606502   7.297713  -6.120628 -15.231082         0  \n",
       "..         ...        ...        ...        ...       ...  \n",
       "121   1.179850   1.343702 -10.929491 -15.313856         0  \n",
       "122   2.761585  10.518627  12.595395 -14.713658         0  \n",
       "123   0.834812   0.088957   4.713089   3.430108         0  \n",
       "124 -13.774357 -13.594924  -9.429747 -29.434229         0  \n",
       "125  17.569769  14.223595   6.811136 -23.527974         1  \n",
       "\n",
       "[126 rows x 11 columns]"
      ]
     },
     "execution_count": 19,
     "metadata": {},
     "output_type": "execute_result"
    }
   ],
   "source": [
    "#We are coverting the target into binary values.\n",
    "df_pca['Severity'].replace(to_replace=['NonICU', 'ICU'], value=[0, 1], inplace=True)\n",
    "df_pca"
   ]
  },
  {
   "cell_type": "markdown",
   "metadata": {},
   "source": [
    "The following line shows the singular values corresponding to each of the selected components.\n",
    "Remember what the singular values are related to the eigenvalues of covariance matrix."
   ]
  },
  {
   "cell_type": "code",
   "execution_count": 20,
   "metadata": {},
   "outputs": [
    {
     "data": {
      "text/plain": [
       "array([811.10864578, 590.34818154, 292.60960051, 261.04089491,\n",
       "       255.88195662, 214.03378665, 207.24706863, 190.87785294,\n",
       "       181.49869091, 165.26379823])"
      ]
     },
     "execution_count": 20,
     "metadata": {},
     "output_type": "execute_result"
    }
   ],
   "source": [
    "pca.singular_values_\n"
   ]
  },
  {
   "cell_type": "markdown",
   "metadata": {},
   "source": [
    "The following line shows the percentage of variance explained by each of the selected components.\n",
    "Remember how these values are computed, the variance ratio is equal to the squared values of each\n",
    "singular value over the sum of squared values of all singular values.\n"
   ]
  },
  {
   "cell_type": "code",
   "execution_count": 21,
   "metadata": {},
   "outputs": [
    {
     "data": {
      "text/plain": [
       "array([0.28499572, 0.15097212, 0.03709005, 0.02951871, 0.02836349,\n",
       "       0.01984472, 0.01860617, 0.01578307, 0.01427011, 0.01183139])"
      ]
     },
     "execution_count": 21,
     "metadata": {},
     "output_type": "execute_result"
    }
   ],
   "source": [
    "pca.explained_variance_ratio_\n"
   ]
  },
  {
   "cell_type": "code",
   "execution_count": 22,
   "metadata": {},
   "outputs": [
    {
     "data": {
      "image/png": "[encoded data removed]",
      "text/plain": [
       "<Figure size 576x432 with 1 Axes>"
      ]
     },
     "metadata": {},
     "output_type": "display_data"
    }
   ],
   "source": [
    "plt.figure(figsize=(8, 6))\n",
    "plt.bar(range(10), pca.explained_variance_, alpha=0.5, align='center', label='individual variance')\n",
    "plt.legend()\n",
    "plt.ylabel('Variance ratio')\n",
    "plt.xlabel('Principal components')\n",
    "plt.show()"
   ]
  },
  {
   "cell_type": "markdown",
   "metadata": {},
   "source": [
    "The above plot shows the variance ratio for each principal components."
   ]
  },
  {
   "cell_type": "code",
   "execution_count": 23,
   "metadata": {},
   "outputs": [
    {
     "data": {
      "text/plain": [
       "array([[ 0.00039984,  0.00535234,  0.00530106, ...,  0.00090122,\n",
       "        -0.00101739,  0.00065951],\n",
       "       [ 0.01146478, -0.00317495, -0.00050144, ...,  0.00332363,\n",
       "        -0.00382677,  0.00284677],\n",
       "       [-0.00976732, -0.00092564,  0.00436111, ...,  0.0035907 ,\n",
       "        -0.0032062 , -0.00207369],\n",
       "       ...,\n",
       "       [-0.00435856, -0.00337173,  0.00344851, ...,  0.0074884 ,\n",
       "        -0.00751616,  0.00027837],\n",
       "       [-0.00471085, -0.00625295, -0.00325119, ...,  0.00219969,\n",
       "        -0.00359706,  0.00778958],\n",
       "       [-0.0157508 , -0.00511721, -0.01308561, ..., -0.00051938,\n",
       "        -0.00065724,  0.00651967]])"
      ]
     },
     "execution_count": 23,
     "metadata": {},
     "output_type": "execute_result"
    }
   ],
   "source": [
    "pca.components_\n"
   ]
  },
  {
   "cell_type": "markdown",
   "metadata": {},
   "source": [
    "The first PCA component is made by 0.00039984 of column ‘A1BG’, 0.00535234 of ‘A1CF’and so on.\n"
   ]
  },
  {
   "cell_type": "code",
   "execution_count": 24,
   "metadata": {},
   "outputs": [],
   "source": [
    "X_df_pca=df_pca.drop(columns=['Severity'])\n",
    "y_df_pca=df_pca['Severity']"
   ]
  },
  {
   "cell_type": "markdown",
   "metadata": {},
   "source": [
    "<b>Train Test Split</b><br>\n",
    "Now it's time to do a train test split, and train our model!<br>\n",
    "** Split your data into a training set and a testing set.**\n"
   ]
  },
  {
   "cell_type": "code",
   "execution_count": 25,
   "metadata": {},
   "outputs": [],
   "source": [
    "from sklearn.model_selection import train_test_split"
   ]
  },
  {
   "cell_type": "code",
   "execution_count": 26,
   "metadata": {},
   "outputs": [],
   "source": [
    "X_train, X_test, y_train, y_test = train_test_split(X_df_pca, y_df_pca, test_size=0.33, random_state=42)"
   ]
  },
  {
   "cell_type": "markdown",
   "metadata": {},
   "source": [
    "For training we take 67% of data and for testing we take 33 percentage of data."
   ]
  },
  {
   "cell_type": "markdown",
   "metadata": {},
   "source": [
    "<b>Logistic Regression</b>"
   ]
  },
  {
   "cell_type": "code",
   "execution_count": 27,
   "metadata": {},
   "outputs": [],
   "source": [
    "from sklearn.linear_model import LogisticRegression"
   ]
  },
  {
   "cell_type": "code",
   "execution_count": 28,
   "metadata": {},
   "outputs": [
    {
     "data": {
      "text/plain": [
       "LogisticRegression()"
      ]
     },
     "execution_count": 28,
     "metadata": {},
     "output_type": "execute_result"
    }
   ],
   "source": [
    "logmodel = LogisticRegression()\n",
    "logmodel.fit(X_train,y_train)"
   ]
  },
  {
   "cell_type": "markdown",
   "metadata": {},
   "source": [
    "<b>Predictions on test data</b>"
   ]
  },
  {
   "cell_type": "code",
   "execution_count": 29,
   "metadata": {},
   "outputs": [],
   "source": [
    "predictions = logmodel.predict(X_test)\n"
   ]
  },
  {
   "cell_type": "markdown",
   "metadata": {},
   "source": [
    "<b>Evaluation</b>"
   ]
  },
  {
   "cell_type": "code",
   "execution_count": 30,
   "metadata": {},
   "outputs": [],
   "source": [
    "from sklearn.metrics import classification_report"
   ]
  },
  {
   "cell_type": "code",
   "execution_count": 31,
   "metadata": {},
   "outputs": [
    {
     "name": "stdout",
     "output_type": "stream",
     "text": [
      "              precision    recall  f1-score   support\n",
      "\n",
      "           0       0.78      0.86      0.82        21\n",
      "           1       0.84      0.76      0.80        21\n",
      "\n",
      "    accuracy                           0.81        42\n",
      "   macro avg       0.81      0.81      0.81        42\n",
      "weighted avg       0.81      0.81      0.81        42\n",
      "\n"
     ]
    }
   ],
   "source": [
    "print(classification_report(y_test,predictions))"
   ]
  },
  {
   "cell_type": "markdown",
   "metadata": {},
   "source": [
    "<b>Confusion matrix</b>"
   ]
  },
  {
   "cell_type": "markdown",
   "metadata": {},
   "source": [
    "The block below shows the accuracy matrix on test data.<br>\n",
    "The module doing so is confusion_matrix from sklearn.metrics"
   ]
  },
  {
   "cell_type": "code",
   "execution_count": 32,
   "metadata": {},
   "outputs": [
    {
     "name": "stdout",
     "output_type": "stream",
     "text": [
      "The Confusion Matrix :\n",
      "[[18  3]\n",
      " [ 5 16]]\n",
      "Accuracy Percentage :  80.95238095238095 %\n"
     ]
    }
   ],
   "source": [
    "#Making the confusion MAtrix\n",
    "from sklearn.metrics import confusion_matrix,accuracy_score\n",
    "cm = confusion_matrix(y_test,predictions)\n",
    "ac = accuracy_score(y_test,predictions)\n",
    "print(\"The Confusion Matrix :\")\n",
    "print(cm)\n",
    "print(\"Accuracy Percentage : \",ac*100,\"%\")\n"
   ]
  },
  {
   "cell_type": "markdown",
   "metadata": {},
   "source": [
    "The obtained matrix shows the following:\n",
    "\n",
    "    18 true negative predictions\n",
    "    5 false negative predictions\n",
    "    3 false positive prediction\n",
    "    16 true positive predictions"
   ]
  },
  {
   "cell_type": "markdown",
   "metadata": {},
   "source": [
    "Most of elements lie in the diagonal, which means that most of predictions are correct.\n",
    "\n"
   ]
  },
  {
   "cell_type": "markdown",
   "metadata": {},
   "source": [
    "<b>Accuracy<b>"
   ]
  },
  {
   "cell_type": "markdown",
   "metadata": {},
   "source": [
    "Let us now see how our model peform in train and test data.<br>"
   ]
  },
  {
   "cell_type": "code",
   "execution_count": 33,
   "metadata": {},
   "outputs": [
    {
     "name": "stdout",
     "output_type": "stream",
     "text": [
      "Test Accuracy: 0.8095238095238095\n",
      "Training Accuracy: 0.8214285714285714\n"
     ]
    }
   ],
   "source": [
    "#Evaluation of test and training accuracy\n",
    "print('Test Accuracy:', logmodel.score(X_test, y_test))\n",
    "print('Training Accuracy:', logmodel.score(X_train, y_train))"
   ]
  },
  {
   "cell_type": "markdown",
   "metadata": {},
   "source": [
    "The accuracy of our model is good; furthermore accuracy on train and test data are almost close.<br>\n",
    "\n",
    "This means that our model does not underfit and does not overfit either, it simply fits very well unseen data.<br>\n",
    "For this reason it does not need any tuning phase."
   ]
  },
  {
   "cell_type": "code",
   "execution_count": 34,
   "metadata": {},
   "outputs": [
    {
     "data": {
      "image/png": "[encoded data removed]",
      "text/plain": [
       "<Figure size 432x288 with 2 Axes>"
      ]
     },
     "metadata": {},
     "output_type": "display_data"
    }
   ],
   "source": [
    "plot_confusion_matrix(logmodel,X_test,y_test,display_labels=['NonICU','ICU'],normalize='true',cmap='Blues');"
   ]
  },
  {
   "cell_type": "markdown",
   "metadata": {},
   "source": [
    "<b>Feature Importance</b>"
   ]
  },
  {
   "cell_type": "code",
   "execution_count": 35,
   "metadata": {},
   "outputs": [
    {
     "name": "stdout",
     "output_type": "stream",
     "text": [
      "Feature: 0, Score: -0.02353\n",
      "Feature: 1, Score: -0.01860\n",
      "Feature: 2, Score: 0.00585\n",
      "Feature: 3, Score: 0.05163\n",
      "Feature: 4, Score: 0.00572\n",
      "Feature: 5, Score: -0.02193\n",
      "Feature: 6, Score: -0.00298\n",
      "Feature: 7, Score: -0.02687\n",
      "Feature: 8, Score: 0.02917\n",
      "Feature: 9, Score: 0.00353\n"
     ]
    },
    {
     "data": {
      "image/png": "[encoded data removed]",
      "text/plain": [
       "<Figure size 432x288 with 1 Axes>"
      ]
     },
     "metadata": {},
     "output_type": "display_data"
    }
   ],
   "source": [
    "# get importance\n",
    "from sklearn.datasets import make_classification\n",
    "from matplotlib import pyplot\n",
    "# get importance\n",
    "importance = logmodel.coef_[0]\n",
    "# summarize feature importance\n",
    "for i,v in enumerate(importance):\n",
    "\tprint('Feature: %0d, Score: %.5f' % (i,v))\n",
    "# plot feature importance\n",
    "pyplot.bar([x for x in range(len(importance))], importance)\n",
    "pyplot.show()"
   ]
  },
  {
   "cell_type": "markdown",
   "metadata": {},
   "source": [
    "Notice that the coefficients are both positive and negative. The positive scores indicate a feature that predicts class 1(ICU), whereas the negative scores indicate a feature that predicts class 0(NonICU). A bar chart is then created for the feature importance scores."
   ]
  },
  {
   "cell_type": "markdown",
   "metadata": {},
   "source": [
    "<b>Interpretability</b><br>\n",
    "Logistic regression is a very interpretable model.<br>\n",
    "In fact,  β  coefficients allow us to understand the role of each feature in determine the predicted outcome.<br>\n",
    "\n",
    "The line below inspects the  β  coefficients of our Logistic Regression model.\n"
   ]
  },
  {
   "cell_type": "code",
   "execution_count": 36,
   "metadata": {},
   "outputs": [
    {
     "data": {
      "text/plain": [
       "array([[-0.02352744, -0.0185974 ,  0.00584829,  0.05162788,  0.00571682,\n",
       "        -0.02192912, -0.00297533, -0.02686947,  0.02916542,  0.00353099]])"
      ]
     },
     "execution_count": 36,
     "metadata": {},
     "output_type": "execute_result"
    }
   ],
   "source": [
    "#Matrix of β  coefficients \n",
    "logmodel.coef_"
   ]
  },
  {
   "cell_type": "markdown",
   "metadata": {},
   "source": [
    "<b>Multicollinearity<b>"
   ]
  },
  {
   "cell_type": "markdown",
   "metadata": {},
   "source": [
    "From theory we know that the  β  coefficients are stable only if our train data does not have multicollinearity."
   ]
  },
  {
   "cell_type": "code",
   "execution_count": 37,
   "metadata": {},
   "outputs": [
    {
     "data": {
      "text/html": [
       "<div>\n",
       "<style scoped>\n",
       "    .dataframe tbody tr th:only-of-type {\n",
       "        vertical-align: middle;\n",
       "    }\n",
       "\n",
       "    .dataframe tbody tr th {\n",
       "        vertical-align: top;\n",
       "    }\n",
       "\n",
       "    .dataframe thead th {\n",
       "        text-align: right;\n",
       "    }\n",
       "</style>\n",
       "<table border=\"1\" class=\"dataframe\">\n",
       "  <thead>\n",
       "    <tr style=\"text-align: right;\">\n",
       "      <th></th>\n",
       "      <th>c0</th>\n",
       "      <th>c1</th>\n",
       "      <th>c2</th>\n",
       "      <th>c3</th>\n",
       "      <th>c4</th>\n",
       "      <th>c5</th>\n",
       "      <th>c6</th>\n",
       "      <th>c7</th>\n",
       "      <th>c8</th>\n",
       "      <th>c9</th>\n",
       "    </tr>\n",
       "  </thead>\n",
       "  <tbody>\n",
       "    <tr>\n",
       "      <th>c0</th>\n",
       "      <td>1.000000</td>\n",
       "      <td>0.024597</td>\n",
       "      <td>-0.104268</td>\n",
       "      <td>0.014929</td>\n",
       "      <td>-0.025407</td>\n",
       "      <td>0.051703</td>\n",
       "      <td>0.006202</td>\n",
       "      <td>0.042273</td>\n",
       "      <td>-0.068140</td>\n",
       "      <td>0.074225</td>\n",
       "    </tr>\n",
       "    <tr>\n",
       "      <th>c1</th>\n",
       "      <td>0.024597</td>\n",
       "      <td>1.000000</td>\n",
       "      <td>-0.084821</td>\n",
       "      <td>-0.022815</td>\n",
       "      <td>-0.002386</td>\n",
       "      <td>0.037619</td>\n",
       "      <td>0.072076</td>\n",
       "      <td>-0.072222</td>\n",
       "      <td>-0.013194</td>\n",
       "      <td>0.053219</td>\n",
       "    </tr>\n",
       "    <tr>\n",
       "      <th>c2</th>\n",
       "      <td>-0.104268</td>\n",
       "      <td>-0.084821</td>\n",
       "      <td>1.000000</td>\n",
       "      <td>-0.041091</td>\n",
       "      <td>-0.052686</td>\n",
       "      <td>-0.122936</td>\n",
       "      <td>0.089486</td>\n",
       "      <td>0.063776</td>\n",
       "      <td>0.011117</td>\n",
       "      <td>-0.012690</td>\n",
       "    </tr>\n",
       "    <tr>\n",
       "      <th>c3</th>\n",
       "      <td>0.014929</td>\n",
       "      <td>-0.022815</td>\n",
       "      <td>-0.041091</td>\n",
       "      <td>1.000000</td>\n",
       "      <td>0.151296</td>\n",
       "      <td>-0.218898</td>\n",
       "      <td>-0.383816</td>\n",
       "      <td>-0.060085</td>\n",
       "      <td>-0.101046</td>\n",
       "      <td>-0.050600</td>\n",
       "    </tr>\n",
       "    <tr>\n",
       "      <th>c4</th>\n",
       "      <td>-0.025407</td>\n",
       "      <td>-0.002386</td>\n",
       "      <td>-0.052686</td>\n",
       "      <td>0.151296</td>\n",
       "      <td>1.000000</td>\n",
       "      <td>-0.013483</td>\n",
       "      <td>-0.131878</td>\n",
       "      <td>-0.106036</td>\n",
       "      <td>0.056426</td>\n",
       "      <td>-0.006370</td>\n",
       "    </tr>\n",
       "    <tr>\n",
       "      <th>c5</th>\n",
       "      <td>0.051703</td>\n",
       "      <td>0.037619</td>\n",
       "      <td>-0.122936</td>\n",
       "      <td>-0.218898</td>\n",
       "      <td>-0.013483</td>\n",
       "      <td>1.000000</td>\n",
       "      <td>-0.400105</td>\n",
       "      <td>0.104141</td>\n",
       "      <td>-0.058420</td>\n",
       "      <td>0.089964</td>\n",
       "    </tr>\n",
       "    <tr>\n",
       "      <th>c6</th>\n",
       "      <td>0.006202</td>\n",
       "      <td>0.072076</td>\n",
       "      <td>0.089486</td>\n",
       "      <td>-0.383816</td>\n",
       "      <td>-0.131878</td>\n",
       "      <td>-0.400105</td>\n",
       "      <td>1.000000</td>\n",
       "      <td>0.149453</td>\n",
       "      <td>-0.137064</td>\n",
       "      <td>0.130250</td>\n",
       "    </tr>\n",
       "    <tr>\n",
       "      <th>c7</th>\n",
       "      <td>0.042273</td>\n",
       "      <td>-0.072222</td>\n",
       "      <td>0.063776</td>\n",
       "      <td>-0.060085</td>\n",
       "      <td>-0.106036</td>\n",
       "      <td>0.104141</td>\n",
       "      <td>0.149453</td>\n",
       "      <td>1.000000</td>\n",
       "      <td>0.022989</td>\n",
       "      <td>-0.074147</td>\n",
       "    </tr>\n",
       "    <tr>\n",
       "      <th>c8</th>\n",
       "      <td>-0.068140</td>\n",
       "      <td>-0.013194</td>\n",
       "      <td>0.011117</td>\n",
       "      <td>-0.101046</td>\n",
       "      <td>0.056426</td>\n",
       "      <td>-0.058420</td>\n",
       "      <td>-0.137064</td>\n",
       "      <td>0.022989</td>\n",
       "      <td>1.000000</td>\n",
       "      <td>-0.080347</td>\n",
       "    </tr>\n",
       "    <tr>\n",
       "      <th>c9</th>\n",
       "      <td>0.074225</td>\n",
       "      <td>0.053219</td>\n",
       "      <td>-0.012690</td>\n",
       "      <td>-0.050600</td>\n",
       "      <td>-0.006370</td>\n",
       "      <td>0.089964</td>\n",
       "      <td>0.130250</td>\n",
       "      <td>-0.074147</td>\n",
       "      <td>-0.080347</td>\n",
       "      <td>1.000000</td>\n",
       "    </tr>\n",
       "  </tbody>\n",
       "</table>\n",
       "</div>"
      ],
      "text/plain": [
       "          c0        c1        c2        c3        c4        c5        c6  \\\n",
       "c0  1.000000  0.024597 -0.104268  0.014929 -0.025407  0.051703  0.006202   \n",
       "c1  0.024597  1.000000 -0.084821 -0.022815 -0.002386  0.037619  0.072076   \n",
       "c2 -0.104268 -0.084821  1.000000 -0.041091 -0.052686 -0.122936  0.089486   \n",
       "c3  0.014929 -0.022815 -0.041091  1.000000  0.151296 -0.218898 -0.383816   \n",
       "c4 -0.025407 -0.002386 -0.052686  0.151296  1.000000 -0.013483 -0.131878   \n",
       "c5  0.051703  0.037619 -0.122936 -0.218898 -0.013483  1.000000 -0.400105   \n",
       "c6  0.006202  0.072076  0.089486 -0.383816 -0.131878 -0.400105  1.000000   \n",
       "c7  0.042273 -0.072222  0.063776 -0.060085 -0.106036  0.104141  0.149453   \n",
       "c8 -0.068140 -0.013194  0.011117 -0.101046  0.056426 -0.058420 -0.137064   \n",
       "c9  0.074225  0.053219 -0.012690 -0.050600 -0.006370  0.089964  0.130250   \n",
       "\n",
       "          c7        c8        c9  \n",
       "c0  0.042273 -0.068140  0.074225  \n",
       "c1 -0.072222 -0.013194  0.053219  \n",
       "c2  0.063776  0.011117 -0.012690  \n",
       "c3 -0.060085 -0.101046 -0.050600  \n",
       "c4 -0.106036  0.056426 -0.006370  \n",
       "c5  0.104141 -0.058420  0.089964  \n",
       "c6  0.149453 -0.137064  0.130250  \n",
       "c7  1.000000  0.022989 -0.074147  \n",
       "c8  0.022989  1.000000 -0.080347  \n",
       "c9 -0.074147 -0.080347  1.000000  "
      ]
     },
     "execution_count": 37,
     "metadata": {},
     "output_type": "execute_result"
    }
   ],
   "source": [
    "X_train.corr()"
   ]
  },
  {
   "cell_type": "code",
   "execution_count": 38,
   "metadata": {},
   "outputs": [
    {
     "data": {
      "text/plain": [
       "<matplotlib.axes._subplots.AxesSubplot at 0x5a5c00b50>"
      ]
     },
     "execution_count": 38,
     "metadata": {},
     "output_type": "execute_result"
    },
    {
     "data": {
      "image/png": "[encoded data removed]",
      "text/plain": [
       "<Figure size 432x288 with 2 Axes>"
      ]
     },
     "metadata": {},
     "output_type": "display_data"
    }
   ],
   "source": [
    "# Generate a custom diverging colormap\n",
    "cmap = sns.diverging_palette(230, 20, as_cmap=True)\n",
    "\n",
    "sns.heatmap(X_train.corr()**2, cmap=cmap, center=0, square=True, linewidths=.5)"
   ]
  },
  {
   "cell_type": "markdown",
   "metadata": {},
   "source": [
    "Our data contains very low multicollinearity.<br>\n",
    "This means that the above  β  coefficients are stable and can be used for interpretations.<br>\n",
    "Our model can be used for hypothesis testing."
   ]
  },
  {
   "cell_type": "markdown",
   "metadata": {},
   "source": [
    "<b>ROC Curve</b>"
   ]
  },
  {
   "cell_type": "code",
   "execution_count": 39,
   "metadata": {},
   "outputs": [
    {
     "data": {
      "image/png": "[encoded data removed]",
      "text/plain": [
       "<Figure size 432x288 with 1 Axes>"
      ]
     },
     "metadata": {},
     "output_type": "display_data"
    }
   ],
   "source": [
    "from sklearn.metrics import roc_auc_score\n",
    "from sklearn.metrics import roc_curve\n",
    "logit_roc_auc = roc_auc_score(y_test, logmodel.predict(X_test))\n",
    "fpr, tpr, thresholds = roc_curve(y_test, logmodel.predict_proba(X_test)[:,1])\n",
    "plt.figure()\n",
    "plt.plot(fpr, tpr, label='Logistic Regression (area = %0.2f)' % logit_roc_auc)\n",
    "plt.plot([0, 1], [0, 1],'r--')\n",
    "plt.xlim([0.0, 1.0])\n",
    "plt.ylim([0.0, 1.05])\n",
    "plt.xlabel('False Positive Rate')\n",
    "plt.ylabel('True Positive Rate')\n",
    "plt.title('Receiver operating characteristic')\n",
    "plt.legend(loc=\"lower right\")\n",
    "plt.savefig('Log_ROC')\n",
    "plt.show()"
   ]
  },
  {
   "cell_type": "markdown",
   "metadata": {},
   "source": [
    "The receiver operating characteristic (ROC) curve is another common tool used with binary classifiers. The dotted line represents the ROC curve of a purely random classifier; a good classifier stays as far away from that line as possible (toward the top-left corner).<br>\n",
    "So it is clear that ours is a good model.\n",
    "    \n"
   ]
  }
 ],
 "metadata": {
  "kernelspec": {
   "display_name": "Python 3",
   "language": "python",
   "name": "python3"
  },
  "language_info": {
   "codemirror_mode": {
    "name": "ipython",
    "version": 3
   },
   "file_extension": ".py",
   "mimetype": "text/x-python",
   "name": "python",
   "nbconvert_exporter": "python",
   "pygments_lexer": "ipython3",
   "version": "3.8.3"
  }
 },
 "nbformat": 4,
 "nbformat_minor": 4
}
