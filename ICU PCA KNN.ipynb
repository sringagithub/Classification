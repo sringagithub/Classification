{
 "cells": [
  {
   "cell_type": "code",
   "execution_count": 79,
   "metadata": {},
   "outputs": [],
   "source": [
    "#Importing the libraries\n",
    "import pandas as pd\n",
    "import numpy as np\n",
    "import seaborn as sns\n",
    "import matplotlib.pyplot as plt\n",
    "from sklearn.model_selection import train_test_split\n",
    "from sklearn import model_selection\n",
    "from sklearn.decomposition import PCA\n",
    "from sklearn.preprocessing import StandardScaler\n",
    "from sklearn.metrics import f1_score,classification_report,plot_confusion_matrix\n",
    "from sklearn.neighbors import KNeighborsClassifier\n",
    "from sklearn.metrics import classification_report,confusion_matrix\n",
    "from sklearn.linear_model import LogisticRegression\n",
    "from sklearn.metrics import confusion_matrix\n",
    "from sklearn.model_selection import train_test_split"
   ]
  },
  {
   "cell_type": "code",
   "execution_count": 237,
   "metadata": {},
   "outputs": [
    {
     "data": {
      "text/html": [
       "<div>\n",
       "<style scoped>\n",
       "    .dataframe tbody tr th:only-of-type {\n",
       "        vertical-align: middle;\n",
       "    }\n",
       "\n",
       "    .dataframe tbody tr th {\n",
       "        vertical-align: top;\n",
       "    }\n",
       "\n",
       "    .dataframe thead th {\n",
       "        text-align: right;\n",
       "    }\n",
       "</style>\n",
       "<table border=\"1\" class=\"dataframe\">\n",
       "  <thead>\n",
       "    <tr style=\"text-align: right;\">\n",
       "      <th></th>\n",
       "      <th>Sample</th>\n",
       "      <th>Age</th>\n",
       "      <th>Sex</th>\n",
       "      <th>Severity</th>\n",
       "      <th>A1BG</th>\n",
       "      <th>A1CF</th>\n",
       "      <th>A2M</th>\n",
       "      <th>A2ML1</th>\n",
       "      <th>A3GALT2</th>\n",
       "      <th>A4GALT</th>\n",
       "      <th>...</th>\n",
       "      <th>ZWILCH</th>\n",
       "      <th>ZWINT</th>\n",
       "      <th>ZXDA</th>\n",
       "      <th>ZXDB</th>\n",
       "      <th>ZXDC</th>\n",
       "      <th>ZYG11A</th>\n",
       "      <th>ZYG11B</th>\n",
       "      <th>ZYX</th>\n",
       "      <th>ZZEF1</th>\n",
       "      <th>ZZZ3</th>\n",
       "    </tr>\n",
       "  </thead>\n",
       "  <tbody>\n",
       "    <tr>\n",
       "      <th>0</th>\n",
       "      <td>C1</td>\n",
       "      <td>39</td>\n",
       "      <td>male</td>\n",
       "      <td>NonICU</td>\n",
       "      <td>0.49</td>\n",
       "      <td>0.00</td>\n",
       "      <td>0.21</td>\n",
       "      <td>0.04</td>\n",
       "      <td>0.07</td>\n",
       "      <td>0.0</td>\n",
       "      <td>...</td>\n",
       "      <td>2.84</td>\n",
       "      <td>4.22</td>\n",
       "      <td>0.95</td>\n",
       "      <td>1.63</td>\n",
       "      <td>15.51</td>\n",
       "      <td>0.06</td>\n",
       "      <td>8.17</td>\n",
       "      <td>363.01</td>\n",
       "      <td>19.17</td>\n",
       "      <td>6.05</td>\n",
       "    </tr>\n",
       "    <tr>\n",
       "      <th>1</th>\n",
       "      <td>C2</td>\n",
       "      <td>63</td>\n",
       "      <td>male</td>\n",
       "      <td>NonICU</td>\n",
       "      <td>0.29</td>\n",
       "      <td>0.00</td>\n",
       "      <td>0.14</td>\n",
       "      <td>0.00</td>\n",
       "      <td>0.00</td>\n",
       "      <td>0.0</td>\n",
       "      <td>...</td>\n",
       "      <td>3.55</td>\n",
       "      <td>12.15</td>\n",
       "      <td>0.60</td>\n",
       "      <td>1.15</td>\n",
       "      <td>15.62</td>\n",
       "      <td>0.14</td>\n",
       "      <td>8.20</td>\n",
       "      <td>399.80</td>\n",
       "      <td>15.72</td>\n",
       "      <td>4.12</td>\n",
       "    </tr>\n",
       "    <tr>\n",
       "      <th>2</th>\n",
       "      <td>C3</td>\n",
       "      <td>33</td>\n",
       "      <td>male</td>\n",
       "      <td>NonICU</td>\n",
       "      <td>0.26</td>\n",
       "      <td>0.00</td>\n",
       "      <td>0.03</td>\n",
       "      <td>0.02</td>\n",
       "      <td>0.00</td>\n",
       "      <td>0.0</td>\n",
       "      <td>...</td>\n",
       "      <td>1.34</td>\n",
       "      <td>2.79</td>\n",
       "      <td>0.18</td>\n",
       "      <td>0.32</td>\n",
       "      <td>17.67</td>\n",
       "      <td>0.28</td>\n",
       "      <td>3.62</td>\n",
       "      <td>430.35</td>\n",
       "      <td>13.95</td>\n",
       "      <td>1.81</td>\n",
       "    </tr>\n",
       "    <tr>\n",
       "      <th>3</th>\n",
       "      <td>C4</td>\n",
       "      <td>49</td>\n",
       "      <td>male</td>\n",
       "      <td>NonICU</td>\n",
       "      <td>0.45</td>\n",
       "      <td>0.01</td>\n",
       "      <td>0.09</td>\n",
       "      <td>0.07</td>\n",
       "      <td>0.00</td>\n",
       "      <td>0.0</td>\n",
       "      <td>...</td>\n",
       "      <td>3.71</td>\n",
       "      <td>5.87</td>\n",
       "      <td>1.40</td>\n",
       "      <td>2.21</td>\n",
       "      <td>15.61</td>\n",
       "      <td>0.27</td>\n",
       "      <td>7.88</td>\n",
       "      <td>209.25</td>\n",
       "      <td>14.78</td>\n",
       "      <td>7.15</td>\n",
       "    </tr>\n",
       "    <tr>\n",
       "      <th>4</th>\n",
       "      <td>C5</td>\n",
       "      <td>49</td>\n",
       "      <td>male</td>\n",
       "      <td>NonICU</td>\n",
       "      <td>0.17</td>\n",
       "      <td>0.00</td>\n",
       "      <td>0.00</td>\n",
       "      <td>0.05</td>\n",
       "      <td>0.07</td>\n",
       "      <td>0.0</td>\n",
       "      <td>...</td>\n",
       "      <td>1.44</td>\n",
       "      <td>4.46</td>\n",
       "      <td>0.28</td>\n",
       "      <td>0.55</td>\n",
       "      <td>9.34</td>\n",
       "      <td>0.07</td>\n",
       "      <td>5.96</td>\n",
       "      <td>272.91</td>\n",
       "      <td>8.69</td>\n",
       "      <td>2.70</td>\n",
       "    </tr>\n",
       "  </tbody>\n",
       "</table>\n",
       "<p>5 rows × 19476 columns</p>\n",
       "</div>"
      ],
      "text/plain": [
       "  Sample  Age   Sex Severity  A1BG  A1CF   A2M  A2ML1  A3GALT2  A4GALT  ...  \\\n",
       "0     C1   39  male   NonICU  0.49  0.00  0.21   0.04     0.07     0.0  ...   \n",
       "1     C2   63  male   NonICU  0.29  0.00  0.14   0.00     0.00     0.0  ...   \n",
       "2     C3   33  male   NonICU  0.26  0.00  0.03   0.02     0.00     0.0  ...   \n",
       "3     C4   49  male   NonICU  0.45  0.01  0.09   0.07     0.00     0.0  ...   \n",
       "4     C5   49  male   NonICU  0.17  0.00  0.00   0.05     0.07     0.0  ...   \n",
       "\n",
       "   ZWILCH  ZWINT  ZXDA  ZXDB   ZXDC  ZYG11A  ZYG11B     ZYX  ZZEF1  ZZZ3  \n",
       "0    2.84   4.22  0.95  1.63  15.51    0.06    8.17  363.01  19.17  6.05  \n",
       "1    3.55  12.15  0.60  1.15  15.62    0.14    8.20  399.80  15.72  4.12  \n",
       "2    1.34   2.79  0.18  0.32  17.67    0.28    3.62  430.35  13.95  1.81  \n",
       "3    3.71   5.87  1.40  2.21  15.61    0.27    7.88  209.25  14.78  7.15  \n",
       "4    1.44   4.46  0.28  0.55   9.34    0.07    5.96  272.91   8.69  2.70  \n",
       "\n",
       "[5 rows x 19476 columns]"
      ]
     },
     "execution_count": 237,
     "metadata": {},
     "output_type": "execute_result"
    }
   ],
   "source": [
    "#Reading the dataset as dataframe df\n",
    "df=pd.read_csv('C:\\\\Users\\\\user\\\\Desktop\\\\4050 new\\\\covid_data.csv')\n",
    "#Displaying the top 5 rows of the csv file\n",
    "df.head()"
   ]
  },
  {
   "cell_type": "code",
   "execution_count": 238,
   "metadata": {},
   "outputs": [
    {
     "data": {
      "text/html": [
       "<div>\n",
       "<style scoped>\n",
       "    .dataframe tbody tr th:only-of-type {\n",
       "        vertical-align: middle;\n",
       "    }\n",
       "\n",
       "    .dataframe tbody tr th {\n",
       "        vertical-align: top;\n",
       "    }\n",
       "\n",
       "    .dataframe thead th {\n",
       "        text-align: right;\n",
       "    }\n",
       "</style>\n",
       "<table border=\"1\" class=\"dataframe\">\n",
       "  <thead>\n",
       "    <tr style=\"text-align: right;\">\n",
       "      <th></th>\n",
       "      <th>A1BG</th>\n",
       "      <th>A1CF</th>\n",
       "      <th>A2M</th>\n",
       "      <th>A2ML1</th>\n",
       "      <th>A3GALT2</th>\n",
       "      <th>A4GALT</th>\n",
       "      <th>A4GNT</th>\n",
       "      <th>AAAS</th>\n",
       "      <th>AACS</th>\n",
       "      <th>AADAC</th>\n",
       "      <th>...</th>\n",
       "      <th>ZWILCH</th>\n",
       "      <th>ZWINT</th>\n",
       "      <th>ZXDA</th>\n",
       "      <th>ZXDB</th>\n",
       "      <th>ZXDC</th>\n",
       "      <th>ZYG11A</th>\n",
       "      <th>ZYG11B</th>\n",
       "      <th>ZYX</th>\n",
       "      <th>ZZEF1</th>\n",
       "      <th>ZZZ3</th>\n",
       "    </tr>\n",
       "  </thead>\n",
       "  <tbody>\n",
       "    <tr>\n",
       "      <th>0</th>\n",
       "      <td>0.49</td>\n",
       "      <td>0.00</td>\n",
       "      <td>0.21</td>\n",
       "      <td>0.04</td>\n",
       "      <td>0.07</td>\n",
       "      <td>0.0</td>\n",
       "      <td>0.03</td>\n",
       "      <td>18.92</td>\n",
       "      <td>4.07</td>\n",
       "      <td>0.0</td>\n",
       "      <td>...</td>\n",
       "      <td>2.84</td>\n",
       "      <td>4.22</td>\n",
       "      <td>0.95</td>\n",
       "      <td>1.63</td>\n",
       "      <td>15.51</td>\n",
       "      <td>0.06</td>\n",
       "      <td>8.17</td>\n",
       "      <td>363.01</td>\n",
       "      <td>19.17</td>\n",
       "      <td>6.05</td>\n",
       "    </tr>\n",
       "    <tr>\n",
       "      <th>1</th>\n",
       "      <td>0.29</td>\n",
       "      <td>0.00</td>\n",
       "      <td>0.14</td>\n",
       "      <td>0.00</td>\n",
       "      <td>0.00</td>\n",
       "      <td>0.0</td>\n",
       "      <td>0.05</td>\n",
       "      <td>18.68</td>\n",
       "      <td>3.00</td>\n",
       "      <td>0.0</td>\n",
       "      <td>...</td>\n",
       "      <td>3.55</td>\n",
       "      <td>12.15</td>\n",
       "      <td>0.60</td>\n",
       "      <td>1.15</td>\n",
       "      <td>15.62</td>\n",
       "      <td>0.14</td>\n",
       "      <td>8.20</td>\n",
       "      <td>399.80</td>\n",
       "      <td>15.72</td>\n",
       "      <td>4.12</td>\n",
       "    </tr>\n",
       "    <tr>\n",
       "      <th>2</th>\n",
       "      <td>0.26</td>\n",
       "      <td>0.00</td>\n",
       "      <td>0.03</td>\n",
       "      <td>0.02</td>\n",
       "      <td>0.00</td>\n",
       "      <td>0.0</td>\n",
       "      <td>0.07</td>\n",
       "      <td>13.85</td>\n",
       "      <td>1.83</td>\n",
       "      <td>0.0</td>\n",
       "      <td>...</td>\n",
       "      <td>1.34</td>\n",
       "      <td>2.79</td>\n",
       "      <td>0.18</td>\n",
       "      <td>0.32</td>\n",
       "      <td>17.67</td>\n",
       "      <td>0.28</td>\n",
       "      <td>3.62</td>\n",
       "      <td>430.35</td>\n",
       "      <td>13.95</td>\n",
       "      <td>1.81</td>\n",
       "    </tr>\n",
       "    <tr>\n",
       "      <th>3</th>\n",
       "      <td>0.45</td>\n",
       "      <td>0.01</td>\n",
       "      <td>0.09</td>\n",
       "      <td>0.07</td>\n",
       "      <td>0.00</td>\n",
       "      <td>0.0</td>\n",
       "      <td>0.00</td>\n",
       "      <td>22.11</td>\n",
       "      <td>4.22</td>\n",
       "      <td>0.0</td>\n",
       "      <td>...</td>\n",
       "      <td>3.71</td>\n",
       "      <td>5.87</td>\n",
       "      <td>1.40</td>\n",
       "      <td>2.21</td>\n",
       "      <td>15.61</td>\n",
       "      <td>0.27</td>\n",
       "      <td>7.88</td>\n",
       "      <td>209.25</td>\n",
       "      <td>14.78</td>\n",
       "      <td>7.15</td>\n",
       "    </tr>\n",
       "    <tr>\n",
       "      <th>4</th>\n",
       "      <td>0.17</td>\n",
       "      <td>0.00</td>\n",
       "      <td>0.00</td>\n",
       "      <td>0.05</td>\n",
       "      <td>0.07</td>\n",
       "      <td>0.0</td>\n",
       "      <td>0.00</td>\n",
       "      <td>8.45</td>\n",
       "      <td>1.17</td>\n",
       "      <td>0.0</td>\n",
       "      <td>...</td>\n",
       "      <td>1.44</td>\n",
       "      <td>4.46</td>\n",
       "      <td>0.28</td>\n",
       "      <td>0.55</td>\n",
       "      <td>9.34</td>\n",
       "      <td>0.07</td>\n",
       "      <td>5.96</td>\n",
       "      <td>272.91</td>\n",
       "      <td>8.69</td>\n",
       "      <td>2.70</td>\n",
       "    </tr>\n",
       "    <tr>\n",
       "      <th>...</th>\n",
       "      <td>...</td>\n",
       "      <td>...</td>\n",
       "      <td>...</td>\n",
       "      <td>...</td>\n",
       "      <td>...</td>\n",
       "      <td>...</td>\n",
       "      <td>...</td>\n",
       "      <td>...</td>\n",
       "      <td>...</td>\n",
       "      <td>...</td>\n",
       "      <td>...</td>\n",
       "      <td>...</td>\n",
       "      <td>...</td>\n",
       "      <td>...</td>\n",
       "      <td>...</td>\n",
       "      <td>...</td>\n",
       "      <td>...</td>\n",
       "      <td>...</td>\n",
       "      <td>...</td>\n",
       "      <td>...</td>\n",
       "      <td>...</td>\n",
       "    </tr>\n",
       "    <tr>\n",
       "      <th>121</th>\n",
       "      <td>0.30</td>\n",
       "      <td>0.00</td>\n",
       "      <td>0.02</td>\n",
       "      <td>0.02</td>\n",
       "      <td>0.00</td>\n",
       "      <td>0.0</td>\n",
       "      <td>0.00</td>\n",
       "      <td>17.06</td>\n",
       "      <td>1.96</td>\n",
       "      <td>0.0</td>\n",
       "      <td>...</td>\n",
       "      <td>0.26</td>\n",
       "      <td>1.01</td>\n",
       "      <td>0.13</td>\n",
       "      <td>0.46</td>\n",
       "      <td>5.93</td>\n",
       "      <td>0.24</td>\n",
       "      <td>1.58</td>\n",
       "      <td>447.14</td>\n",
       "      <td>3.04</td>\n",
       "      <td>1.00</td>\n",
       "    </tr>\n",
       "    <tr>\n",
       "      <th>122</th>\n",
       "      <td>0.70</td>\n",
       "      <td>0.00</td>\n",
       "      <td>0.02</td>\n",
       "      <td>0.01</td>\n",
       "      <td>0.00</td>\n",
       "      <td>0.0</td>\n",
       "      <td>0.00</td>\n",
       "      <td>20.31</td>\n",
       "      <td>1.54</td>\n",
       "      <td>0.0</td>\n",
       "      <td>...</td>\n",
       "      <td>0.64</td>\n",
       "      <td>0.83</td>\n",
       "      <td>0.18</td>\n",
       "      <td>0.73</td>\n",
       "      <td>8.75</td>\n",
       "      <td>0.12</td>\n",
       "      <td>1.57</td>\n",
       "      <td>748.55</td>\n",
       "      <td>4.55</td>\n",
       "      <td>1.56</td>\n",
       "    </tr>\n",
       "    <tr>\n",
       "      <th>123</th>\n",
       "      <td>0.75</td>\n",
       "      <td>0.00</td>\n",
       "      <td>0.27</td>\n",
       "      <td>0.00</td>\n",
       "      <td>0.06</td>\n",
       "      <td>0.0</td>\n",
       "      <td>0.00</td>\n",
       "      <td>27.25</td>\n",
       "      <td>3.42</td>\n",
       "      <td>0.0</td>\n",
       "      <td>...</td>\n",
       "      <td>1.18</td>\n",
       "      <td>2.14</td>\n",
       "      <td>0.41</td>\n",
       "      <td>1.29</td>\n",
       "      <td>14.93</td>\n",
       "      <td>0.14</td>\n",
       "      <td>5.05</td>\n",
       "      <td>437.62</td>\n",
       "      <td>10.34</td>\n",
       "      <td>3.99</td>\n",
       "    </tr>\n",
       "    <tr>\n",
       "      <th>124</th>\n",
       "      <td>2.80</td>\n",
       "      <td>0.00</td>\n",
       "      <td>0.04</td>\n",
       "      <td>0.00</td>\n",
       "      <td>0.00</td>\n",
       "      <td>0.0</td>\n",
       "      <td>0.00</td>\n",
       "      <td>21.64</td>\n",
       "      <td>1.43</td>\n",
       "      <td>0.0</td>\n",
       "      <td>...</td>\n",
       "      <td>0.42</td>\n",
       "      <td>0.61</td>\n",
       "      <td>0.19</td>\n",
       "      <td>0.45</td>\n",
       "      <td>4.77</td>\n",
       "      <td>0.33</td>\n",
       "      <td>1.07</td>\n",
       "      <td>369.66</td>\n",
       "      <td>1.83</td>\n",
       "      <td>0.96</td>\n",
       "    </tr>\n",
       "    <tr>\n",
       "      <th>125</th>\n",
       "      <td>0.22</td>\n",
       "      <td>0.00</td>\n",
       "      <td>0.28</td>\n",
       "      <td>0.00</td>\n",
       "      <td>0.00</td>\n",
       "      <td>0.0</td>\n",
       "      <td>0.00</td>\n",
       "      <td>5.54</td>\n",
       "      <td>0.35</td>\n",
       "      <td>0.0</td>\n",
       "      <td>...</td>\n",
       "      <td>0.32</td>\n",
       "      <td>2.02</td>\n",
       "      <td>0.05</td>\n",
       "      <td>0.10</td>\n",
       "      <td>3.46</td>\n",
       "      <td>0.10</td>\n",
       "      <td>1.25</td>\n",
       "      <td>577.13</td>\n",
       "      <td>2.08</td>\n",
       "      <td>0.27</td>\n",
       "    </tr>\n",
       "  </tbody>\n",
       "</table>\n",
       "<p>126 rows × 19472 columns</p>\n",
       "</div>"
      ],
      "text/plain": [
       "     A1BG  A1CF   A2M  A2ML1  A3GALT2  A4GALT  A4GNT   AAAS  AACS  AADAC  ...  \\\n",
       "0    0.49  0.00  0.21   0.04     0.07     0.0   0.03  18.92  4.07    0.0  ...   \n",
       "1    0.29  0.00  0.14   0.00     0.00     0.0   0.05  18.68  3.00    0.0  ...   \n",
       "2    0.26  0.00  0.03   0.02     0.00     0.0   0.07  13.85  1.83    0.0  ...   \n",
       "3    0.45  0.01  0.09   0.07     0.00     0.0   0.00  22.11  4.22    0.0  ...   \n",
       "4    0.17  0.00  0.00   0.05     0.07     0.0   0.00   8.45  1.17    0.0  ...   \n",
       "..    ...   ...   ...    ...      ...     ...    ...    ...   ...    ...  ...   \n",
       "121  0.30  0.00  0.02   0.02     0.00     0.0   0.00  17.06  1.96    0.0  ...   \n",
       "122  0.70  0.00  0.02   0.01     0.00     0.0   0.00  20.31  1.54    0.0  ...   \n",
       "123  0.75  0.00  0.27   0.00     0.06     0.0   0.00  27.25  3.42    0.0  ...   \n",
       "124  2.80  0.00  0.04   0.00     0.00     0.0   0.00  21.64  1.43    0.0  ...   \n",
       "125  0.22  0.00  0.28   0.00     0.00     0.0   0.00   5.54  0.35    0.0  ...   \n",
       "\n",
       "     ZWILCH  ZWINT  ZXDA  ZXDB   ZXDC  ZYG11A  ZYG11B     ZYX  ZZEF1  ZZZ3  \n",
       "0      2.84   4.22  0.95  1.63  15.51    0.06    8.17  363.01  19.17  6.05  \n",
       "1      3.55  12.15  0.60  1.15  15.62    0.14    8.20  399.80  15.72  4.12  \n",
       "2      1.34   2.79  0.18  0.32  17.67    0.28    3.62  430.35  13.95  1.81  \n",
       "3      3.71   5.87  1.40  2.21  15.61    0.27    7.88  209.25  14.78  7.15  \n",
       "4      1.44   4.46  0.28  0.55   9.34    0.07    5.96  272.91   8.69  2.70  \n",
       "..      ...    ...   ...   ...    ...     ...     ...     ...    ...   ...  \n",
       "121    0.26   1.01  0.13  0.46   5.93    0.24    1.58  447.14   3.04  1.00  \n",
       "122    0.64   0.83  0.18  0.73   8.75    0.12    1.57  748.55   4.55  1.56  \n",
       "123    1.18   2.14  0.41  1.29  14.93    0.14    5.05  437.62  10.34  3.99  \n",
       "124    0.42   0.61  0.19  0.45   4.77    0.33    1.07  369.66   1.83  0.96  \n",
       "125    0.32   2.02  0.05  0.10   3.46    0.10    1.25  577.13   2.08  0.27  \n",
       "\n",
       "[126 rows x 19472 columns]"
      ]
     },
     "execution_count": 238,
     "metadata": {},
     "output_type": "execute_result"
    }
   ],
   "source": [
    "#selecting only the continous features\n",
    "X= df.drop(columns=['Sample','Sex','Severity','Age'])\n",
    "X"
   ]
  },
  {
   "cell_type": "code",
   "execution_count": 239,
   "metadata": {},
   "outputs": [],
   "source": [
    "#Defining the target\n",
    "y=df['Severity']"
   ]
  },
  {
   "cell_type": "code",
   "execution_count": 240,
   "metadata": {},
   "outputs": [
    {
     "data": {
      "text/plain": [
       "<matplotlib.axes._subplots.AxesSubplot at 0x29196e8e20>"
      ]
     },
     "execution_count": 240,
     "metadata": {},
     "output_type": "execute_result"
    },
    {
     "data": {
      "image/png": "[encoded data removed]",
      "text/plain": [
       "<Figure size 432x288 with 1 Axes>"
      ]
     },
     "metadata": {
      "needs_background": "light"
     },
     "output_type": "display_data"
    }
   ],
   "source": [
    "#Displaying the Value counts of the Target classes\n",
    "y.value_counts().plot(kind='bar')\n"
   ]
  },
  {
   "cell_type": "markdown",
   "metadata": {},
   "source": [
    "Classes are almost balanced."
   ]
  },
  {
   "cell_type": "code",
   "execution_count": 241,
   "metadata": {},
   "outputs": [
    {
     "data": {
      "text/plain": [
       "StandardScaler()"
      ]
     },
     "execution_count": 241,
     "metadata": {},
     "output_type": "execute_result"
    }
   ],
   "source": [
    "#Stadardization of data\n",
    "from sklearn.preprocessing import StandardScaler\n",
    "scaler = StandardScaler()\n",
    "scaler.fit(X)\n"
   ]
  },
  {
   "cell_type": "markdown",
   "metadata": {},
   "source": [
    "Standardization needs to be performed before PCA as PCA is very sensitive to variance. Standard Scalar is used here for standardization."
   ]
  },
  {
   "cell_type": "code",
   "execution_count": 242,
   "metadata": {},
   "outputs": [
    {
     "data": {
      "text/plain": [
       "array([[ 0.42542898, -0.47328638,  0.63694296, ..., -0.08760181,\n",
       "         2.16099536,  1.4951034 ],\n",
       "       [-0.24128808, -0.47328638,  0.12059766, ...,  0.16306745,\n",
       "         1.39727419,  0.5250155 ],\n",
       "       [-0.34129564, -0.47328638, -0.6908021 , ...,  0.37122037,\n",
       "         1.00545202, -0.63607417],\n",
       "       ...,\n",
       "       [ 1.29216116, -0.47328638,  1.07952464, ...,  0.42075463,\n",
       "         0.20631189,  0.45967279],\n",
       "       [ 8.12601106, -0.47328638, -0.61703849, ..., -0.04229193,\n",
       "        -1.67753368, -1.06331495],\n",
       "       [-0.47463905, -0.47328638,  1.15328826, ...,  1.37130828,\n",
       "        -1.62219157, -1.41013394]])"
      ]
     },
     "execution_count": 242,
     "metadata": {},
     "output_type": "execute_result"
    }
   ],
   "source": [
    "scaled_data = scaler.transform(X)\n",
    "scaled_data"
   ]
  },
  {
   "cell_type": "markdown",
   "metadata": {},
   "source": [
    "The above displays the scaled data after standardization."
   ]
  },
  {
   "cell_type": "code",
   "execution_count": 351,
   "metadata": {},
   "outputs": [
    {
     "data": {
      "text/plain": [
       "PCA(n_components=10)"
      ]
     },
     "execution_count": 351,
     "metadata": {},
     "output_type": "execute_result"
    }
   ],
   "source": [
    "#performing PCA over the scaled data\n",
    "from sklearn.decomposition import PCA\n",
    "pca = PCA(n_components=10)\n",
    "pca.fit(scaled_data)\n"
   ]
  },
  {
   "cell_type": "code",
   "execution_count": 352,
   "metadata": {},
   "outputs": [
    {
     "data": {
      "text/plain": [
       "(126, 19472)"
      ]
     },
     "execution_count": 352,
     "metadata": {},
     "output_type": "execute_result"
    }
   ],
   "source": [
    "x_pca=pca.transform(scaled_data)\n",
    "scaled_data.shape"
   ]
  },
  {
   "cell_type": "code",
   "execution_count": 353,
   "metadata": {},
   "outputs": [
    {
     "data": {
      "text/plain": [
       "(126, 10)"
      ]
     },
     "execution_count": 353,
     "metadata": {},
     "output_type": "execute_result"
    }
   ],
   "source": [
    "x_pca.shape"
   ]
  },
  {
   "cell_type": "markdown",
   "metadata": {},
   "source": [
    "The dimensionality of the features is reduced from 19472 to 10."
   ]
  },
  {
   "cell_type": "code",
   "execution_count": 354,
   "metadata": {},
   "outputs": [
    {
     "data": {
      "text/plain": [
       "array([0.28504175, 0.15099174, 0.03709511, 0.02952331, 0.02836736,\n",
       "       0.0198477 , 0.01860776, 0.01578389, 0.01427141, 0.01183259])"
      ]
     },
     "execution_count": 354,
     "metadata": {},
     "output_type": "execute_result"
    }
   ],
   "source": [
    "pca.explained_variance_ratio_\n"
   ]
  },
  {
   "cell_type": "code",
   "execution_count": 355,
   "metadata": {},
   "outputs": [
    {
     "data": {
      "image/png": "[encoded data removed]",
      "text/plain": [
       "<Figure size 432x288 with 1 Axes>"
      ]
     },
     "metadata": {
      "needs_background": "light"
     },
     "output_type": "display_data"
    }
   ],
   "source": [
    "\n",
    "plt.plot(np.cumsum(pca.explained_variance_ratio_))\n",
    "plt.xlabel('number of components')\n",
    "plt.ylabel('cumulative explained variance');"
   ]
  },
  {
   "cell_type": "markdown",
   "metadata": {},
   "source": [
    "4 principal components are selected for further analysis."
   ]
  },
  {
   "cell_type": "markdown",
   "metadata": {},
   "source": [
    "The number of columns changed from 19472 to 4 after doing PCA and selecting no. of components=4."
   ]
  },
  {
   "cell_type": "code",
   "execution_count": 356,
   "metadata": {},
   "outputs": [
    {
     "data": {
      "text/html": [
       "<div>\n",
       "<style scoped>\n",
       "    .dataframe tbody tr th:only-of-type {\n",
       "        vertical-align: middle;\n",
       "    }\n",
       "\n",
       "    .dataframe tbody tr th {\n",
       "        vertical-align: top;\n",
       "    }\n",
       "\n",
       "    .dataframe thead th {\n",
       "        text-align: right;\n",
       "    }\n",
       "</style>\n",
       "<table border=\"1\" class=\"dataframe\">\n",
       "  <thead>\n",
       "    <tr style=\"text-align: right;\">\n",
       "      <th></th>\n",
       "      <th>c0</th>\n",
       "      <th>c1</th>\n",
       "      <th>c2</th>\n",
       "      <th>c3</th>\n",
       "      <th>c4</th>\n",
       "      <th>c5</th>\n",
       "      <th>c6</th>\n",
       "      <th>c7</th>\n",
       "      <th>c8</th>\n",
       "      <th>c9</th>\n",
       "      <th>Severity</th>\n",
       "    </tr>\n",
       "  </thead>\n",
       "  <tbody>\n",
       "    <tr>\n",
       "      <th>0</th>\n",
       "      <td>98.978292</td>\n",
       "      <td>3.179455</td>\n",
       "      <td>-50.466519</td>\n",
       "      <td>-68.018814</td>\n",
       "      <td>41.951327</td>\n",
       "      <td>-29.427507</td>\n",
       "      <td>45.410357</td>\n",
       "      <td>22.015567</td>\n",
       "      <td>3.645744</td>\n",
       "      <td>-13.947239</td>\n",
       "      <td>NonICU</td>\n",
       "    </tr>\n",
       "    <tr>\n",
       "      <th>1</th>\n",
       "      <td>60.461812</td>\n",
       "      <td>8.919205</td>\n",
       "      <td>-12.488666</td>\n",
       "      <td>18.016099</td>\n",
       "      <td>14.403047</td>\n",
       "      <td>-30.671328</td>\n",
       "      <td>21.655229</td>\n",
       "      <td>-3.577396</td>\n",
       "      <td>-4.689619</td>\n",
       "      <td>15.744524</td>\n",
       "      <td>NonICU</td>\n",
       "    </tr>\n",
       "    <tr>\n",
       "      <th>2</th>\n",
       "      <td>-29.814824</td>\n",
       "      <td>-29.978427</td>\n",
       "      <td>-49.322819</td>\n",
       "      <td>-34.830861</td>\n",
       "      <td>10.986114</td>\n",
       "      <td>28.420047</td>\n",
       "      <td>-4.769721</td>\n",
       "      <td>33.351198</td>\n",
       "      <td>-2.076261</td>\n",
       "      <td>25.164250</td>\n",
       "      <td>NonICU</td>\n",
       "    </tr>\n",
       "    <tr>\n",
       "      <th>3</th>\n",
       "      <td>139.501402</td>\n",
       "      <td>23.521027</td>\n",
       "      <td>2.667220</td>\n",
       "      <td>0.315977</td>\n",
       "      <td>-30.980786</td>\n",
       "      <td>-19.253757</td>\n",
       "      <td>18.727682</td>\n",
       "      <td>-19.443347</td>\n",
       "      <td>-5.844582</td>\n",
       "      <td>1.496920</td>\n",
       "      <td>NonICU</td>\n",
       "    </tr>\n",
       "    <tr>\n",
       "      <th>4</th>\n",
       "      <td>-16.778022</td>\n",
       "      <td>-68.058041</td>\n",
       "      <td>13.772483</td>\n",
       "      <td>-36.179153</td>\n",
       "      <td>3.520074</td>\n",
       "      <td>25.704843</td>\n",
       "      <td>-14.620982</td>\n",
       "      <td>7.304374</td>\n",
       "      <td>-6.071422</td>\n",
       "      <td>-15.287169</td>\n",
       "      <td>NonICU</td>\n",
       "    </tr>\n",
       "  </tbody>\n",
       "</table>\n",
       "</div>"
      ],
      "text/plain": [
       "           c0         c1         c2         c3         c4         c5  \\\n",
       "0   98.978292   3.179455 -50.466519 -68.018814  41.951327 -29.427507   \n",
       "1   60.461812   8.919205 -12.488666  18.016099  14.403047 -30.671328   \n",
       "2  -29.814824 -29.978427 -49.322819 -34.830861  10.986114  28.420047   \n",
       "3  139.501402  23.521027   2.667220   0.315977 -30.980786 -19.253757   \n",
       "4  -16.778022 -68.058041  13.772483 -36.179153   3.520074  25.704843   \n",
       "\n",
       "          c6         c7        c8         c9 Severity  \n",
       "0  45.410357  22.015567  3.645744 -13.947239   NonICU  \n",
       "1  21.655229  -3.577396 -4.689619  15.744524   NonICU  \n",
       "2  -4.769721  33.351198 -2.076261  25.164250   NonICU  \n",
       "3  18.727682 -19.443347 -5.844582   1.496920   NonICU  \n",
       "4 -14.620982   7.304374 -6.071422 -15.287169   NonICU  "
      ]
     },
     "execution_count": 356,
     "metadata": {},
     "output_type": "execute_result"
    }
   ],
   "source": [
    "df_pca = pd.concat([pd.DataFrame(data = x_pca),\n",
    "df[['Severity']]],axis = 1)\n",
    "df_pca.columns = [\"c0\", \"c1\",\"c2\", \"c3\",\"c4\", \"c5\",\"c6\", \"c7\",\"c8\", \"c9\",\"Severity\"]\n",
    "df_pca.head()"
   ]
  },
  {
   "cell_type": "code",
   "execution_count": 357,
   "metadata": {},
   "outputs": [
    {
     "data": {
      "text/html": [
       "<div>\n",
       "<style scoped>\n",
       "    .dataframe tbody tr th:only-of-type {\n",
       "        vertical-align: middle;\n",
       "    }\n",
       "\n",
       "    .dataframe tbody tr th {\n",
       "        vertical-align: top;\n",
       "    }\n",
       "\n",
       "    .dataframe thead th {\n",
       "        text-align: right;\n",
       "    }\n",
       "</style>\n",
       "<table border=\"1\" class=\"dataframe\">\n",
       "  <thead>\n",
       "    <tr style=\"text-align: right;\">\n",
       "      <th></th>\n",
       "      <th>c0</th>\n",
       "      <th>c1</th>\n",
       "      <th>c2</th>\n",
       "      <th>c3</th>\n",
       "      <th>c4</th>\n",
       "      <th>c5</th>\n",
       "      <th>c6</th>\n",
       "      <th>c7</th>\n",
       "      <th>c8</th>\n",
       "      <th>c9</th>\n",
       "      <th>Severity</th>\n",
       "    </tr>\n",
       "  </thead>\n",
       "  <tbody>\n",
       "    <tr>\n",
       "      <th>0</th>\n",
       "      <td>98.978292</td>\n",
       "      <td>3.179455</td>\n",
       "      <td>-50.466519</td>\n",
       "      <td>-68.018814</td>\n",
       "      <td>41.951327</td>\n",
       "      <td>-29.427507</td>\n",
       "      <td>45.410357</td>\n",
       "      <td>22.015567</td>\n",
       "      <td>3.645744</td>\n",
       "      <td>-13.947239</td>\n",
       "      <td>0</td>\n",
       "    </tr>\n",
       "    <tr>\n",
       "      <th>1</th>\n",
       "      <td>60.461812</td>\n",
       "      <td>8.919205</td>\n",
       "      <td>-12.488666</td>\n",
       "      <td>18.016099</td>\n",
       "      <td>14.403047</td>\n",
       "      <td>-30.671328</td>\n",
       "      <td>21.655229</td>\n",
       "      <td>-3.577396</td>\n",
       "      <td>-4.689619</td>\n",
       "      <td>15.744524</td>\n",
       "      <td>0</td>\n",
       "    </tr>\n",
       "    <tr>\n",
       "      <th>2</th>\n",
       "      <td>-29.814824</td>\n",
       "      <td>-29.978427</td>\n",
       "      <td>-49.322819</td>\n",
       "      <td>-34.830861</td>\n",
       "      <td>10.986114</td>\n",
       "      <td>28.420047</td>\n",
       "      <td>-4.769721</td>\n",
       "      <td>33.351198</td>\n",
       "      <td>-2.076261</td>\n",
       "      <td>25.164250</td>\n",
       "      <td>0</td>\n",
       "    </tr>\n",
       "    <tr>\n",
       "      <th>3</th>\n",
       "      <td>139.501402</td>\n",
       "      <td>23.521027</td>\n",
       "      <td>2.667220</td>\n",
       "      <td>0.315977</td>\n",
       "      <td>-30.980786</td>\n",
       "      <td>-19.253757</td>\n",
       "      <td>18.727682</td>\n",
       "      <td>-19.443347</td>\n",
       "      <td>-5.844582</td>\n",
       "      <td>1.496920</td>\n",
       "      <td>0</td>\n",
       "    </tr>\n",
       "    <tr>\n",
       "      <th>4</th>\n",
       "      <td>-16.778022</td>\n",
       "      <td>-68.058041</td>\n",
       "      <td>13.772483</td>\n",
       "      <td>-36.179153</td>\n",
       "      <td>3.520074</td>\n",
       "      <td>25.704843</td>\n",
       "      <td>-14.620982</td>\n",
       "      <td>7.304374</td>\n",
       "      <td>-6.071422</td>\n",
       "      <td>-15.287169</td>\n",
       "      <td>0</td>\n",
       "    </tr>\n",
       "    <tr>\n",
       "      <th>...</th>\n",
       "      <td>...</td>\n",
       "      <td>...</td>\n",
       "      <td>...</td>\n",
       "      <td>...</td>\n",
       "      <td>...</td>\n",
       "      <td>...</td>\n",
       "      <td>...</td>\n",
       "      <td>...</td>\n",
       "      <td>...</td>\n",
       "      <td>...</td>\n",
       "      <td>...</td>\n",
       "    </tr>\n",
       "    <tr>\n",
       "      <th>121</th>\n",
       "      <td>-92.800291</td>\n",
       "      <td>78.742491</td>\n",
       "      <td>14.020826</td>\n",
       "      <td>-1.773632</td>\n",
       "      <td>-13.747459</td>\n",
       "      <td>4.698939</td>\n",
       "      <td>1.158678</td>\n",
       "      <td>1.379314</td>\n",
       "      <td>-10.924972</td>\n",
       "      <td>-15.334751</td>\n",
       "      <td>0</td>\n",
       "    </tr>\n",
       "    <tr>\n",
       "      <th>122</th>\n",
       "      <td>-60.282156</td>\n",
       "      <td>92.214475</td>\n",
       "      <td>-51.637397</td>\n",
       "      <td>-11.287626</td>\n",
       "      <td>-6.874595</td>\n",
       "      <td>-2.056443</td>\n",
       "      <td>2.790477</td>\n",
       "      <td>10.491232</td>\n",
       "      <td>12.602636</td>\n",
       "      <td>-14.775405</td>\n",
       "      <td>0</td>\n",
       "    </tr>\n",
       "    <tr>\n",
       "      <th>123</th>\n",
       "      <td>42.222124</td>\n",
       "      <td>63.433185</td>\n",
       "      <td>-23.410672</td>\n",
       "      <td>5.038637</td>\n",
       "      <td>-48.329080</td>\n",
       "      <td>-3.216211</td>\n",
       "      <td>0.858078</td>\n",
       "      <td>0.082085</td>\n",
       "      <td>4.682227</td>\n",
       "      <td>3.466785</td>\n",
       "      <td>0</td>\n",
       "    </tr>\n",
       "    <tr>\n",
       "      <th>124</th>\n",
       "      <td>-75.949997</td>\n",
       "      <td>136.469682</td>\n",
       "      <td>-16.977700</td>\n",
       "      <td>4.223213</td>\n",
       "      <td>-22.388645</td>\n",
       "      <td>19.980251</td>\n",
       "      <td>-13.818804</td>\n",
       "      <td>-13.528538</td>\n",
       "      <td>-9.350281</td>\n",
       "      <td>-29.431176</td>\n",
       "      <td>0</td>\n",
       "    </tr>\n",
       "    <tr>\n",
       "      <th>125</th>\n",
       "      <td>-140.186536</td>\n",
       "      <td>15.111361</td>\n",
       "      <td>50.331091</td>\n",
       "      <td>-8.251343</td>\n",
       "      <td>15.898268</td>\n",
       "      <td>0.302921</td>\n",
       "      <td>17.555968</td>\n",
       "      <td>14.261267</td>\n",
       "      <td>6.753151</td>\n",
       "      <td>-23.430880</td>\n",
       "      <td>1</td>\n",
       "    </tr>\n",
       "  </tbody>\n",
       "</table>\n",
       "<p>126 rows × 11 columns</p>\n",
       "</div>"
      ],
      "text/plain": [
       "             c0          c1         c2         c3         c4         c5  \\\n",
       "0     98.978292    3.179455 -50.466519 -68.018814  41.951327 -29.427507   \n",
       "1     60.461812    8.919205 -12.488666  18.016099  14.403047 -30.671328   \n",
       "2    -29.814824  -29.978427 -49.322819 -34.830861  10.986114  28.420047   \n",
       "3    139.501402   23.521027   2.667220   0.315977 -30.980786 -19.253757   \n",
       "4    -16.778022  -68.058041  13.772483 -36.179153   3.520074  25.704843   \n",
       "..          ...         ...        ...        ...        ...        ...   \n",
       "121  -92.800291   78.742491  14.020826  -1.773632 -13.747459   4.698939   \n",
       "122  -60.282156   92.214475 -51.637397 -11.287626  -6.874595  -2.056443   \n",
       "123   42.222124   63.433185 -23.410672   5.038637 -48.329080  -3.216211   \n",
       "124  -75.949997  136.469682 -16.977700   4.223213 -22.388645  19.980251   \n",
       "125 -140.186536   15.111361  50.331091  -8.251343  15.898268   0.302921   \n",
       "\n",
       "            c6         c7         c8         c9  Severity  \n",
       "0    45.410357  22.015567   3.645744 -13.947239         0  \n",
       "1    21.655229  -3.577396  -4.689619  15.744524         0  \n",
       "2    -4.769721  33.351198  -2.076261  25.164250         0  \n",
       "3    18.727682 -19.443347  -5.844582   1.496920         0  \n",
       "4   -14.620982   7.304374  -6.071422 -15.287169         0  \n",
       "..         ...        ...        ...        ...       ...  \n",
       "121   1.158678   1.379314 -10.924972 -15.334751         0  \n",
       "122   2.790477  10.491232  12.602636 -14.775405         0  \n",
       "123   0.858078   0.082085   4.682227   3.466785         0  \n",
       "124 -13.818804 -13.528538  -9.350281 -29.431176         0  \n",
       "125  17.555968  14.261267   6.753151 -23.430880         1  \n",
       "\n",
       "[126 rows x 11 columns]"
      ]
     },
     "execution_count": 357,
     "metadata": {},
     "output_type": "execute_result"
    }
   ],
   "source": [
    "df_pca['Severity'].replace(to_replace=['NonICU', 'ICU'], value=[0, 1], inplace=True)\n",
    "df_pca"
   ]
  },
  {
   "cell_type": "code",
   "execution_count": 358,
   "metadata": {},
   "outputs": [],
   "source": [
    "X_df_pca=df_pca.drop(columns=['Severity'])\n",
    "y_df_pca=df_pca['Severity']"
   ]
  },
  {
   "cell_type": "code",
   "execution_count": 359,
   "metadata": {},
   "outputs": [
    {
     "data": {
      "text/html": [
       "<div>\n",
       "<style scoped>\n",
       "    .dataframe tbody tr th:only-of-type {\n",
       "        vertical-align: middle;\n",
       "    }\n",
       "\n",
       "    .dataframe tbody tr th {\n",
       "        vertical-align: top;\n",
       "    }\n",
       "\n",
       "    .dataframe thead th {\n",
       "        text-align: right;\n",
       "    }\n",
       "</style>\n",
       "<table border=\"1\" class=\"dataframe\">\n",
       "  <thead>\n",
       "    <tr style=\"text-align: right;\">\n",
       "      <th></th>\n",
       "      <th>c0</th>\n",
       "      <th>c1</th>\n",
       "      <th>c2</th>\n",
       "      <th>c3</th>\n",
       "      <th>c4</th>\n",
       "      <th>c5</th>\n",
       "      <th>c6</th>\n",
       "      <th>c7</th>\n",
       "      <th>c8</th>\n",
       "      <th>c9</th>\n",
       "    </tr>\n",
       "  </thead>\n",
       "  <tbody>\n",
       "    <tr>\n",
       "      <th>0</th>\n",
       "      <td>98.978292</td>\n",
       "      <td>3.179455</td>\n",
       "      <td>-50.466519</td>\n",
       "      <td>-68.018814</td>\n",
       "      <td>41.951327</td>\n",
       "      <td>-29.427507</td>\n",
       "      <td>45.410357</td>\n",
       "      <td>22.015567</td>\n",
       "      <td>3.645744</td>\n",
       "      <td>-13.947239</td>\n",
       "    </tr>\n",
       "    <tr>\n",
       "      <th>1</th>\n",
       "      <td>60.461812</td>\n",
       "      <td>8.919205</td>\n",
       "      <td>-12.488666</td>\n",
       "      <td>18.016099</td>\n",
       "      <td>14.403047</td>\n",
       "      <td>-30.671328</td>\n",
       "      <td>21.655229</td>\n",
       "      <td>-3.577396</td>\n",
       "      <td>-4.689619</td>\n",
       "      <td>15.744524</td>\n",
       "    </tr>\n",
       "    <tr>\n",
       "      <th>2</th>\n",
       "      <td>-29.814824</td>\n",
       "      <td>-29.978427</td>\n",
       "      <td>-49.322819</td>\n",
       "      <td>-34.830861</td>\n",
       "      <td>10.986114</td>\n",
       "      <td>28.420047</td>\n",
       "      <td>-4.769721</td>\n",
       "      <td>33.351198</td>\n",
       "      <td>-2.076261</td>\n",
       "      <td>25.164250</td>\n",
       "    </tr>\n",
       "    <tr>\n",
       "      <th>3</th>\n",
       "      <td>139.501402</td>\n",
       "      <td>23.521027</td>\n",
       "      <td>2.667220</td>\n",
       "      <td>0.315977</td>\n",
       "      <td>-30.980786</td>\n",
       "      <td>-19.253757</td>\n",
       "      <td>18.727682</td>\n",
       "      <td>-19.443347</td>\n",
       "      <td>-5.844582</td>\n",
       "      <td>1.496920</td>\n",
       "    </tr>\n",
       "    <tr>\n",
       "      <th>4</th>\n",
       "      <td>-16.778022</td>\n",
       "      <td>-68.058041</td>\n",
       "      <td>13.772483</td>\n",
       "      <td>-36.179153</td>\n",
       "      <td>3.520074</td>\n",
       "      <td>25.704843</td>\n",
       "      <td>-14.620982</td>\n",
       "      <td>7.304374</td>\n",
       "      <td>-6.071422</td>\n",
       "      <td>-15.287169</td>\n",
       "    </tr>\n",
       "    <tr>\n",
       "      <th>...</th>\n",
       "      <td>...</td>\n",
       "      <td>...</td>\n",
       "      <td>...</td>\n",
       "      <td>...</td>\n",
       "      <td>...</td>\n",
       "      <td>...</td>\n",
       "      <td>...</td>\n",
       "      <td>...</td>\n",
       "      <td>...</td>\n",
       "      <td>...</td>\n",
       "    </tr>\n",
       "    <tr>\n",
       "      <th>121</th>\n",
       "      <td>-92.800291</td>\n",
       "      <td>78.742491</td>\n",
       "      <td>14.020826</td>\n",
       "      <td>-1.773632</td>\n",
       "      <td>-13.747459</td>\n",
       "      <td>4.698939</td>\n",
       "      <td>1.158678</td>\n",
       "      <td>1.379314</td>\n",
       "      <td>-10.924972</td>\n",
       "      <td>-15.334751</td>\n",
       "    </tr>\n",
       "    <tr>\n",
       "      <th>122</th>\n",
       "      <td>-60.282156</td>\n",
       "      <td>92.214475</td>\n",
       "      <td>-51.637397</td>\n",
       "      <td>-11.287626</td>\n",
       "      <td>-6.874595</td>\n",
       "      <td>-2.056443</td>\n",
       "      <td>2.790477</td>\n",
       "      <td>10.491232</td>\n",
       "      <td>12.602636</td>\n",
       "      <td>-14.775405</td>\n",
       "    </tr>\n",
       "    <tr>\n",
       "      <th>123</th>\n",
       "      <td>42.222124</td>\n",
       "      <td>63.433185</td>\n",
       "      <td>-23.410672</td>\n",
       "      <td>5.038637</td>\n",
       "      <td>-48.329080</td>\n",
       "      <td>-3.216211</td>\n",
       "      <td>0.858078</td>\n",
       "      <td>0.082085</td>\n",
       "      <td>4.682227</td>\n",
       "      <td>3.466785</td>\n",
       "    </tr>\n",
       "    <tr>\n",
       "      <th>124</th>\n",
       "      <td>-75.949997</td>\n",
       "      <td>136.469682</td>\n",
       "      <td>-16.977700</td>\n",
       "      <td>4.223213</td>\n",
       "      <td>-22.388645</td>\n",
       "      <td>19.980251</td>\n",
       "      <td>-13.818804</td>\n",
       "      <td>-13.528538</td>\n",
       "      <td>-9.350281</td>\n",
       "      <td>-29.431176</td>\n",
       "    </tr>\n",
       "    <tr>\n",
       "      <th>125</th>\n",
       "      <td>-140.186536</td>\n",
       "      <td>15.111361</td>\n",
       "      <td>50.331091</td>\n",
       "      <td>-8.251343</td>\n",
       "      <td>15.898268</td>\n",
       "      <td>0.302921</td>\n",
       "      <td>17.555968</td>\n",
       "      <td>14.261267</td>\n",
       "      <td>6.753151</td>\n",
       "      <td>-23.430880</td>\n",
       "    </tr>\n",
       "  </tbody>\n",
       "</table>\n",
       "<p>126 rows × 10 columns</p>\n",
       "</div>"
      ],
      "text/plain": [
       "             c0          c1         c2         c3         c4         c5  \\\n",
       "0     98.978292    3.179455 -50.466519 -68.018814  41.951327 -29.427507   \n",
       "1     60.461812    8.919205 -12.488666  18.016099  14.403047 -30.671328   \n",
       "2    -29.814824  -29.978427 -49.322819 -34.830861  10.986114  28.420047   \n",
       "3    139.501402   23.521027   2.667220   0.315977 -30.980786 -19.253757   \n",
       "4    -16.778022  -68.058041  13.772483 -36.179153   3.520074  25.704843   \n",
       "..          ...         ...        ...        ...        ...        ...   \n",
       "121  -92.800291   78.742491  14.020826  -1.773632 -13.747459   4.698939   \n",
       "122  -60.282156   92.214475 -51.637397 -11.287626  -6.874595  -2.056443   \n",
       "123   42.222124   63.433185 -23.410672   5.038637 -48.329080  -3.216211   \n",
       "124  -75.949997  136.469682 -16.977700   4.223213 -22.388645  19.980251   \n",
       "125 -140.186536   15.111361  50.331091  -8.251343  15.898268   0.302921   \n",
       "\n",
       "            c6         c7         c8         c9  \n",
       "0    45.410357  22.015567   3.645744 -13.947239  \n",
       "1    21.655229  -3.577396  -4.689619  15.744524  \n",
       "2    -4.769721  33.351198  -2.076261  25.164250  \n",
       "3    18.727682 -19.443347  -5.844582   1.496920  \n",
       "4   -14.620982   7.304374  -6.071422 -15.287169  \n",
       "..         ...        ...        ...        ...  \n",
       "121   1.158678   1.379314 -10.924972 -15.334751  \n",
       "122   2.790477  10.491232  12.602636 -14.775405  \n",
       "123   0.858078   0.082085   4.682227   3.466785  \n",
       "124 -13.818804 -13.528538  -9.350281 -29.431176  \n",
       "125  17.555968  14.261267   6.753151 -23.430880  \n",
       "\n",
       "[126 rows x 10 columns]"
      ]
     },
     "execution_count": 359,
     "metadata": {},
     "output_type": "execute_result"
    }
   ],
   "source": [
    "X_df_pca"
   ]
  },
  {
   "cell_type": "code",
   "execution_count": 360,
   "metadata": {},
   "outputs": [
    {
     "name": "stdout",
     "output_type": "stream",
     "text": [
      "[[12  9]\n",
      " [ 6 11]]\n"
     ]
    },
    {
     "data": {
      "text/plain": [
       "(88, 10)"
      ]
     },
     "execution_count": 360,
     "metadata": {},
     "output_type": "execute_result"
    }
   ],
   "source": [
    "\n",
    "X_train, X_test, y_train, y_test = train_test_split(X_df_pca,y_df_pca,\n",
    "                                                    test_size\n",
    "                                                    =0.30,random_state=42)\n",
    "\n",
    "X_train=scaler.fit_transform(X_train)\n",
    "X_test=scaler.transform(X_test)\n",
    "knn=KNeighborsClassifier()\n",
    "knn.fit(X_train,y_train)\n",
    "y_pred_test=knn.predict(X_test)\n",
    "\n",
    "print(confusion_matrix(y_test,y_pred_test))\n",
    "X_train.shape"
   ]
  },
  {
   "cell_type": "code",
   "execution_count": 365,
   "metadata": {},
   "outputs": [
    {
     "data": {
      "image/png": "[encoded data removed]",
      "text/plain": [
       "<Figure size 432x288 with 2 Axes>"
      ]
     },
     "metadata": {
      "needs_background": "light"
     },
     "output_type": "display_data"
    }
   ],
   "source": [
    "plot_confusion_matrix(knn,X_test,y_test,display_labels=['NonICU','ICU'],normalize='true',cmap='Blues');"
   ]
  },
  {
   "cell_type": "code",
   "execution_count": 366,
   "metadata": {},
   "outputs": [],
   "source": [
    "error_rate = []\n",
    "\n",
    "# Will take some time\n",
    "for i in range(1,40):\n",
    "    \n",
    "    knn = KNeighborsClassifier(n_neighbors=i)\n",
    "    knn.fit(X_train,y_train)\n",
    "    pred_i = knn.predict(X_test)\n",
    "    error_rate.append(np.mean(pred_i != y_test))"
   ]
  },
  {
   "cell_type": "code",
   "execution_count": 367,
   "metadata": {},
   "outputs": [
    {
     "data": {
      "text/plain": [
       "Text(0, 0.5, 'Error Rate')"
      ]
     },
     "execution_count": 367,
     "metadata": {},
     "output_type": "execute_result"
    },
    {
     "data": {
      "image/png": "[encoded data removed]",
      "text/plain": [
       "<Figure size 720x432 with 1 Axes>"
      ]
     },
     "metadata": {
      "needs_background": "light"
     },
     "output_type": "display_data"
    }
   ],
   "source": [
    "plt.figure(figsize=(10,6))\n",
    "plt.plot(range(1,40),error_rate,color='blue', linestyle='dashed', marker='o',\n",
    "         markerfacecolor='red', markersize=10)\n",
    "plt.title('Error Rate vs. K Value')\n",
    "plt.xlabel('K')\n",
    "plt.ylabel('Error Rate')"
   ]
  },
  {
   "cell_type": "code",
   "execution_count": 368,
   "metadata": {},
   "outputs": [
    {
     "name": "stdout",
     "output_type": "stream",
     "text": [
      "WITH K=25\n",
      "\n",
      "\n",
      "[[11 10]\n",
      " [ 0 17]]\n",
      "\n",
      "\n",
      "              precision    recall  f1-score   support\n",
      "\n",
      "           0       1.00      0.52      0.69        21\n",
      "           1       0.63      1.00      0.77        17\n",
      "\n",
      "    accuracy                           0.74        38\n",
      "   macro avg       0.81      0.76      0.73        38\n",
      "weighted avg       0.83      0.74      0.73        38\n",
      "\n"
     ]
    }
   ],
   "source": [
    "\n",
    "\n",
    "# NOW WITH K=30\n",
    "knn = KNeighborsClassifier(n_neighbors=28)\n",
    "\n",
    "knn.fit(X_train,y_train)\n",
    "pred = knn.predict(X_test)\n",
    "\n",
    "print('WITH K=25')\n",
    "print('\\n')\n",
    "print(confusion_matrix(y_test,pred))\n",
    "print('\\n')\n",
    "print(classification_report(y_test,pred))\n",
    "\n"
   ]
  },
  {
   "cell_type": "code",
   "execution_count": 369,
   "metadata": {},
   "outputs": [
    {
     "data": {
      "image/png": "[encoded data removed]",
      "text/plain": [
       "<Figure size 432x288 with 2 Axes>"
      ]
     },
     "metadata": {
      "needs_background": "light"
     },
     "output_type": "display_data"
    }
   ],
   "source": [
    "plot_confusion_matrix(knn,X_test,y_test,display_labels=['NonICU','ICU'],normalize='true',cmap='Blues');"
   ]
  },
  {
   "cell_type": "code",
   "execution_count": 338,
   "metadata": {},
   "outputs": [
    {
     "name": "stdout",
     "output_type": "stream",
     "text": [
      "Test Accuracy: 0.7368421052631579\n",
      "Training Accuracy: 0.7159090909090909\n"
     ]
    }
   ],
   "source": [
    "print('Test Accuracy:', knn.score(X_test, y_test))\n",
    "print('Training Accuracy:', knn.score(X_train, y_train))"
   ]
  },
  {
   "cell_type": "code",
   "execution_count": 339,
   "metadata": {},
   "outputs": [
    {
     "data": {
      "text/plain": [
       "<matplotlib.legend.Legend at 0x2919507a30>"
      ]
     },
     "execution_count": 339,
     "metadata": {},
     "output_type": "execute_result"
    },
    {
     "data": {
      "image/png": "[encoded data removed]",
      "text/plain": [
       "<Figure size 432x288 with 1 Axes>"
      ]
     },
     "metadata": {
      "needs_background": "light"
     },
     "output_type": "display_data"
    }
   ],
   "source": [
    "# To plot test accuracy and train accuracy Vs K value.\n",
    "p = list(range(1, 80))\n",
    "lst_test =[]\n",
    "lst_train =[]\n",
    "from sklearn.neighbors import KNeighborsRegressor\n",
    "for i in p:\n",
    "    \n",
    "    knn = KNeighborsRegressor(n_neighbors = i)\n",
    "    knn.fit(X_train, y_train)\n",
    "    z = knn.score(X_test, y_test)\n",
    "    t = knn.score(X_train, y_train)\n",
    "    lst_test.append(z)\n",
    "    lst_train.append(t)\n",
    "      \n",
    "plt.plot(p, lst_test, color ='red', label ='Test Accuracy')\n",
    "plt.plot(p, lst_train, color ='b', label ='Train Accuracy')\n",
    "plt.xlabel('K VALUES --->')\n",
    "plt.title('FINDING BEST VALUE FOR K')\n",
    "plt.legend()"
   ]
  },
  {
   "cell_type": "markdown",
   "metadata": {},
   "source": [
    "From the above graph, we can conclude that when K is small i.e. K=1, Training Accuracy is High but Test Accuracy is Low which means the model is over-fitting ( High Variance or High Model Complexity). When the value of K is large i.e. K=50, Training Accuracy is Low as well as Test Accuracy is Low which means the model is under-fitting ( High Bias or Low Model Complexity ).\n",
    "\n",
    "So Hyperparameter tuning is necessary i.e. to select the best value of K in KNN algorithm for which the model has Low Bias and Low Variance and results in a good model with high out of sample accuracy."
   ]
  },
  {
   "cell_type": "code",
   "execution_count": 277,
   "metadata": {},
   "outputs": [
    {
     "name": "stdout",
     "output_type": "stream",
     "text": [
      "[0.5789473684210527, 0.5526315789473685, 0.4473684210526316, 0.5789473684210527, 0.4473684210526316, 0.5, 0.5263157894736842, 0.5526315789473685, 0.5, 0.5263157894736842, 0.47368421052631576, 0.47368421052631576, 0.47368421052631576, 0.4473684210526316, 0.47368421052631576, 0.47368421052631576, 0.47368421052631576, 0.47368421052631576, 0.47368421052631576, 0.47368421052631576, 0.47368421052631576, 0.47368421052631576, 0.4473684210526316, 0.4473684210526316, 0.4473684210526316]\n"
     ]
    }
   ],
   "source": [
    "import sklearn.metrics as metrics\n",
    "\n",
    "# try K=1 through K=25 and record testing accuracy\n",
    "k_range = range(1, 26)\n",
    "\n",
    "# We can create Python dictionary using [] or dict()\n",
    "scores = []\n",
    "\n",
    "# We use a loop through the range 1 to 26\n",
    "# We append the scores in the dictionary\n",
    "for k in k_range:\n",
    "    knn = KNeighborsClassifier(n_neighbors=k)\n",
    "    knn.fit(X_train, y_train)\n",
    "    y_pred = knn.predict(X_test)\n",
    "    scores.append(metrics.accuracy_score(y_test, y_pred))\n",
    "\n",
    "print(scores)"
   ]
  },
  {
   "cell_type": "markdown",
   "metadata": {},
   "source": [
    "Training accuracy rises as model complexity increases\n",
    "Testing accuracy penalizes models that are too complex or not complex enough\n",
    "For KNN models, complexity is determined by the value of K (lower value = more complex)"
   ]
  },
  {
   "cell_type": "code",
   "execution_count": 278,
   "metadata": {},
   "outputs": [],
   "source": [
    "# import k-folder\n",
    "from sklearn.model_selection import cross_val_score\n"
   ]
  },
  {
   "cell_type": "code",
   "execution_count": 279,
   "metadata": {},
   "outputs": [],
   "source": [
    "knn = KNeighborsClassifier(n_neighbors = 13)"
   ]
  },
  {
   "cell_type": "code",
   "execution_count": 280,
   "metadata": {},
   "outputs": [],
   "source": [
    "scores = cross_val_score(knn, X_df_pca, y_df_pca, cv=5, scoring='accuracy')\n"
   ]
  },
  {
   "cell_type": "code",
   "execution_count": 281,
   "metadata": {},
   "outputs": [
    {
     "name": "stdout",
     "output_type": "stream",
     "text": [
      "[0.76923077 0.92       0.76       0.64       0.6       ]\n"
     ]
    }
   ],
   "source": [
    "print(scores)\n"
   ]
  },
  {
   "cell_type": "code",
   "execution_count": 282,
   "metadata": {},
   "outputs": [
    {
     "name": "stdout",
     "output_type": "stream",
     "text": [
      "0.7378461538461539\n"
     ]
    }
   ],
   "source": [
    "print(scores.mean())"
   ]
  },
  {
   "cell_type": "code",
   "execution_count": 283,
   "metadata": {},
   "outputs": [
    {
     "data": {
      "image/png": "[encoded data removed]",
      "text/plain": [
       "<Figure size 432x288 with 1 Axes>"
      ]
     },
     "metadata": {
      "needs_background": "light"
     },
     "output_type": "display_data"
    }
   ],
   "source": [
    "import matplotlib.pyplot as plt \n",
    "%matplotlib inline\n",
    "# choose k between 1 to 31\n",
    "k_range = range(1, 31)\n",
    "k_scores = []\n",
    "# use iteration to caclulator different k in models, then return the average accuracy based on the cross validation\n",
    "for k in k_range:\n",
    "    knn = KNeighborsClassifier(n_neighbors=k)\n",
    "    scores = cross_val_score(knn, X_df_pca, y_df_pca, cv=5, scoring='accuracy')\n",
    "    k_scores.append(scores.mean())\n",
    "# plot to see clearly\n",
    "plt.plot(k_range, k_scores)\n",
    "plt.xlabel('Value of K for KNN')\n",
    "plt.ylabel('Cross-Validated Accuracy')\n",
    "plt.show()"
   ]
  },
  {
   "cell_type": "markdown",
   "metadata": {},
   "source": [
    "As we can see the best K is between 8,others  due to under-fitting."
   ]
  },
  {
   "cell_type": "code",
   "execution_count": 284,
   "metadata": {},
   "outputs": [
    {
     "data": {
      "image/png": "[encoded data removed]",
      "text/plain": [
       "<Figure size 432x288 with 1 Axes>"
      ]
     },
     "metadata": {
      "needs_background": "light"
     },
     "output_type": "display_data"
    }
   ],
   "source": [
    "import matplotlib.pyplot as plt\n",
    "k_range = range(1, 31)\n",
    "k_scores = []\n",
    "for k in k_range:\n",
    "    knn = KNeighborsClassifier(n_neighbors=k)\n",
    "    loss = abs(cross_val_score(knn, X_df_pca, y_df_pca, cv=5, scoring='neg_mean_squared_error'))\n",
    "    k_scores.append(loss.mean())\n",
    "plt.plot(k_range, k_scores)\n",
    "plt.xlabel('Value of K for KNN')\n",
    "plt.ylabel('Cross-Validated MSE')\n",
    "plt.show()\n"
   ]
  },
  {
   "cell_type": "code",
   "execution_count": 340,
   "metadata": {},
   "outputs": [],
   "source": [
    "logit_model = LogisticRegression().fit(X_train, y_train)"
   ]
  },
  {
   "cell_type": "code",
   "execution_count": 341,
   "metadata": {},
   "outputs": [],
   "source": [
    "y_predict_proba = logit_model.predict_proba(X_test)\n"
   ]
  },
  {
   "cell_type": "code",
   "execution_count": 342,
   "metadata": {},
   "outputs": [],
   "source": [
    "cutoff = 0.5\n",
    "y_predict = [int(proba[1] > cutoff) for proba in y_predict_proba]"
   ]
  },
  {
   "cell_type": "code",
   "execution_count": 344,
   "metadata": {},
   "outputs": [
    {
     "name": "stdout",
     "output_type": "stream",
     "text": [
      "[[18  3]\n",
      " [ 5 12]]\n",
      "Accuracy:  0.79\n",
      "Precision: 0.80\n",
      "Recall:    0.71\n"
     ]
    }
   ],
   "source": [
    "M = confusion_matrix(y_test, y_predict)\n",
    "n_samples = len(y_test)\n",
    "print(M)\n",
    "print('Accuracy:  %.2f' % ((M[0][0] + M[1][1]) / n_samples))\n",
    "print('Precision: %.2f' % (M[1][1] / (M[0][1] + M[1][1])))\n",
    "print('Recall:    %.2f' % (M[1][1] / (M[1][0] + M[1][1])))"
   ]
  },
  {
   "cell_type": "code",
   "execution_count": 289,
   "metadata": {},
   "outputs": [
    {
     "data": {
      "text/plain": [
       "RandomForestClassifier(criterion='entropy', n_estimators=500, random_state=0)"
      ]
     },
     "execution_count": 289,
     "metadata": {},
     "output_type": "execute_result"
    }
   ],
   "source": [
    "#Fitting Classifier to the Training set\n",
    "from sklearn.ensemble import RandomForestClassifier\n",
    "classifier = RandomForestClassifier(n_estimators=500  ,criterion='entropy',random_state=0)\n",
    "classifier.fit(X_train,y_train)"
   ]
  },
  {
   "cell_type": "code",
   "execution_count": 290,
   "metadata": {},
   "outputs": [],
   "source": [
    "#Predicting The Test Results\n",
    "y_pred = classifier.predict(X_test)"
   ]
  },
  {
   "cell_type": "code",
   "execution_count": 291,
   "metadata": {},
   "outputs": [
    {
     "name": "stdout",
     "output_type": "stream",
     "text": [
      "The Confusion Matrix :\n",
      "[[12  9]\n",
      " [ 5 12]]\n",
      "Accuracy Percentage :  63.1578947368421 %\n"
     ]
    }
   ],
   "source": [
    "#Making the confusion MAtrix\n",
    "from sklearn.metrics import confusion_matrix,accuracy_score\n",
    "cm = confusion_matrix(y_test,y_pred)\n",
    "ac = accuracy_score(y_test,y_pred)\n",
    "print(\"The Confusion Matrix :\")\n",
    "print(cm)\n",
    "print(\"Accuracy Percentage : \",ac*100,\"%\")\n"
   ]
  },
  {
   "cell_type": "code",
   "execution_count": null,
   "metadata": {},
   "outputs": [],
   "source": []
  },
  {
   "cell_type": "code",
   "execution_count": null,
   "metadata": {},
   "outputs": [],
   "source": []
  },
  {
   "cell_type": "code",
   "execution_count": null,
   "metadata": {},
   "outputs": [],
   "source": []
  }
 ],
 "metadata": {
  "kernelspec": {
   "display_name": "Python 3",
   "language": "python",
   "name": "python3"
  },
  "language_info": {
   "codemirror_mode": {
    "name": "ipython",
    "version": 3
   },
   "file_extension": ".py",
   "mimetype": "text/x-python",
   "name": "python",
   "nbconvert_exporter": "python",
   "pygments_lexer": "ipython3",
   "version": "3.8.3"
  }
 },
 "nbformat": 4,
 "nbformat_minor": 4
}
